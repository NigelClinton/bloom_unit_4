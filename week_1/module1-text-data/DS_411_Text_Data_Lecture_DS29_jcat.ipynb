{
  "nbformat": 4,
  "nbformat_minor": 2,
  "metadata": {
    "celltoolbar": "Create Assignment",
    "colab": {
      "name": "DS_411_Text_Data_Lecture_DS29_jcat.ipynb",
      "provenance": [],
      "collapsed_sections": []
    },
    "kernelspec": {
      "name": "python3",
      "display_name": "Python 3.9.1 64-bit"
    },
    "language_info": {
      "codemirror_mode": {
        "name": "ipython",
        "version": 3
      },
      "file_extension": ".py",
      "mimetype": "text/x-python",
      "name": "python",
      "nbconvert_exporter": "python",
      "pygments_lexer": "ipython3",
      "version": "3.9.1"
    },
    "toc-autonumbering": false,
    "toc-showcode": false,
    "toc-showmarkdowntxt": false,
    "interpreter": {
      "hash": "b56204e04fac71cbe4e15d7b3dab17d89d2f24d87d00adcaa585640e5d78c50d"
    }
  },
  "cells": [
    {
      "cell_type": "markdown",
      "source": [
        "Lambda School Data Science\n",
        "\n",
        "*Unit 4, Sprint 1, Module 1*\n",
        "\n",
        "---\n",
        "<h1 id=\"moduleTitle\"> Natural Language Processing Introduction (Prepare)</h1>\n",
        "\n",
        "\"Natural\" meaning - not computer languages but spoken/written human languages. The hard thing about NLP is that human languages are far less structured or consistent than computer languages. This is perhaps the largest source of difficulty when trying to get computers to \"understand\" human languages. How do you get a machine to understand sarcasm, and irony, and synonyms, connotation, denotation, nuance, and tone of voice --all without it having lived a lifetime of experience for context? If you think about it, our human brains have been exposed to quite a lot of training data to help us interpret languages, and even then we misunderstand each other pretty frequently. \n",
        "    \n",
        "\n",
        "<h2 id='moduleObjectives'>Learning Objectives</h2>\n",
        "\n",
        "By the end of end of this module, a student should be able to:\n",
        "* <a href=\"#p1\">Objective 1</a>: Tokenize text\n",
        "* <a href=\"#p1\">Objective 2</a>: Remove stop words from text\n",
        "* <a href=\"#p3\">Objective 3</a>: Perform stemming and lemmatization on tokens\n",
        "\n",
        "## Conda Environments (OMIT)\n",
        "\n",
        "You will be completing each module this sprint on your machine. We will be using conda environments to manage the packages and their dependencies for this sprint's content. In a classroom setting, instructors typically abstract away environment for you. However, environment management is an important professional data science skill. We showed you how to manage environments using pipvirtual env during Unit 3, but in this sprint, we will introduce an environment management tool common in the data science community: \n",
        "\n",
        "> __conda__: Package, dependency and environment management for any language—Python, R, Ruby, Lua, Scala, Java, JavaScript, C/ C++, FORTRAN, and more.\n",
        "\n",
        "The easiest way to install conda on your machine is via the [Anaconda Distribution](https://www.anaconda.com/distribution/) of Python & R. Once you have conda installed, read [\"A Guide to Conda Environments\"](https://towardsdatascience.com/a-guide-to-conda-environments-bc6180fc533). This article will provide an introduce into some of the conda basics. If you need some additional help getting started, the official [\"Setting started with conda\"](https://conda.io/projects/conda/en/latest/user-guide/getting-started.html) guide will point you in the right direction. \n",
        "\n",
        ":snake: \n",
        "\n",
        "To get the sprint environment setup: \n",
        "\n",
        "1. Open your command line tool (Terminal for MacOS, Anaconda Prompt for Windows)\n",
        "2. Navigate to the folder with this sprint's content. There should be a `requirements.txt`\n",
        "3. Run `conda create -n U4-S1-NLP python==3.7` => You can also rename the environment if you would like. Once the command completes, your conda environment should be ready.\n",
        "4. Now, we are going to add in the require python packages for this sprint. You will need to 'activate' the conda environment: `source activate U4-S1-NLP` on Terminal or `conda activate U4-S1-NLP` on Anaconda Prompt. Once your environment is activate, run `pip install -r requirements.txt` which will install the required packages into your environment.\n",
        "5. We are going to also add an Ipython Kernel reference to your conda environment, so we can use it from JupyterLab. \n",
        "6. Next run `python -m ipykernel install --user --name U4-S1-NLP --display-name \"U4-S1-NLP (Python3)\"` => This will add a json object to an ipython file, so JupterLab will know that it can use this isolated instance of Python. :) \n",
        "7. Last step, we need to install the models for Spacy. Run these commands `python -m spacy download en_core_web_md` and `python -m spacy download en_core_web_lg`\n",
        "8. Deactivate your conda environment and launch JupyterLab. You should know see \"U4-S1-NLP (Python3)\" in the list of available kernels on launch screen. "
      ],
      "metadata": {
        "id": "BlwQRqffGEqb",
        "toc-hr-collapsed": false
      }
    },
    {
      "cell_type": "markdown",
      "source": [
        "# 0. Colab notebook setup\n",
        "Start running the notebook here."
      ],
      "metadata": {
        "id": "sHZ4U1lF-M-c"
      }
    },
    {
      "cell_type": "markdown",
      "source": [
        "## 0.1 Download the required spacy module that we'll use later\n",
        "*Note -- you need to restart the runtime right after running this cell!*"
      ],
      "metadata": {
        "id": "VH_AoWHJ7NGQ"
      }
    },
    {
      "cell_type": "code",
      "execution_count": null,
      "source": [
        "%%time\r\n",
        "# You'll use en_core_web_sm for the sprint challenge due memory constraints on Codegrader\r\n",
        "#!python -m spacy download en_core_web_sm \r\n",
        "\r\n",
        "# Locally (or on colab) let's use en_core_web_lg \r\n",
        "!python -m spacy download en_core_web_md # Can do lg, takes awhile\r\n",
        "# Also on Colab, need to restart runtime after this step!\r\n",
        "#      or else Colab won't find spacy"
      ],
      "outputs": [],
      "metadata": {
        "collapsed": true,
        "jupyter": {
          "outputs_hidden": true
        },
        "id": "JF7hVeqIooWq",
        "colab": {
          "base_uri": "https://localhost:8080/"
        },
        "outputId": "d808ed63-797c-423a-ca59-15a7ef518b77"
      }
    },
    {
      "cell_type": "markdown",
      "source": [
        "## 0.2 Restart the runtime!\n",
        "Click on \"Runtime\" in the menu bar, and select \"Restart runtime\" from the dropdown menu."
      ],
      "metadata": {
        "id": "qthwLIBYVlYz"
      }
    },
    {
      "cell_type": "markdown",
      "source": [
        "## 0.3 Install dependencies"
      ],
      "metadata": {
        "id": "PvLHLWZQWAFx"
      }
    },
    {
      "cell_type": "code",
      "execution_count": null,
      "source": [
        "# Dependencies for the week (instead of conda)\r\n",
        "# Run if you're using colab, otherwise you should have a local copy of the data\r\n",
        "!wget https://raw.githubusercontent.com/LambdaSchool/DS-Unit-4-Sprint-1-NLP/main/requirements.txt\r\n",
        "!pip install -r requirements.txt"
      ],
      "outputs": [],
      "metadata": {
        "id": "M9ujLvkrooWo",
        "colab": {
          "base_uri": "https://localhost:8080/"
        },
        "outputId": "2adc2b33-5197-47dc-8589-09b4d770f3f7"
      }
    },
    {
      "cell_type": "markdown",
      "source": [
        "##0.4 Import libraries and load packages"
      ],
      "metadata": {
        "id": "VGa7EsgFOsJj"
      }
    },
    {
      "cell_type": "code",
      "execution_count": 57,
      "source": [
        "%%time\r\n",
        "\"\"\"\r\n",
        "Import Statements\r\n",
        "\"\"\"\r\n",
        "\r\n",
        "# Base\r\n",
        "from collections import Counter\r\n",
        "import re\r\n",
        " \r\n",
        "import pandas as pd\r\n",
        "\r\n",
        "# Plotting\r\n",
        "import squarify\r\n",
        "import matplotlib.pyplot as plt\r\n",
        "import seaborn as sns\r\n",
        "\r\n",
        "# NLP Libraries\r\n",
        "import spacy\r\n",
        "from spacy.tokenizer import Tokenizer\r\n",
        "from nltk.stem import PorterStemmer"
      ],
      "outputs": [
        {
          "output_type": "stream",
          "name": "stdout",
          "text": [
            "Wall time: 0 ns\n"
          ]
        }
      ],
      "metadata": {
        "id": "8Ap1zL81GErA",
        "colab": {
          "base_uri": "https://localhost:8080/"
        },
        "outputId": "553df505-42e3-4c2e-b876-fdb013c8b6bd"
      }
    },
    {
      "cell_type": "markdown",
      "source": [
        "## 0.5 Get the Amazon reviews data and `unzip` it\n",
        "We can access the Amazon reviews data in this Colab notebook by cloning the `Unit-4-Sprint-1` repo!"
      ],
      "metadata": {
        "id": "tqPsjNAs8VDl"
      }
    },
    {
      "cell_type": "code",
      "execution_count": 2,
      "source": [
        "# clone the Unit-4-Sprint-1 repo\r\n",
        "!git clone https://github.com/LambdaSchool/DS-Unit-4-Sprint-1-NLP.git\r\n",
        "# Find the path to the reviews data zip file, using the file icon on the left sidebar\r\n",
        "!unzip /content/DS-Unit-4-Sprint-1-NLP/module1-text-data/data/Datafiniti_Amazon_Consumer_Reviews_of_Amazon_Products_May19.csv.zip"
      ],
      "outputs": [
        {
          "output_type": "stream",
          "name": "stderr",
          "text": [
            "Cloning into 'DS-Unit-4-Sprint-1-NLP'...\n",
            "'unzip' is not recognized as an internal or external command,\n",
            "operable program or batch file.\n"
          ]
        }
      ],
      "metadata": {
        "id": "_v6sJTH569Oa",
        "colab": {
          "base_uri": "https://localhost:8080/"
        },
        "outputId": "46952e3d-b5c5-4f62-e8a4-3479ec2d8792"
      }
    },
    {
      "cell_type": "code",
      "execution_count": 3,
      "source": [
        "df = pd.read_csv('Datafiniti_Amazon_Consumer_Reviews_of_Amazon_Products_May19.csv')"
      ],
      "outputs": [],
      "metadata": {
        "id": "kQTSYuADiNQw"
      }
    },
    {
      "cell_type": "code",
      "execution_count": 4,
      "source": [
        "# check\r\n",
        "df.head(2)"
      ],
      "outputs": [
        {
          "output_type": "execute_result",
          "data": {
            "text/html": [
              "<div>\n",
              "<style scoped>\n",
              "    .dataframe tbody tr th:only-of-type {\n",
              "        vertical-align: middle;\n",
              "    }\n",
              "\n",
              "    .dataframe tbody tr th {\n",
              "        vertical-align: top;\n",
              "    }\n",
              "\n",
              "    .dataframe thead th {\n",
              "        text-align: right;\n",
              "    }\n",
              "</style>\n",
              "<table border=\"1\" class=\"dataframe\">\n",
              "  <thead>\n",
              "    <tr style=\"text-align: right;\">\n",
              "      <th></th>\n",
              "      <th>id</th>\n",
              "      <th>dateAdded</th>\n",
              "      <th>dateUpdated</th>\n",
              "      <th>name</th>\n",
              "      <th>asins</th>\n",
              "      <th>brand</th>\n",
              "      <th>categories</th>\n",
              "      <th>primaryCategories</th>\n",
              "      <th>imageURLs</th>\n",
              "      <th>keys</th>\n",
              "      <th>...</th>\n",
              "      <th>reviews.didPurchase</th>\n",
              "      <th>reviews.doRecommend</th>\n",
              "      <th>reviews.id</th>\n",
              "      <th>reviews.numHelpful</th>\n",
              "      <th>reviews.rating</th>\n",
              "      <th>reviews.sourceURLs</th>\n",
              "      <th>reviews.text</th>\n",
              "      <th>reviews.title</th>\n",
              "      <th>reviews.username</th>\n",
              "      <th>sourceURLs</th>\n",
              "    </tr>\n",
              "  </thead>\n",
              "  <tbody>\n",
              "    <tr>\n",
              "      <th>0</th>\n",
              "      <td>AVpgNzjwLJeJML43Kpxn</td>\n",
              "      <td>2015-10-30T08:59:32Z</td>\n",
              "      <td>2019-04-25T09:08:16Z</td>\n",
              "      <td>AmazonBasics AAA Performance Alkaline Batterie...</td>\n",
              "      <td>B00QWO9P0O,B00LH3DMUO</td>\n",
              "      <td>Amazonbasics</td>\n",
              "      <td>AA,AAA,Health,Electronics,Health &amp; Household,C...</td>\n",
              "      <td>Health &amp; Beauty</td>\n",
              "      <td>https://images-na.ssl-images-amazon.com/images...</td>\n",
              "      <td>amazonbasics/hl002619,amazonbasicsaaaperforman...</td>\n",
              "      <td>...</td>\n",
              "      <td>NaN</td>\n",
              "      <td>NaN</td>\n",
              "      <td>NaN</td>\n",
              "      <td>NaN</td>\n",
              "      <td>3</td>\n",
              "      <td>https://www.amazon.com/product-reviews/B00QWO9...</td>\n",
              "      <td>I order 3 of them and one of the item is bad q...</td>\n",
              "      <td>... 3 of them and one of the item is bad quali...</td>\n",
              "      <td>Byger yang</td>\n",
              "      <td>https://www.barcodable.com/upc/841710106442,ht...</td>\n",
              "    </tr>\n",
              "    <tr>\n",
              "      <th>1</th>\n",
              "      <td>AVpgNzjwLJeJML43Kpxn</td>\n",
              "      <td>2015-10-30T08:59:32Z</td>\n",
              "      <td>2019-04-25T09:08:16Z</td>\n",
              "      <td>AmazonBasics AAA Performance Alkaline Batterie...</td>\n",
              "      <td>B00QWO9P0O,B00LH3DMUO</td>\n",
              "      <td>Amazonbasics</td>\n",
              "      <td>AA,AAA,Health,Electronics,Health &amp; Household,C...</td>\n",
              "      <td>Health &amp; Beauty</td>\n",
              "      <td>https://images-na.ssl-images-amazon.com/images...</td>\n",
              "      <td>amazonbasics/hl002619,amazonbasicsaaaperforman...</td>\n",
              "      <td>...</td>\n",
              "      <td>NaN</td>\n",
              "      <td>NaN</td>\n",
              "      <td>NaN</td>\n",
              "      <td>NaN</td>\n",
              "      <td>4</td>\n",
              "      <td>https://www.amazon.com/product-reviews/B00QWO9...</td>\n",
              "      <td>Bulk is always the less expensive way to go fo...</td>\n",
              "      <td>... always the less expensive way to go for pr...</td>\n",
              "      <td>ByMG</td>\n",
              "      <td>https://www.barcodable.com/upc/841710106442,ht...</td>\n",
              "    </tr>\n",
              "  </tbody>\n",
              "</table>\n",
              "<p>2 rows × 24 columns</p>\n",
              "</div>"
            ],
            "text/plain": [
              "                     id             dateAdded           dateUpdated  \\\n",
              "0  AVpgNzjwLJeJML43Kpxn  2015-10-30T08:59:32Z  2019-04-25T09:08:16Z   \n",
              "1  AVpgNzjwLJeJML43Kpxn  2015-10-30T08:59:32Z  2019-04-25T09:08:16Z   \n",
              "\n",
              "                                                name                  asins  \\\n",
              "0  AmazonBasics AAA Performance Alkaline Batterie...  B00QWO9P0O,B00LH3DMUO   \n",
              "1  AmazonBasics AAA Performance Alkaline Batterie...  B00QWO9P0O,B00LH3DMUO   \n",
              "\n",
              "          brand                                         categories  \\\n",
              "0  Amazonbasics  AA,AAA,Health,Electronics,Health & Household,C...   \n",
              "1  Amazonbasics  AA,AAA,Health,Electronics,Health & Household,C...   \n",
              "\n",
              "  primaryCategories                                          imageURLs  \\\n",
              "0   Health & Beauty  https://images-na.ssl-images-amazon.com/images...   \n",
              "1   Health & Beauty  https://images-na.ssl-images-amazon.com/images...   \n",
              "\n",
              "                                                keys  ... reviews.didPurchase  \\\n",
              "0  amazonbasics/hl002619,amazonbasicsaaaperforman...  ...                 NaN   \n",
              "1  amazonbasics/hl002619,amazonbasicsaaaperforman...  ...                 NaN   \n",
              "\n",
              "  reviews.doRecommend reviews.id reviews.numHelpful reviews.rating  \\\n",
              "0                 NaN        NaN                NaN              3   \n",
              "1                 NaN        NaN                NaN              4   \n",
              "\n",
              "                                  reviews.sourceURLs  \\\n",
              "0  https://www.amazon.com/product-reviews/B00QWO9...   \n",
              "1  https://www.amazon.com/product-reviews/B00QWO9...   \n",
              "\n",
              "                                        reviews.text  \\\n",
              "0  I order 3 of them and one of the item is bad q...   \n",
              "1  Bulk is always the less expensive way to go fo...   \n",
              "\n",
              "                                       reviews.title  reviews.username  \\\n",
              "0  ... 3 of them and one of the item is bad quali...        Byger yang   \n",
              "1  ... always the less expensive way to go for pr...              ByMG   \n",
              "\n",
              "                                          sourceURLs  \n",
              "0  https://www.barcodable.com/upc/841710106442,ht...  \n",
              "1  https://www.barcodable.com/upc/841710106442,ht...  \n",
              "\n",
              "[2 rows x 24 columns]"
            ]
          },
          "metadata": {},
          "execution_count": 4
        }
      ],
      "metadata": {
        "colab": {
          "base_uri": "https://localhost:8080/",
          "height": 271
        },
        "id": "mGuryffO6Oya",
        "outputId": "08972adb-c56c-4c3a-a836-1a1d9408cee2"
      }
    },
    {
      "cell_type": "code",
      "execution_count": 5,
      "source": [
        "df['reviews.text'][1]"
      ],
      "outputs": [
        {
          "output_type": "execute_result",
          "data": {
            "text/plain": [
              "'Bulk is always the less expensive way to go for products like these'"
            ]
          },
          "metadata": {},
          "execution_count": 5
        }
      ],
      "metadata": {
        "id": "xmr2o4kX9Er4",
        "colab": {
          "base_uri": "https://localhost:8080/",
          "height": 36
        },
        "outputId": "a7f67564-f761-4aa9-e42b-0eca359eee6e"
      }
    },
    {
      "cell_type": "markdown",
      "source": [
        "# 1. Tokenization and Text Preprocessing, Part 1\n",
        "<a id=\"p1\"></a>"
      ],
      "metadata": {
        "id": "I0ssyXeiGEqc",
        "toc-hr-collapsed": false
      }
    },
    {
      "cell_type": "markdown",
      "source": [
        "## Overview\n",
        "\n",
        "> **token**: an instance of a sequence of characters in some particular document that are grouped together as a useful semantic unit for processing\n",
        "\n",
        "> [_*Introduction to Information Retrival*_](https://nlp.stanford.edu/IR-book/)\n",
        "\n",
        "\n",
        "### The attributes of good tokens\n",
        "\n",
        "* Should be stored in an iterable data structure\n",
        "  - Allows analysis of the \"semantic unit\"\n",
        "* Should be all the same case\n",
        "  - Reduces the complexity of our data\n",
        "* Should be free of non-alphanumeric characters (ie punctuation, whitespace)\n",
        "  - Removes information that is probably not relevant to the analysis"
      ],
      "metadata": {
        "id": "sd6cxaNTGEqc",
        "toc-hr-collapsed": true
      }
    },
    {
      "cell_type": "markdown",
      "source": [
        "Let's pretend we are trying analyze the random sequence here. Question: what is the most common character in this sequence?"
      ],
      "metadata": {
        "id": "dK-EKGVNGEqd"
      }
    },
    {
      "cell_type": "code",
      "execution_count": 6,
      "source": [
        "random_seq = \"AABAAFBBBBCGCDDEEEFCFFDFFAFFZFGGGGHEAFJAAZBBFCZ\""
      ],
      "outputs": [],
      "metadata": {
        "id": "NODbGehhGEqe"
      }
    },
    {
      "cell_type": "markdown",
      "source": [
        "A useful unit of analysis for us is going to be a letter or character"
      ],
      "metadata": {
        "id": "Uj0FHiJEGEqh"
      }
    },
    {
      "cell_type": "code",
      "execution_count": 7,
      "source": [
        "tokens = list(random_seq)\r\n",
        "print(tokens)"
      ],
      "outputs": [
        {
          "output_type": "stream",
          "name": "stdout",
          "text": [
            "['A', 'A', 'B', 'A', 'A', 'F', 'B', 'B', 'B', 'B', 'C', 'G', 'C', 'D', 'D', 'E', 'E', 'E', 'F', 'C', 'F', 'F', 'D', 'F', 'F', 'A', 'F', 'F', 'Z', 'F', 'G', 'G', 'G', 'G', 'H', 'E', 'A', 'F', 'J', 'A', 'A', 'Z', 'B', 'B', 'F', 'C', 'Z']\n"
          ]
        }
      ],
      "metadata": {
        "colab": {
          "base_uri": "https://localhost:8080/"
        },
        "id": "OFWePC6XGEqh",
        "outputId": "9431a999-6b8c-4bd4-8b43-dbf56eb651e9"
      }
    },
    {
      "cell_type": "markdown",
      "source": [
        "Our tokens are already \"good\": in an iterable datastructure, all the same case, and free of noise characters (punctuation, whitespace), so we can jump straight into analysis."
      ],
      "metadata": {
        "id": "8tbp-hyDGEql"
      }
    },
    {
      "cell_type": "code",
      "execution_count": 8,
      "source": [
        "import seaborn as sns\r\n",
        "sns.countplot(tokens);"
      ],
      "outputs": [
        {
          "output_type": "stream",
          "name": "stderr",
          "text": [
            "C:\\Users\\nigel\\AppData\\Local\\Programs\\Python\\Python39\\lib\\site-packages\\seaborn\\_decorators.py:36: FutureWarning: Pass the following variable as a keyword arg: x. From version 0.12, the only valid positional argument will be `data`, and passing other arguments without an explicit keyword will result in an error or misinterpretation.\n",
            "  warnings.warn(\n"
          ]
        },
        {
          "output_type": "display_data",
          "data": {
            "image/png": "[encoded data removed]",
            "text/plain": [
              "<Figure size 432x288 with 1 Axes>"
            ]
          },
          "metadata": {
            "needs_background": "light"
          }
        }
      ],
      "metadata": {
        "colab": {
          "base_uri": "https://localhost:8080/",
          "height": 265
        },
        "id": "mFQcACruGEql",
        "outputId": "7191b5fa-c1b4-4349-99fb-5adc3c1046e8"
      }
    },
    {
      "cell_type": "markdown",
      "source": [
        "The most common character in our sequence is  \"F\". We can't just glance at the the sequence to know which character is the most common. We (humans) struggle to subitize complex data (like random text sequences).\n",
        "\n",
        "> __Subitize__ is the ability to tell the number of objects in a set, quickly, without counting.  \n",
        "\n",
        "We need to chunk the data into countable pieces \"tokens\" for us to analyze them. This inability subitize text data is the motivation for our discussion today."
      ],
      "metadata": {
        "id": "o3TbbxfHGEqo"
      }
    },
    {
      "cell_type": "markdown",
      "source": [
        "### 1.1 Tokenizing with Pure Python"
      ],
      "metadata": {
        "id": "UMa8NJjlGEqo",
        "toc-hr-collapsed": true
      }
    },
    {
      "cell_type": "code",
      "execution_count": 9,
      "source": [
        "sample = \"Friends, Romans, countrymen, lend me your ears;\""
      ],
      "outputs": [],
      "metadata": {
        "id": "im96HX4XGEqp"
      }
    },
    {
      "cell_type": "markdown",
      "source": [
        "##### Iterable Tokens\r\n",
        "\r\n",
        "A string object in Python is already iterable. However, the item you iterate over is a character not a token:\r\n",
        "\r\n",
        "```\r\n",
        "from time import sleep\r\n",
        "for num, character in enumerate(sample):\r\n",
        "    sleep(.5)\r\n",
        "    print(f\"Char {num} - {character}\", end=\"\\r\")\r\n",
        "```\r\n",
        "\r\n",
        "If we instead care about the words in our sample (our semantic unit), we can use the string method `.split()` to separate the whitespace and create iterable units. :)"
      ],
      "metadata": {
        "id": "Q8ACUekrGEqr"
      }
    },
    {
      "cell_type": "code",
      "execution_count": 10,
      "source": [
        "sample.split(\" \")"
      ],
      "outputs": [
        {
          "output_type": "execute_result",
          "data": {
            "text/plain": [
              "['Friends,', 'Romans,', 'countrymen,', 'lend', 'me', 'your', 'ears;']"
            ]
          },
          "metadata": {},
          "execution_count": 10
        }
      ],
      "metadata": {}
    },
    {
      "cell_type": "code",
      "execution_count": 11,
      "source": [
        "sample.split()"
      ],
      "outputs": [
        {
          "output_type": "execute_result",
          "data": {
            "text/plain": [
              "['Friends,', 'Romans,', 'countrymen,', 'lend', 'me', 'your', 'ears;']"
            ]
          },
          "metadata": {},
          "execution_count": 11
        }
      ],
      "metadata": {
        "colab": {
          "base_uri": "https://localhost:8080/"
        },
        "id": "Q5Vh69V5GEqr",
        "outputId": "51d1d6f5-8efd-41b0-9123-5867354a68f6"
      }
    },
    {
      "cell_type": "markdown",
      "source": [
        "###1.2 Case Normalization\r\n",
        "A common data cleaning data cleaning task with token is to standardize or normalize the case. Normalizing case reduces the chance that you have duplicate records for things which have practically the same semantic meaning. You can use either the `.lower()` or `.upper()` string methods to normalize case.\r\n",
        "\r\n",
        "Consider the following example: "
      ],
      "metadata": {
        "id": "3h3fMFY0GEqu"
      }
    },
    {
      "cell_type": "code",
      "execution_count": 14,
      "source": [
        "df.head(10)"
      ],
      "outputs": [
        {
          "output_type": "execute_result",
          "data": {
            "text/html": [
              "<div>\n",
              "<style scoped>\n",
              "    .dataframe tbody tr th:only-of-type {\n",
              "        vertical-align: middle;\n",
              "    }\n",
              "\n",
              "    .dataframe tbody tr th {\n",
              "        vertical-align: top;\n",
              "    }\n",
              "\n",
              "    .dataframe thead th {\n",
              "        text-align: right;\n",
              "    }\n",
              "</style>\n",
              "<table border=\"1\" class=\"dataframe\">\n",
              "  <thead>\n",
              "    <tr style=\"text-align: right;\">\n",
              "      <th></th>\n",
              "      <th>id</th>\n",
              "      <th>dateAdded</th>\n",
              "      <th>dateUpdated</th>\n",
              "      <th>name</th>\n",
              "      <th>asins</th>\n",
              "      <th>brand</th>\n",
              "      <th>categories</th>\n",
              "      <th>primaryCategories</th>\n",
              "      <th>imageURLs</th>\n",
              "      <th>keys</th>\n",
              "      <th>...</th>\n",
              "      <th>reviews.didPurchase</th>\n",
              "      <th>reviews.doRecommend</th>\n",
              "      <th>reviews.id</th>\n",
              "      <th>reviews.numHelpful</th>\n",
              "      <th>reviews.rating</th>\n",
              "      <th>reviews.sourceURLs</th>\n",
              "      <th>reviews.text</th>\n",
              "      <th>reviews.title</th>\n",
              "      <th>reviews.username</th>\n",
              "      <th>sourceURLs</th>\n",
              "    </tr>\n",
              "  </thead>\n",
              "  <tbody>\n",
              "    <tr>\n",
              "      <th>0</th>\n",
              "      <td>AVpgNzjwLJeJML43Kpxn</td>\n",
              "      <td>2015-10-30T08:59:32Z</td>\n",
              "      <td>2019-04-25T09:08:16Z</td>\n",
              "      <td>AmazonBasics AAA Performance Alkaline Batterie...</td>\n",
              "      <td>B00QWO9P0O,B00LH3DMUO</td>\n",
              "      <td>Amazonbasics</td>\n",
              "      <td>AA,AAA,Health,Electronics,Health &amp; Household,C...</td>\n",
              "      <td>Health &amp; Beauty</td>\n",
              "      <td>https://images-na.ssl-images-amazon.com/images...</td>\n",
              "      <td>amazonbasics/hl002619,amazonbasicsaaaperforman...</td>\n",
              "      <td>...</td>\n",
              "      <td>NaN</td>\n",
              "      <td>NaN</td>\n",
              "      <td>NaN</td>\n",
              "      <td>NaN</td>\n",
              "      <td>3</td>\n",
              "      <td>https://www.amazon.com/product-reviews/B00QWO9...</td>\n",
              "      <td>I order 3 of them and one of the item is bad q...</td>\n",
              "      <td>... 3 of them and one of the item is bad quali...</td>\n",
              "      <td>Byger yang</td>\n",
              "      <td>https://www.barcodable.com/upc/841710106442,ht...</td>\n",
              "    </tr>\n",
              "    <tr>\n",
              "      <th>1</th>\n",
              "      <td>AVpgNzjwLJeJML43Kpxn</td>\n",
              "      <td>2015-10-30T08:59:32Z</td>\n",
              "      <td>2019-04-25T09:08:16Z</td>\n",
              "      <td>AmazonBasics AAA Performance Alkaline Batterie...</td>\n",
              "      <td>B00QWO9P0O,B00LH3DMUO</td>\n",
              "      <td>Amazonbasics</td>\n",
              "      <td>AA,AAA,Health,Electronics,Health &amp; Household,C...</td>\n",
              "      <td>Health &amp; Beauty</td>\n",
              "      <td>https://images-na.ssl-images-amazon.com/images...</td>\n",
              "      <td>amazonbasics/hl002619,amazonbasicsaaaperforman...</td>\n",
              "      <td>...</td>\n",
              "      <td>NaN</td>\n",
              "      <td>NaN</td>\n",
              "      <td>NaN</td>\n",
              "      <td>NaN</td>\n",
              "      <td>4</td>\n",
              "      <td>https://www.amazon.com/product-reviews/B00QWO9...</td>\n",
              "      <td>Bulk is always the less expensive way to go fo...</td>\n",
              "      <td>... always the less expensive way to go for pr...</td>\n",
              "      <td>ByMG</td>\n",
              "      <td>https://www.barcodable.com/upc/841710106442,ht...</td>\n",
              "    </tr>\n",
              "    <tr>\n",
              "      <th>2</th>\n",
              "      <td>AVpgNzjwLJeJML43Kpxn</td>\n",
              "      <td>2015-10-30T08:59:32Z</td>\n",
              "      <td>2019-04-25T09:08:16Z</td>\n",
              "      <td>AmazonBasics AAA Performance Alkaline Batterie...</td>\n",
              "      <td>B00QWO9P0O,B00LH3DMUO</td>\n",
              "      <td>Amazonbasics</td>\n",
              "      <td>AA,AAA,Health,Electronics,Health &amp; Household,C...</td>\n",
              "      <td>Health &amp; Beauty</td>\n",
              "      <td>https://images-na.ssl-images-amazon.com/images...</td>\n",
              "      <td>amazonbasics/hl002619,amazonbasicsaaaperforman...</td>\n",
              "      <td>...</td>\n",
              "      <td>NaN</td>\n",
              "      <td>NaN</td>\n",
              "      <td>NaN</td>\n",
              "      <td>NaN</td>\n",
              "      <td>5</td>\n",
              "      <td>https://www.amazon.com/product-reviews/B00QWO9...</td>\n",
              "      <td>Well they are not Duracell but for the price i...</td>\n",
              "      <td>... are not Duracell but for the price i am ha...</td>\n",
              "      <td>BySharon Lambert</td>\n",
              "      <td>https://www.barcodable.com/upc/841710106442,ht...</td>\n",
              "    </tr>\n",
              "    <tr>\n",
              "      <th>3</th>\n",
              "      <td>AVpgNzjwLJeJML43Kpxn</td>\n",
              "      <td>2015-10-30T08:59:32Z</td>\n",
              "      <td>2019-04-25T09:08:16Z</td>\n",
              "      <td>AmazonBasics AAA Performance Alkaline Batterie...</td>\n",
              "      <td>B00QWO9P0O,B00LH3DMUO</td>\n",
              "      <td>Amazonbasics</td>\n",
              "      <td>AA,AAA,Health,Electronics,Health &amp; Household,C...</td>\n",
              "      <td>Health &amp; Beauty</td>\n",
              "      <td>https://images-na.ssl-images-amazon.com/images...</td>\n",
              "      <td>amazonbasics/hl002619,amazonbasicsaaaperforman...</td>\n",
              "      <td>...</td>\n",
              "      <td>NaN</td>\n",
              "      <td>NaN</td>\n",
              "      <td>NaN</td>\n",
              "      <td>NaN</td>\n",
              "      <td>5</td>\n",
              "      <td>https://www.amazon.com/product-reviews/B00QWO9...</td>\n",
              "      <td>Seem to work as well as name brand batteries a...</td>\n",
              "      <td>... as well as name brand batteries at a much ...</td>\n",
              "      <td>Bymark sexson</td>\n",
              "      <td>https://www.barcodable.com/upc/841710106442,ht...</td>\n",
              "    </tr>\n",
              "    <tr>\n",
              "      <th>4</th>\n",
              "      <td>AVpgNzjwLJeJML43Kpxn</td>\n",
              "      <td>2015-10-30T08:59:32Z</td>\n",
              "      <td>2019-04-25T09:08:16Z</td>\n",
              "      <td>AmazonBasics AAA Performance Alkaline Batterie...</td>\n",
              "      <td>B00QWO9P0O,B00LH3DMUO</td>\n",
              "      <td>Amazonbasics</td>\n",
              "      <td>AA,AAA,Health,Electronics,Health &amp; Household,C...</td>\n",
              "      <td>Health &amp; Beauty</td>\n",
              "      <td>https://images-na.ssl-images-amazon.com/images...</td>\n",
              "      <td>amazonbasics/hl002619,amazonbasicsaaaperforman...</td>\n",
              "      <td>...</td>\n",
              "      <td>NaN</td>\n",
              "      <td>NaN</td>\n",
              "      <td>NaN</td>\n",
              "      <td>NaN</td>\n",
              "      <td>5</td>\n",
              "      <td>https://www.amazon.com/product-reviews/B00QWO9...</td>\n",
              "      <td>These batteries are very long lasting the pric...</td>\n",
              "      <td>... batteries are very long lasting the price ...</td>\n",
              "      <td>Bylinda</td>\n",
              "      <td>https://www.barcodable.com/upc/841710106442,ht...</td>\n",
              "    </tr>\n",
              "    <tr>\n",
              "      <th>5</th>\n",
              "      <td>AVpgNzjwLJeJML43Kpxn</td>\n",
              "      <td>2015-10-30T08:59:32Z</td>\n",
              "      <td>2019-04-25T09:08:16Z</td>\n",
              "      <td>AmazonBasics AAA Performance Alkaline Batterie...</td>\n",
              "      <td>B00QWO9P0O,B00LH3DMUO</td>\n",
              "      <td>Amazonbasics</td>\n",
              "      <td>AA,AAA,Health,Electronics,Health &amp; Household,C...</td>\n",
              "      <td>Health &amp; Beauty</td>\n",
              "      <td>https://images-na.ssl-images-amazon.com/images...</td>\n",
              "      <td>amazonbasics/hl002619,amazonbasicsaaaperforman...</td>\n",
              "      <td>...</td>\n",
              "      <td>NaN</td>\n",
              "      <td>NaN</td>\n",
              "      <td>NaN</td>\n",
              "      <td>NaN</td>\n",
              "      <td>5</td>\n",
              "      <td>https://www.amazon.com/product-reviews/B00QWO9...</td>\n",
              "      <td>Bought a lot of batteries for Christmas and th...</td>\n",
              "      <td>... batteries for Christmas and the AmazonBasi...</td>\n",
              "      <td>ByPainter Marlow</td>\n",
              "      <td>https://www.barcodable.com/upc/841710106442,ht...</td>\n",
              "    </tr>\n",
              "    <tr>\n",
              "      <th>6</th>\n",
              "      <td>AVpgNzjwLJeJML43Kpxn</td>\n",
              "      <td>2015-10-30T08:59:32Z</td>\n",
              "      <td>2019-04-25T09:08:16Z</td>\n",
              "      <td>AmazonBasics AAA Performance Alkaline Batterie...</td>\n",
              "      <td>B00QWO9P0O,B00LH3DMUO</td>\n",
              "      <td>Amazonbasics</td>\n",
              "      <td>AA,AAA,Health,Electronics,Health &amp; Household,C...</td>\n",
              "      <td>Health &amp; Beauty</td>\n",
              "      <td>https://images-na.ssl-images-amazon.com/images...</td>\n",
              "      <td>amazonbasics/hl002619,amazonbasicsaaaperforman...</td>\n",
              "      <td>...</td>\n",
              "      <td>NaN</td>\n",
              "      <td>NaN</td>\n",
              "      <td>NaN</td>\n",
              "      <td>NaN</td>\n",
              "      <td>5</td>\n",
              "      <td>https://www.amazon.com/product-reviews/B00QWO9...</td>\n",
              "      <td>ive not had any problame with these batteries ...</td>\n",
              "      <td>... batteries have ordered them in the past be...</td>\n",
              "      <td>ByAmazon Customer</td>\n",
              "      <td>https://www.barcodable.com/upc/841710106442,ht...</td>\n",
              "    </tr>\n",
              "    <tr>\n",
              "      <th>7</th>\n",
              "      <td>AVpgNzjwLJeJML43Kpxn</td>\n",
              "      <td>2015-10-30T08:59:32Z</td>\n",
              "      <td>2019-04-25T09:08:16Z</td>\n",
              "      <td>AmazonBasics AAA Performance Alkaline Batterie...</td>\n",
              "      <td>B00QWO9P0O,B00LH3DMUO</td>\n",
              "      <td>Amazonbasics</td>\n",
              "      <td>AA,AAA,Health,Electronics,Health &amp; Household,C...</td>\n",
              "      <td>Health &amp; Beauty</td>\n",
              "      <td>https://images-na.ssl-images-amazon.com/images...</td>\n",
              "      <td>amazonbasics/hl002619,amazonbasicsaaaperforman...</td>\n",
              "      <td>...</td>\n",
              "      <td>NaN</td>\n",
              "      <td>NaN</td>\n",
              "      <td>NaN</td>\n",
              "      <td>NaN</td>\n",
              "      <td>5</td>\n",
              "      <td>https://www.amazon.com/product-reviews/B00QWO9...</td>\n",
              "      <td>Well if you are looking for cheap non-recharge...</td>\n",
              "      <td>... batteries that last quite a while then the...</td>\n",
              "      <td>ByLynn Pendegrass</td>\n",
              "      <td>https://www.barcodable.com/upc/841710106442,ht...</td>\n",
              "    </tr>\n",
              "    <tr>\n",
              "      <th>8</th>\n",
              "      <td>AVpgNzjwLJeJML43Kpxn</td>\n",
              "      <td>2015-10-30T08:59:32Z</td>\n",
              "      <td>2019-04-25T09:08:16Z</td>\n",
              "      <td>AmazonBasics AAA Performance Alkaline Batterie...</td>\n",
              "      <td>B00QWO9P0O,B00LH3DMUO</td>\n",
              "      <td>Amazonbasics</td>\n",
              "      <td>AA,AAA,Health,Electronics,Health &amp; Household,C...</td>\n",
              "      <td>Health &amp; Beauty</td>\n",
              "      <td>https://images-na.ssl-images-amazon.com/images...</td>\n",
              "      <td>amazonbasics/hl002619,amazonbasicsaaaperforman...</td>\n",
              "      <td>...</td>\n",
              "      <td>NaN</td>\n",
              "      <td>NaN</td>\n",
              "      <td>NaN</td>\n",
              "      <td>NaN</td>\n",
              "      <td>3</td>\n",
              "      <td>https://www.amazon.com/product-reviews/B00QWO9...</td>\n",
              "      <td>These do not hold the amount of high power jui...</td>\n",
              "      <td>... do not hold the amount of high power juice...</td>\n",
              "      <td>ByK.R.</td>\n",
              "      <td>https://www.barcodable.com/upc/841710106442,ht...</td>\n",
              "    </tr>\n",
              "    <tr>\n",
              "      <th>9</th>\n",
              "      <td>AVpgNzjwLJeJML43Kpxn</td>\n",
              "      <td>2015-10-30T08:59:32Z</td>\n",
              "      <td>2019-04-25T09:08:16Z</td>\n",
              "      <td>AmazonBasics AAA Performance Alkaline Batterie...</td>\n",
              "      <td>B00QWO9P0O,B00LH3DMUO</td>\n",
              "      <td>Amazonbasics</td>\n",
              "      <td>AA,AAA,Health,Electronics,Health &amp; Household,C...</td>\n",
              "      <td>Health &amp; Beauty</td>\n",
              "      <td>https://images-na.ssl-images-amazon.com/images...</td>\n",
              "      <td>amazonbasics/hl002619,amazonbasicsaaaperforman...</td>\n",
              "      <td>...</td>\n",
              "      <td>NaN</td>\n",
              "      <td>NaN</td>\n",
              "      <td>NaN</td>\n",
              "      <td>NaN</td>\n",
              "      <td>4</td>\n",
              "      <td>https://www.amazon.com/product-reviews/B00QWO9...</td>\n",
              "      <td>AmazonBasics AA AAA batteries have done well b...</td>\n",
              "      <td>... done well by me appear to have a good shel...</td>\n",
              "      <td>BySilverLane</td>\n",
              "      <td>https://www.barcodable.com/upc/841710106442,ht...</td>\n",
              "    </tr>\n",
              "  </tbody>\n",
              "</table>\n",
              "<p>10 rows × 24 columns</p>\n",
              "</div>"
            ],
            "text/plain": [
              "                     id             dateAdded           dateUpdated  \\\n",
              "0  AVpgNzjwLJeJML43Kpxn  2015-10-30T08:59:32Z  2019-04-25T09:08:16Z   \n",
              "1  AVpgNzjwLJeJML43Kpxn  2015-10-30T08:59:32Z  2019-04-25T09:08:16Z   \n",
              "2  AVpgNzjwLJeJML43Kpxn  2015-10-30T08:59:32Z  2019-04-25T09:08:16Z   \n",
              "3  AVpgNzjwLJeJML43Kpxn  2015-10-30T08:59:32Z  2019-04-25T09:08:16Z   \n",
              "4  AVpgNzjwLJeJML43Kpxn  2015-10-30T08:59:32Z  2019-04-25T09:08:16Z   \n",
              "5  AVpgNzjwLJeJML43Kpxn  2015-10-30T08:59:32Z  2019-04-25T09:08:16Z   \n",
              "6  AVpgNzjwLJeJML43Kpxn  2015-10-30T08:59:32Z  2019-04-25T09:08:16Z   \n",
              "7  AVpgNzjwLJeJML43Kpxn  2015-10-30T08:59:32Z  2019-04-25T09:08:16Z   \n",
              "8  AVpgNzjwLJeJML43Kpxn  2015-10-30T08:59:32Z  2019-04-25T09:08:16Z   \n",
              "9  AVpgNzjwLJeJML43Kpxn  2015-10-30T08:59:32Z  2019-04-25T09:08:16Z   \n",
              "\n",
              "                                                name                  asins  \\\n",
              "0  AmazonBasics AAA Performance Alkaline Batterie...  B00QWO9P0O,B00LH3DMUO   \n",
              "1  AmazonBasics AAA Performance Alkaline Batterie...  B00QWO9P0O,B00LH3DMUO   \n",
              "2  AmazonBasics AAA Performance Alkaline Batterie...  B00QWO9P0O,B00LH3DMUO   \n",
              "3  AmazonBasics AAA Performance Alkaline Batterie...  B00QWO9P0O,B00LH3DMUO   \n",
              "4  AmazonBasics AAA Performance Alkaline Batterie...  B00QWO9P0O,B00LH3DMUO   \n",
              "5  AmazonBasics AAA Performance Alkaline Batterie...  B00QWO9P0O,B00LH3DMUO   \n",
              "6  AmazonBasics AAA Performance Alkaline Batterie...  B00QWO9P0O,B00LH3DMUO   \n",
              "7  AmazonBasics AAA Performance Alkaline Batterie...  B00QWO9P0O,B00LH3DMUO   \n",
              "8  AmazonBasics AAA Performance Alkaline Batterie...  B00QWO9P0O,B00LH3DMUO   \n",
              "9  AmazonBasics AAA Performance Alkaline Batterie...  B00QWO9P0O,B00LH3DMUO   \n",
              "\n",
              "          brand                                         categories  \\\n",
              "0  Amazonbasics  AA,AAA,Health,Electronics,Health & Household,C...   \n",
              "1  Amazonbasics  AA,AAA,Health,Electronics,Health & Household,C...   \n",
              "2  Amazonbasics  AA,AAA,Health,Electronics,Health & Household,C...   \n",
              "3  Amazonbasics  AA,AAA,Health,Electronics,Health & Household,C...   \n",
              "4  Amazonbasics  AA,AAA,Health,Electronics,Health & Household,C...   \n",
              "5  Amazonbasics  AA,AAA,Health,Electronics,Health & Household,C...   \n",
              "6  Amazonbasics  AA,AAA,Health,Electronics,Health & Household,C...   \n",
              "7  Amazonbasics  AA,AAA,Health,Electronics,Health & Household,C...   \n",
              "8  Amazonbasics  AA,AAA,Health,Electronics,Health & Household,C...   \n",
              "9  Amazonbasics  AA,AAA,Health,Electronics,Health & Household,C...   \n",
              "\n",
              "  primaryCategories                                          imageURLs  \\\n",
              "0   Health & Beauty  https://images-na.ssl-images-amazon.com/images...   \n",
              "1   Health & Beauty  https://images-na.ssl-images-amazon.com/images...   \n",
              "2   Health & Beauty  https://images-na.ssl-images-amazon.com/images...   \n",
              "3   Health & Beauty  https://images-na.ssl-images-amazon.com/images...   \n",
              "4   Health & Beauty  https://images-na.ssl-images-amazon.com/images...   \n",
              "5   Health & Beauty  https://images-na.ssl-images-amazon.com/images...   \n",
              "6   Health & Beauty  https://images-na.ssl-images-amazon.com/images...   \n",
              "7   Health & Beauty  https://images-na.ssl-images-amazon.com/images...   \n",
              "8   Health & Beauty  https://images-na.ssl-images-amazon.com/images...   \n",
              "9   Health & Beauty  https://images-na.ssl-images-amazon.com/images...   \n",
              "\n",
              "                                                keys  ... reviews.didPurchase  \\\n",
              "0  amazonbasics/hl002619,amazonbasicsaaaperforman...  ...                 NaN   \n",
              "1  amazonbasics/hl002619,amazonbasicsaaaperforman...  ...                 NaN   \n",
              "2  amazonbasics/hl002619,amazonbasicsaaaperforman...  ...                 NaN   \n",
              "3  amazonbasics/hl002619,amazonbasicsaaaperforman...  ...                 NaN   \n",
              "4  amazonbasics/hl002619,amazonbasicsaaaperforman...  ...                 NaN   \n",
              "5  amazonbasics/hl002619,amazonbasicsaaaperforman...  ...                 NaN   \n",
              "6  amazonbasics/hl002619,amazonbasicsaaaperforman...  ...                 NaN   \n",
              "7  amazonbasics/hl002619,amazonbasicsaaaperforman...  ...                 NaN   \n",
              "8  amazonbasics/hl002619,amazonbasicsaaaperforman...  ...                 NaN   \n",
              "9  amazonbasics/hl002619,amazonbasicsaaaperforman...  ...                 NaN   \n",
              "\n",
              "  reviews.doRecommend reviews.id reviews.numHelpful reviews.rating  \\\n",
              "0                 NaN        NaN                NaN              3   \n",
              "1                 NaN        NaN                NaN              4   \n",
              "2                 NaN        NaN                NaN              5   \n",
              "3                 NaN        NaN                NaN              5   \n",
              "4                 NaN        NaN                NaN              5   \n",
              "5                 NaN        NaN                NaN              5   \n",
              "6                 NaN        NaN                NaN              5   \n",
              "7                 NaN        NaN                NaN              5   \n",
              "8                 NaN        NaN                NaN              3   \n",
              "9                 NaN        NaN                NaN              4   \n",
              "\n",
              "                                  reviews.sourceURLs  \\\n",
              "0  https://www.amazon.com/product-reviews/B00QWO9...   \n",
              "1  https://www.amazon.com/product-reviews/B00QWO9...   \n",
              "2  https://www.amazon.com/product-reviews/B00QWO9...   \n",
              "3  https://www.amazon.com/product-reviews/B00QWO9...   \n",
              "4  https://www.amazon.com/product-reviews/B00QWO9...   \n",
              "5  https://www.amazon.com/product-reviews/B00QWO9...   \n",
              "6  https://www.amazon.com/product-reviews/B00QWO9...   \n",
              "7  https://www.amazon.com/product-reviews/B00QWO9...   \n",
              "8  https://www.amazon.com/product-reviews/B00QWO9...   \n",
              "9  https://www.amazon.com/product-reviews/B00QWO9...   \n",
              "\n",
              "                                        reviews.text  \\\n",
              "0  I order 3 of them and one of the item is bad q...   \n",
              "1  Bulk is always the less expensive way to go fo...   \n",
              "2  Well they are not Duracell but for the price i...   \n",
              "3  Seem to work as well as name brand batteries a...   \n",
              "4  These batteries are very long lasting the pric...   \n",
              "5  Bought a lot of batteries for Christmas and th...   \n",
              "6  ive not had any problame with these batteries ...   \n",
              "7  Well if you are looking for cheap non-recharge...   \n",
              "8  These do not hold the amount of high power jui...   \n",
              "9  AmazonBasics AA AAA batteries have done well b...   \n",
              "\n",
              "                                       reviews.title   reviews.username  \\\n",
              "0  ... 3 of them and one of the item is bad quali...         Byger yang   \n",
              "1  ... always the less expensive way to go for pr...               ByMG   \n",
              "2  ... are not Duracell but for the price i am ha...   BySharon Lambert   \n",
              "3  ... as well as name brand batteries at a much ...      Bymark sexson   \n",
              "4  ... batteries are very long lasting the price ...            Bylinda   \n",
              "5  ... batteries for Christmas and the AmazonBasi...   ByPainter Marlow   \n",
              "6  ... batteries have ordered them in the past be...  ByAmazon Customer   \n",
              "7  ... batteries that last quite a while then the...  ByLynn Pendegrass   \n",
              "8  ... do not hold the amount of high power juice...             ByK.R.   \n",
              "9  ... done well by me appear to have a good shel...       BySilverLane   \n",
              "\n",
              "                                          sourceURLs  \n",
              "0  https://www.barcodable.com/upc/841710106442,ht...  \n",
              "1  https://www.barcodable.com/upc/841710106442,ht...  \n",
              "2  https://www.barcodable.com/upc/841710106442,ht...  \n",
              "3  https://www.barcodable.com/upc/841710106442,ht...  \n",
              "4  https://www.barcodable.com/upc/841710106442,ht...  \n",
              "5  https://www.barcodable.com/upc/841710106442,ht...  \n",
              "6  https://www.barcodable.com/upc/841710106442,ht...  \n",
              "7  https://www.barcodable.com/upc/841710106442,ht...  \n",
              "8  https://www.barcodable.com/upc/841710106442,ht...  \n",
              "9  https://www.barcodable.com/upc/841710106442,ht...  \n",
              "\n",
              "[10 rows x 24 columns]"
            ]
          },
          "metadata": {},
          "execution_count": 14
        }
      ],
      "metadata": {
        "id": "DId1ojdiooWz",
        "colab": {
          "base_uri": "https://localhost:8080/",
          "height": 271
        },
        "outputId": "ca5a3f1b-4938-402d-d3f6-de784d380aaf"
      }
    },
    {
      "cell_type": "code",
      "execution_count": 13,
      "source": [
        "df.info()"
      ],
      "outputs": [
        {
          "output_type": "stream",
          "name": "stdout",
          "text": [
            "<class 'pandas.core.frame.DataFrame'>\n",
            "RangeIndex: 28332 entries, 0 to 28331\n",
            "Data columns (total 24 columns):\n",
            " #   Column               Non-Null Count  Dtype  \n",
            "---  ------               --------------  -----  \n",
            " 0   id                   28332 non-null  object \n",
            " 1   dateAdded            28332 non-null  object \n",
            " 2   dateUpdated          28332 non-null  object \n",
            " 3   name                 28332 non-null  object \n",
            " 4   asins                28332 non-null  object \n",
            " 5   brand                28332 non-null  object \n",
            " 6   categories           28332 non-null  object \n",
            " 7   primaryCategories    28332 non-null  object \n",
            " 8   imageURLs            28332 non-null  object \n",
            " 9   keys                 28332 non-null  object \n",
            " 10  manufacturer         28332 non-null  object \n",
            " 11  manufacturerNumber   28332 non-null  object \n",
            " 12  reviews.date         28332 non-null  object \n",
            " 13  reviews.dateSeen     28332 non-null  object \n",
            " 14  reviews.didPurchase  9 non-null      object \n",
            " 15  reviews.doRecommend  16086 non-null  object \n",
            " 16  reviews.id           41 non-null     float64\n",
            " 17  reviews.numHelpful   16115 non-null  float64\n",
            " 18  reviews.rating       28332 non-null  int64  \n",
            " 19  reviews.sourceURLs   28332 non-null  object \n",
            " 20  reviews.text         28332 non-null  object \n",
            " 21  reviews.title        28332 non-null  object \n",
            " 22  reviews.username     28332 non-null  object \n",
            " 23  sourceURLs           28332 non-null  object \n",
            "dtypes: float64(2), int64(1), object(21)\n",
            "memory usage: 5.2+ MB\n"
          ]
        }
      ],
      "metadata": {
        "colab": {
          "base_uri": "https://localhost:8080/"
        },
        "id": "ITJykj-D_KKA",
        "outputId": "de54c71c-f154-465a-f3f9-48d3e7dce0d8"
      }
    },
    {
      "cell_type": "code",
      "execution_count": 15,
      "source": [
        "# Get the count of how many times each unique brand occurs \r\n",
        "# Notice anything odd here? \r\n",
        "df['brand'].unique()"
      ],
      "outputs": [
        {
          "output_type": "execute_result",
          "data": {
            "text/plain": [
              "array(['Amazonbasics', 'Amazon', 'AmazonBasics'], dtype=object)"
            ]
          },
          "metadata": {},
          "execution_count": 15
        }
      ],
      "metadata": {
        "colab": {
          "base_uri": "https://localhost:8080/"
        },
        "id": "ohejQb1d-1Je",
        "outputId": "1013eff8-5687-4e6b-dc15-a85472617079"
      }
    },
    {
      "cell_type": "code",
      "execution_count": 16,
      "source": [
        "df['brand'].value_counts()"
      ],
      "outputs": [
        {
          "output_type": "execute_result",
          "data": {
            "text/plain": [
              "Amazon          16153\n",
              "Amazonbasics    12169\n",
              "AmazonBasics       10\n",
              "Name: brand, dtype: int64"
            ]
          },
          "metadata": {},
          "execution_count": 16
        }
      ],
      "metadata": {
        "colab": {
          "base_uri": "https://localhost:8080/"
        },
        "id": "INgxv0p-bbCj",
        "outputId": "0896354b-46b1-4e73-b002-0d400726a92b"
      }
    },
    {
      "cell_type": "markdown",
      "source": [
        "#### Let's use `pandas` to fix the problem!\n",
        "We `apply` the `.lower()` method"
      ],
      "metadata": {
        "id": "F0CCsjw_cd2M"
      }
    },
    {
      "cell_type": "code",
      "execution_count": 17,
      "source": [
        "### BEGIN SOLUTION\r\n",
        "df['brand'] = df['brand'].apply(lambda x: x.lower())\r\n",
        "### END SOLUTION\r\n",
        "\r\n",
        "# Much cleaner\r\n",
        "df['brand'].value_counts()"
      ],
      "outputs": [
        {
          "output_type": "execute_result",
          "data": {
            "text/plain": [
              "amazon          16153\n",
              "amazonbasics    12179\n",
              "Name: brand, dtype: int64"
            ]
          },
          "metadata": {},
          "execution_count": 17
        }
      ],
      "metadata": {
        "colab": {
          "base_uri": "https://localhost:8080/"
        },
        "id": "vbsvd0VvGEqx",
        "nbgrader": {
          "grade": false,
          "grade_id": "cell-a170e7dda094d54e",
          "locked": false,
          "schema_version": 3,
          "solution": true,
          "task": false
        },
        "outputId": "b48f6d91-0334-457d-aab2-ad85cd6240d4"
      }
    },
    {
      "cell_type": "markdown",
      "source": [
        "###1.4 Using `regex` to remove punctuation"
      ],
      "metadata": {
        "id": "-azmlchGb2Xm"
      }
    },
    {
      "cell_type": "markdown",
      "source": [
        "##### Keep Only Alphanumeric Characters\r\n",
        "Yes, we only want letters and numbers. Everything else is probably noise: punctuation, whitespace, and other notation. This one is little bit more complicated than our previous example. Here we will have to import the base package `re` (regular expressions). <br>\r\n",
        "\r\n",
        "`regex` is a powerful mini-language that allows you to match patterns in strings. You will find yourself using `regex` often as a Data Scientist. Read this excellent article [Easiest way to remember Regular Expressions (Regex)](https://towardsdatascience.com/easiest-way-to-remember-regular-expressions-regex-178ba518bebd) as a quick introduction!\r\n",
        "\r\n",
        "The only `regex` expression pattern you need for our current task is `'[^a-zA-Z 0-9]'` which keeps lower case letters, upper case letters, spaces, and numbers."
      ],
      "metadata": {
        "id": "YkhFYsNXGEq1"
      }
    },
    {
      "cell_type": "code",
      "execution_count": 18,
      "source": [
        "sample = sample + '..., 911'\r\n",
        "print(sample)"
      ],
      "outputs": [
        {
          "output_type": "stream",
          "name": "stdout",
          "text": [
            "Friends, Romans, countrymen, lend me your ears;..., 911\n"
          ]
        }
      ],
      "metadata": {
        "colab": {
          "base_uri": "https://localhost:8080/"
        },
        "id": "YRY7kKSAGEq4",
        "outputId": "9d5b25fa-4af7-40c9-959a-5cc9c59db153"
      }
    },
    {
      "cell_type": "code",
      "execution_count": 19,
      "source": [
        "# replace (sub) \"everything that is not lower-case or upper-case or numerical or space\" with empty string \"\"\r\n",
        "import re\r\n",
        "re.sub('[^a-zA-Z 0-9]', '', sample)"
      ],
      "outputs": [
        {
          "output_type": "execute_result",
          "data": {
            "text/plain": [
              "'Friends Romans countrymen lend me your ears 911'"
            ]
          },
          "metadata": {},
          "execution_count": 19
        }
      ],
      "metadata": {
        "colab": {
          "base_uri": "https://localhost:8080/",
          "height": 36
        },
        "id": "0iBUGUpFooW0",
        "outputId": "22d58b22-0c63-4cad-b4c4-d68867ee54fc"
      }
    },
    {
      "cell_type": "markdown",
      "source": [
        "### 1.5 Five Minute Challenge \n",
        "- Complete the function `tokenize` below\n",
        "- Combine the methods which we discussed above to clean text before we analyze it: remove punctuation, split into words, and lower case\n",
        "- You can put the methods in any order you want"
      ],
      "metadata": {
        "id": "obloLh7rGEq7"
      }
    },
    {
      "cell_type": "code",
      "execution_count": 20,
      "source": [
        "def tokenize(text):\r\n",
        "    \"\"\"Parses a string into a list of semantic units (words)\r\n",
        "\r\n",
        "    Args:\r\n",
        "        text (str): The string that the function will tokenize.\r\n",
        "\r\n",
        "    Returns:\r\n",
        "        list: tokens parsed out by the mechanics of your choice\r\n",
        "    \"\"\"\r\n",
        "    \r\n",
        "    ### BEGIN SOLUTION\r\n",
        "    tokens = re.sub('[^a-zA-Z 0-9]', '', text)\r\n",
        "    tokens = tokens.lower().split()\r\n",
        "    ### END SOLUTION\r\n",
        "    return tokens"
      ],
      "outputs": [],
      "metadata": {
        "id": "0zgbOnoIGEq7",
        "nbgrader": {
          "grade": false,
          "grade_id": "cell-42630c1891924a1a",
          "locked": false,
          "schema_version": 3,
          "solution": true,
          "task": false
        }
      }
    },
    {
      "cell_type": "code",
      "execution_count": 21,
      "source": [
        "# this should be your output\r\n",
        "tokenize(sample)"
      ],
      "outputs": [
        {
          "output_type": "execute_result",
          "data": {
            "text/plain": [
              "['friends', 'romans', 'countrymen', 'lend', 'me', 'your', 'ears', '911']"
            ]
          },
          "metadata": {},
          "execution_count": 21
        }
      ],
      "metadata": {
        "colab": {
          "base_uri": "https://localhost:8080/"
        },
        "id": "qWsYy-LqGEq9",
        "outputId": "6800b15a-cfdb-40fe-dbcd-530b1d848f32"
      }
    },
    {
      "cell_type": "markdown",
      "source": [
        "# 2. Tokenization and text preprocessing, part 2\r\n",
        "\r\n",
        "Our inability to analyze text data becomes quickly amplified in a business context. Consider the following: \r\n",
        "\r\n",
        "A business which sells widgets also collects customer reviews of those widgets. When the business first started out, they had a human read the reviews to look for patterns. Now, the business sells thousands of widgets a month. The human readers can't keep up with the pace of reviews to synthesize an accurate analysis. They need some science to help them analyze their data.\r\n",
        "\r\n",
        "Now, let's pretend that business is Amazon, and the widgets are Amazon products such as the Alexa, Echo, or other AmazonBasics products. Let's analyze their reviews with some counts. This dataset is available on [Kaggle](https://www.kaggle.com/datafiniti/consumer-reviews-of-amazon-products/)."
      ],
      "metadata": {
        "id": "erSMd4diGEq_",
        "toc-hr-collapsed": true
      }
    },
    {
      "cell_type": "code",
      "execution_count": 22,
      "source": [
        "df.head(10)"
      ],
      "outputs": [
        {
          "output_type": "execute_result",
          "data": {
            "text/html": [
              "<div>\n",
              "<style scoped>\n",
              "    .dataframe tbody tr th:only-of-type {\n",
              "        vertical-align: middle;\n",
              "    }\n",
              "\n",
              "    .dataframe tbody tr th {\n",
              "        vertical-align: top;\n",
              "    }\n",
              "\n",
              "    .dataframe thead th {\n",
              "        text-align: right;\n",
              "    }\n",
              "</style>\n",
              "<table border=\"1\" class=\"dataframe\">\n",
              "  <thead>\n",
              "    <tr style=\"text-align: right;\">\n",
              "      <th></th>\n",
              "      <th>id</th>\n",
              "      <th>dateAdded</th>\n",
              "      <th>dateUpdated</th>\n",
              "      <th>name</th>\n",
              "      <th>asins</th>\n",
              "      <th>brand</th>\n",
              "      <th>categories</th>\n",
              "      <th>primaryCategories</th>\n",
              "      <th>imageURLs</th>\n",
              "      <th>keys</th>\n",
              "      <th>...</th>\n",
              "      <th>reviews.didPurchase</th>\n",
              "      <th>reviews.doRecommend</th>\n",
              "      <th>reviews.id</th>\n",
              "      <th>reviews.numHelpful</th>\n",
              "      <th>reviews.rating</th>\n",
              "      <th>reviews.sourceURLs</th>\n",
              "      <th>reviews.text</th>\n",
              "      <th>reviews.title</th>\n",
              "      <th>reviews.username</th>\n",
              "      <th>sourceURLs</th>\n",
              "    </tr>\n",
              "  </thead>\n",
              "  <tbody>\n",
              "    <tr>\n",
              "      <th>0</th>\n",
              "      <td>AVpgNzjwLJeJML43Kpxn</td>\n",
              "      <td>2015-10-30T08:59:32Z</td>\n",
              "      <td>2019-04-25T09:08:16Z</td>\n",
              "      <td>AmazonBasics AAA Performance Alkaline Batterie...</td>\n",
              "      <td>B00QWO9P0O,B00LH3DMUO</td>\n",
              "      <td>amazonbasics</td>\n",
              "      <td>AA,AAA,Health,Electronics,Health &amp; Household,C...</td>\n",
              "      <td>Health &amp; Beauty</td>\n",
              "      <td>https://images-na.ssl-images-amazon.com/images...</td>\n",
              "      <td>amazonbasics/hl002619,amazonbasicsaaaperforman...</td>\n",
              "      <td>...</td>\n",
              "      <td>NaN</td>\n",
              "      <td>NaN</td>\n",
              "      <td>NaN</td>\n",
              "      <td>NaN</td>\n",
              "      <td>3</td>\n",
              "      <td>https://www.amazon.com/product-reviews/B00QWO9...</td>\n",
              "      <td>I order 3 of them and one of the item is bad q...</td>\n",
              "      <td>... 3 of them and one of the item is bad quali...</td>\n",
              "      <td>Byger yang</td>\n",
              "      <td>https://www.barcodable.com/upc/841710106442,ht...</td>\n",
              "    </tr>\n",
              "    <tr>\n",
              "      <th>1</th>\n",
              "      <td>AVpgNzjwLJeJML43Kpxn</td>\n",
              "      <td>2015-10-30T08:59:32Z</td>\n",
              "      <td>2019-04-25T09:08:16Z</td>\n",
              "      <td>AmazonBasics AAA Performance Alkaline Batterie...</td>\n",
              "      <td>B00QWO9P0O,B00LH3DMUO</td>\n",
              "      <td>amazonbasics</td>\n",
              "      <td>AA,AAA,Health,Electronics,Health &amp; Household,C...</td>\n",
              "      <td>Health &amp; Beauty</td>\n",
              "      <td>https://images-na.ssl-images-amazon.com/images...</td>\n",
              "      <td>amazonbasics/hl002619,amazonbasicsaaaperforman...</td>\n",
              "      <td>...</td>\n",
              "      <td>NaN</td>\n",
              "      <td>NaN</td>\n",
              "      <td>NaN</td>\n",
              "      <td>NaN</td>\n",
              "      <td>4</td>\n",
              "      <td>https://www.amazon.com/product-reviews/B00QWO9...</td>\n",
              "      <td>Bulk is always the less expensive way to go fo...</td>\n",
              "      <td>... always the less expensive way to go for pr...</td>\n",
              "      <td>ByMG</td>\n",
              "      <td>https://www.barcodable.com/upc/841710106442,ht...</td>\n",
              "    </tr>\n",
              "    <tr>\n",
              "      <th>2</th>\n",
              "      <td>AVpgNzjwLJeJML43Kpxn</td>\n",
              "      <td>2015-10-30T08:59:32Z</td>\n",
              "      <td>2019-04-25T09:08:16Z</td>\n",
              "      <td>AmazonBasics AAA Performance Alkaline Batterie...</td>\n",
              "      <td>B00QWO9P0O,B00LH3DMUO</td>\n",
              "      <td>amazonbasics</td>\n",
              "      <td>AA,AAA,Health,Electronics,Health &amp; Household,C...</td>\n",
              "      <td>Health &amp; Beauty</td>\n",
              "      <td>https://images-na.ssl-images-amazon.com/images...</td>\n",
              "      <td>amazonbasics/hl002619,amazonbasicsaaaperforman...</td>\n",
              "      <td>...</td>\n",
              "      <td>NaN</td>\n",
              "      <td>NaN</td>\n",
              "      <td>NaN</td>\n",
              "      <td>NaN</td>\n",
              "      <td>5</td>\n",
              "      <td>https://www.amazon.com/product-reviews/B00QWO9...</td>\n",
              "      <td>Well they are not Duracell but for the price i...</td>\n",
              "      <td>... are not Duracell but for the price i am ha...</td>\n",
              "      <td>BySharon Lambert</td>\n",
              "      <td>https://www.barcodable.com/upc/841710106442,ht...</td>\n",
              "    </tr>\n",
              "    <tr>\n",
              "      <th>3</th>\n",
              "      <td>AVpgNzjwLJeJML43Kpxn</td>\n",
              "      <td>2015-10-30T08:59:32Z</td>\n",
              "      <td>2019-04-25T09:08:16Z</td>\n",
              "      <td>AmazonBasics AAA Performance Alkaline Batterie...</td>\n",
              "      <td>B00QWO9P0O,B00LH3DMUO</td>\n",
              "      <td>amazonbasics</td>\n",
              "      <td>AA,AAA,Health,Electronics,Health &amp; Household,C...</td>\n",
              "      <td>Health &amp; Beauty</td>\n",
              "      <td>https://images-na.ssl-images-amazon.com/images...</td>\n",
              "      <td>amazonbasics/hl002619,amazonbasicsaaaperforman...</td>\n",
              "      <td>...</td>\n",
              "      <td>NaN</td>\n",
              "      <td>NaN</td>\n",
              "      <td>NaN</td>\n",
              "      <td>NaN</td>\n",
              "      <td>5</td>\n",
              "      <td>https://www.amazon.com/product-reviews/B00QWO9...</td>\n",
              "      <td>Seem to work as well as name brand batteries a...</td>\n",
              "      <td>... as well as name brand batteries at a much ...</td>\n",
              "      <td>Bymark sexson</td>\n",
              "      <td>https://www.barcodable.com/upc/841710106442,ht...</td>\n",
              "    </tr>\n",
              "    <tr>\n",
              "      <th>4</th>\n",
              "      <td>AVpgNzjwLJeJML43Kpxn</td>\n",
              "      <td>2015-10-30T08:59:32Z</td>\n",
              "      <td>2019-04-25T09:08:16Z</td>\n",
              "      <td>AmazonBasics AAA Performance Alkaline Batterie...</td>\n",
              "      <td>B00QWO9P0O,B00LH3DMUO</td>\n",
              "      <td>amazonbasics</td>\n",
              "      <td>AA,AAA,Health,Electronics,Health &amp; Household,C...</td>\n",
              "      <td>Health &amp; Beauty</td>\n",
              "      <td>https://images-na.ssl-images-amazon.com/images...</td>\n",
              "      <td>amazonbasics/hl002619,amazonbasicsaaaperforman...</td>\n",
              "      <td>...</td>\n",
              "      <td>NaN</td>\n",
              "      <td>NaN</td>\n",
              "      <td>NaN</td>\n",
              "      <td>NaN</td>\n",
              "      <td>5</td>\n",
              "      <td>https://www.amazon.com/product-reviews/B00QWO9...</td>\n",
              "      <td>These batteries are very long lasting the pric...</td>\n",
              "      <td>... batteries are very long lasting the price ...</td>\n",
              "      <td>Bylinda</td>\n",
              "      <td>https://www.barcodable.com/upc/841710106442,ht...</td>\n",
              "    </tr>\n",
              "    <tr>\n",
              "      <th>5</th>\n",
              "      <td>AVpgNzjwLJeJML43Kpxn</td>\n",
              "      <td>2015-10-30T08:59:32Z</td>\n",
              "      <td>2019-04-25T09:08:16Z</td>\n",
              "      <td>AmazonBasics AAA Performance Alkaline Batterie...</td>\n",
              "      <td>B00QWO9P0O,B00LH3DMUO</td>\n",
              "      <td>amazonbasics</td>\n",
              "      <td>AA,AAA,Health,Electronics,Health &amp; Household,C...</td>\n",
              "      <td>Health &amp; Beauty</td>\n",
              "      <td>https://images-na.ssl-images-amazon.com/images...</td>\n",
              "      <td>amazonbasics/hl002619,amazonbasicsaaaperforman...</td>\n",
              "      <td>...</td>\n",
              "      <td>NaN</td>\n",
              "      <td>NaN</td>\n",
              "      <td>NaN</td>\n",
              "      <td>NaN</td>\n",
              "      <td>5</td>\n",
              "      <td>https://www.amazon.com/product-reviews/B00QWO9...</td>\n",
              "      <td>Bought a lot of batteries for Christmas and th...</td>\n",
              "      <td>... batteries for Christmas and the AmazonBasi...</td>\n",
              "      <td>ByPainter Marlow</td>\n",
              "      <td>https://www.barcodable.com/upc/841710106442,ht...</td>\n",
              "    </tr>\n",
              "    <tr>\n",
              "      <th>6</th>\n",
              "      <td>AVpgNzjwLJeJML43Kpxn</td>\n",
              "      <td>2015-10-30T08:59:32Z</td>\n",
              "      <td>2019-04-25T09:08:16Z</td>\n",
              "      <td>AmazonBasics AAA Performance Alkaline Batterie...</td>\n",
              "      <td>B00QWO9P0O,B00LH3DMUO</td>\n",
              "      <td>amazonbasics</td>\n",
              "      <td>AA,AAA,Health,Electronics,Health &amp; Household,C...</td>\n",
              "      <td>Health &amp; Beauty</td>\n",
              "      <td>https://images-na.ssl-images-amazon.com/images...</td>\n",
              "      <td>amazonbasics/hl002619,amazonbasicsaaaperforman...</td>\n",
              "      <td>...</td>\n",
              "      <td>NaN</td>\n",
              "      <td>NaN</td>\n",
              "      <td>NaN</td>\n",
              "      <td>NaN</td>\n",
              "      <td>5</td>\n",
              "      <td>https://www.amazon.com/product-reviews/B00QWO9...</td>\n",
              "      <td>ive not had any problame with these batteries ...</td>\n",
              "      <td>... batteries have ordered them in the past be...</td>\n",
              "      <td>ByAmazon Customer</td>\n",
              "      <td>https://www.barcodable.com/upc/841710106442,ht...</td>\n",
              "    </tr>\n",
              "    <tr>\n",
              "      <th>7</th>\n",
              "      <td>AVpgNzjwLJeJML43Kpxn</td>\n",
              "      <td>2015-10-30T08:59:32Z</td>\n",
              "      <td>2019-04-25T09:08:16Z</td>\n",
              "      <td>AmazonBasics AAA Performance Alkaline Batterie...</td>\n",
              "      <td>B00QWO9P0O,B00LH3DMUO</td>\n",
              "      <td>amazonbasics</td>\n",
              "      <td>AA,AAA,Health,Electronics,Health &amp; Household,C...</td>\n",
              "      <td>Health &amp; Beauty</td>\n",
              "      <td>https://images-na.ssl-images-amazon.com/images...</td>\n",
              "      <td>amazonbasics/hl002619,amazonbasicsaaaperforman...</td>\n",
              "      <td>...</td>\n",
              "      <td>NaN</td>\n",
              "      <td>NaN</td>\n",
              "      <td>NaN</td>\n",
              "      <td>NaN</td>\n",
              "      <td>5</td>\n",
              "      <td>https://www.amazon.com/product-reviews/B00QWO9...</td>\n",
              "      <td>Well if you are looking for cheap non-recharge...</td>\n",
              "      <td>... batteries that last quite a while then the...</td>\n",
              "      <td>ByLynn Pendegrass</td>\n",
              "      <td>https://www.barcodable.com/upc/841710106442,ht...</td>\n",
              "    </tr>\n",
              "    <tr>\n",
              "      <th>8</th>\n",
              "      <td>AVpgNzjwLJeJML43Kpxn</td>\n",
              "      <td>2015-10-30T08:59:32Z</td>\n",
              "      <td>2019-04-25T09:08:16Z</td>\n",
              "      <td>AmazonBasics AAA Performance Alkaline Batterie...</td>\n",
              "      <td>B00QWO9P0O,B00LH3DMUO</td>\n",
              "      <td>amazonbasics</td>\n",
              "      <td>AA,AAA,Health,Electronics,Health &amp; Household,C...</td>\n",
              "      <td>Health &amp; Beauty</td>\n",
              "      <td>https://images-na.ssl-images-amazon.com/images...</td>\n",
              "      <td>amazonbasics/hl002619,amazonbasicsaaaperforman...</td>\n",
              "      <td>...</td>\n",
              "      <td>NaN</td>\n",
              "      <td>NaN</td>\n",
              "      <td>NaN</td>\n",
              "      <td>NaN</td>\n",
              "      <td>3</td>\n",
              "      <td>https://www.amazon.com/product-reviews/B00QWO9...</td>\n",
              "      <td>These do not hold the amount of high power jui...</td>\n",
              "      <td>... do not hold the amount of high power juice...</td>\n",
              "      <td>ByK.R.</td>\n",
              "      <td>https://www.barcodable.com/upc/841710106442,ht...</td>\n",
              "    </tr>\n",
              "    <tr>\n",
              "      <th>9</th>\n",
              "      <td>AVpgNzjwLJeJML43Kpxn</td>\n",
              "      <td>2015-10-30T08:59:32Z</td>\n",
              "      <td>2019-04-25T09:08:16Z</td>\n",
              "      <td>AmazonBasics AAA Performance Alkaline Batterie...</td>\n",
              "      <td>B00QWO9P0O,B00LH3DMUO</td>\n",
              "      <td>amazonbasics</td>\n",
              "      <td>AA,AAA,Health,Electronics,Health &amp; Household,C...</td>\n",
              "      <td>Health &amp; Beauty</td>\n",
              "      <td>https://images-na.ssl-images-amazon.com/images...</td>\n",
              "      <td>amazonbasics/hl002619,amazonbasicsaaaperforman...</td>\n",
              "      <td>...</td>\n",
              "      <td>NaN</td>\n",
              "      <td>NaN</td>\n",
              "      <td>NaN</td>\n",
              "      <td>NaN</td>\n",
              "      <td>4</td>\n",
              "      <td>https://www.amazon.com/product-reviews/B00QWO9...</td>\n",
              "      <td>AmazonBasics AA AAA batteries have done well b...</td>\n",
              "      <td>... done well by me appear to have a good shel...</td>\n",
              "      <td>BySilverLane</td>\n",
              "      <td>https://www.barcodable.com/upc/841710106442,ht...</td>\n",
              "    </tr>\n",
              "  </tbody>\n",
              "</table>\n",
              "<p>10 rows × 24 columns</p>\n",
              "</div>"
            ],
            "text/plain": [
              "                     id             dateAdded           dateUpdated  \\\n",
              "0  AVpgNzjwLJeJML43Kpxn  2015-10-30T08:59:32Z  2019-04-25T09:08:16Z   \n",
              "1  AVpgNzjwLJeJML43Kpxn  2015-10-30T08:59:32Z  2019-04-25T09:08:16Z   \n",
              "2  AVpgNzjwLJeJML43Kpxn  2015-10-30T08:59:32Z  2019-04-25T09:08:16Z   \n",
              "3  AVpgNzjwLJeJML43Kpxn  2015-10-30T08:59:32Z  2019-04-25T09:08:16Z   \n",
              "4  AVpgNzjwLJeJML43Kpxn  2015-10-30T08:59:32Z  2019-04-25T09:08:16Z   \n",
              "5  AVpgNzjwLJeJML43Kpxn  2015-10-30T08:59:32Z  2019-04-25T09:08:16Z   \n",
              "6  AVpgNzjwLJeJML43Kpxn  2015-10-30T08:59:32Z  2019-04-25T09:08:16Z   \n",
              "7  AVpgNzjwLJeJML43Kpxn  2015-10-30T08:59:32Z  2019-04-25T09:08:16Z   \n",
              "8  AVpgNzjwLJeJML43Kpxn  2015-10-30T08:59:32Z  2019-04-25T09:08:16Z   \n",
              "9  AVpgNzjwLJeJML43Kpxn  2015-10-30T08:59:32Z  2019-04-25T09:08:16Z   \n",
              "\n",
              "                                                name                  asins  \\\n",
              "0  AmazonBasics AAA Performance Alkaline Batterie...  B00QWO9P0O,B00LH3DMUO   \n",
              "1  AmazonBasics AAA Performance Alkaline Batterie...  B00QWO9P0O,B00LH3DMUO   \n",
              "2  AmazonBasics AAA Performance Alkaline Batterie...  B00QWO9P0O,B00LH3DMUO   \n",
              "3  AmazonBasics AAA Performance Alkaline Batterie...  B00QWO9P0O,B00LH3DMUO   \n",
              "4  AmazonBasics AAA Performance Alkaline Batterie...  B00QWO9P0O,B00LH3DMUO   \n",
              "5  AmazonBasics AAA Performance Alkaline Batterie...  B00QWO9P0O,B00LH3DMUO   \n",
              "6  AmazonBasics AAA Performance Alkaline Batterie...  B00QWO9P0O,B00LH3DMUO   \n",
              "7  AmazonBasics AAA Performance Alkaline Batterie...  B00QWO9P0O,B00LH3DMUO   \n",
              "8  AmazonBasics AAA Performance Alkaline Batterie...  B00QWO9P0O,B00LH3DMUO   \n",
              "9  AmazonBasics AAA Performance Alkaline Batterie...  B00QWO9P0O,B00LH3DMUO   \n",
              "\n",
              "          brand                                         categories  \\\n",
              "0  amazonbasics  AA,AAA,Health,Electronics,Health & Household,C...   \n",
              "1  amazonbasics  AA,AAA,Health,Electronics,Health & Household,C...   \n",
              "2  amazonbasics  AA,AAA,Health,Electronics,Health & Household,C...   \n",
              "3  amazonbasics  AA,AAA,Health,Electronics,Health & Household,C...   \n",
              "4  amazonbasics  AA,AAA,Health,Electronics,Health & Household,C...   \n",
              "5  amazonbasics  AA,AAA,Health,Electronics,Health & Household,C...   \n",
              "6  amazonbasics  AA,AAA,Health,Electronics,Health & Household,C...   \n",
              "7  amazonbasics  AA,AAA,Health,Electronics,Health & Household,C...   \n",
              "8  amazonbasics  AA,AAA,Health,Electronics,Health & Household,C...   \n",
              "9  amazonbasics  AA,AAA,Health,Electronics,Health & Household,C...   \n",
              "\n",
              "  primaryCategories                                          imageURLs  \\\n",
              "0   Health & Beauty  https://images-na.ssl-images-amazon.com/images...   \n",
              "1   Health & Beauty  https://images-na.ssl-images-amazon.com/images...   \n",
              "2   Health & Beauty  https://images-na.ssl-images-amazon.com/images...   \n",
              "3   Health & Beauty  https://images-na.ssl-images-amazon.com/images...   \n",
              "4   Health & Beauty  https://images-na.ssl-images-amazon.com/images...   \n",
              "5   Health & Beauty  https://images-na.ssl-images-amazon.com/images...   \n",
              "6   Health & Beauty  https://images-na.ssl-images-amazon.com/images...   \n",
              "7   Health & Beauty  https://images-na.ssl-images-amazon.com/images...   \n",
              "8   Health & Beauty  https://images-na.ssl-images-amazon.com/images...   \n",
              "9   Health & Beauty  https://images-na.ssl-images-amazon.com/images...   \n",
              "\n",
              "                                                keys  ... reviews.didPurchase  \\\n",
              "0  amazonbasics/hl002619,amazonbasicsaaaperforman...  ...                 NaN   \n",
              "1  amazonbasics/hl002619,amazonbasicsaaaperforman...  ...                 NaN   \n",
              "2  amazonbasics/hl002619,amazonbasicsaaaperforman...  ...                 NaN   \n",
              "3  amazonbasics/hl002619,amazonbasicsaaaperforman...  ...                 NaN   \n",
              "4  amazonbasics/hl002619,amazonbasicsaaaperforman...  ...                 NaN   \n",
              "5  amazonbasics/hl002619,amazonbasicsaaaperforman...  ...                 NaN   \n",
              "6  amazonbasics/hl002619,amazonbasicsaaaperforman...  ...                 NaN   \n",
              "7  amazonbasics/hl002619,amazonbasicsaaaperforman...  ...                 NaN   \n",
              "8  amazonbasics/hl002619,amazonbasicsaaaperforman...  ...                 NaN   \n",
              "9  amazonbasics/hl002619,amazonbasicsaaaperforman...  ...                 NaN   \n",
              "\n",
              "  reviews.doRecommend reviews.id reviews.numHelpful reviews.rating  \\\n",
              "0                 NaN        NaN                NaN              3   \n",
              "1                 NaN        NaN                NaN              4   \n",
              "2                 NaN        NaN                NaN              5   \n",
              "3                 NaN        NaN                NaN              5   \n",
              "4                 NaN        NaN                NaN              5   \n",
              "5                 NaN        NaN                NaN              5   \n",
              "6                 NaN        NaN                NaN              5   \n",
              "7                 NaN        NaN                NaN              5   \n",
              "8                 NaN        NaN                NaN              3   \n",
              "9                 NaN        NaN                NaN              4   \n",
              "\n",
              "                                  reviews.sourceURLs  \\\n",
              "0  https://www.amazon.com/product-reviews/B00QWO9...   \n",
              "1  https://www.amazon.com/product-reviews/B00QWO9...   \n",
              "2  https://www.amazon.com/product-reviews/B00QWO9...   \n",
              "3  https://www.amazon.com/product-reviews/B00QWO9...   \n",
              "4  https://www.amazon.com/product-reviews/B00QWO9...   \n",
              "5  https://www.amazon.com/product-reviews/B00QWO9...   \n",
              "6  https://www.amazon.com/product-reviews/B00QWO9...   \n",
              "7  https://www.amazon.com/product-reviews/B00QWO9...   \n",
              "8  https://www.amazon.com/product-reviews/B00QWO9...   \n",
              "9  https://www.amazon.com/product-reviews/B00QWO9...   \n",
              "\n",
              "                                        reviews.text  \\\n",
              "0  I order 3 of them and one of the item is bad q...   \n",
              "1  Bulk is always the less expensive way to go fo...   \n",
              "2  Well they are not Duracell but for the price i...   \n",
              "3  Seem to work as well as name brand batteries a...   \n",
              "4  These batteries are very long lasting the pric...   \n",
              "5  Bought a lot of batteries for Christmas and th...   \n",
              "6  ive not had any problame with these batteries ...   \n",
              "7  Well if you are looking for cheap non-recharge...   \n",
              "8  These do not hold the amount of high power jui...   \n",
              "9  AmazonBasics AA AAA batteries have done well b...   \n",
              "\n",
              "                                       reviews.title   reviews.username  \\\n",
              "0  ... 3 of them and one of the item is bad quali...         Byger yang   \n",
              "1  ... always the less expensive way to go for pr...               ByMG   \n",
              "2  ... are not Duracell but for the price i am ha...   BySharon Lambert   \n",
              "3  ... as well as name brand batteries at a much ...      Bymark sexson   \n",
              "4  ... batteries are very long lasting the price ...            Bylinda   \n",
              "5  ... batteries for Christmas and the AmazonBasi...   ByPainter Marlow   \n",
              "6  ... batteries have ordered them in the past be...  ByAmazon Customer   \n",
              "7  ... batteries that last quite a while then the...  ByLynn Pendegrass   \n",
              "8  ... do not hold the amount of high power juice...             ByK.R.   \n",
              "9  ... done well by me appear to have a good shel...       BySilverLane   \n",
              "\n",
              "                                          sourceURLs  \n",
              "0  https://www.barcodable.com/upc/841710106442,ht...  \n",
              "1  https://www.barcodable.com/upc/841710106442,ht...  \n",
              "2  https://www.barcodable.com/upc/841710106442,ht...  \n",
              "3  https://www.barcodable.com/upc/841710106442,ht...  \n",
              "4  https://www.barcodable.com/upc/841710106442,ht...  \n",
              "5  https://www.barcodable.com/upc/841710106442,ht...  \n",
              "6  https://www.barcodable.com/upc/841710106442,ht...  \n",
              "7  https://www.barcodable.com/upc/841710106442,ht...  \n",
              "8  https://www.barcodable.com/upc/841710106442,ht...  \n",
              "9  https://www.barcodable.com/upc/841710106442,ht...  \n",
              "\n",
              "[10 rows x 24 columns]"
            ]
          },
          "metadata": {},
          "execution_count": 22
        }
      ],
      "metadata": {
        "colab": {
          "base_uri": "https://localhost:8080/",
          "height": 271
        },
        "id": "ydhFysF-GErC",
        "outputId": "3b336e5d-5763-45aa-a394-d0c384515e9b"
      }
    },
    {
      "cell_type": "code",
      "execution_count": 23,
      "source": [
        "# view count of primaryCategories\r\n",
        "df['primaryCategories'].value_counts()"
      ],
      "outputs": [
        {
          "output_type": "execute_result",
          "data": {
            "text/plain": [
              "Electronics                    13995\n",
              "Health & Beauty                12071\n",
              "Toys & Games,Electronics        1676\n",
              "Office Supplies,Electronics      386\n",
              "Electronics,Media                185\n",
              "Office Supplies                    9\n",
              "Animals & Pet Supplies             6\n",
              "Home & Garden                      2\n",
              "Electronics,Furniture              2\n",
              "Name: primaryCategories, dtype: int64"
            ]
          },
          "metadata": {},
          "execution_count": 23
        }
      ],
      "metadata": {
        "colab": {
          "base_uri": "https://localhost:8080/"
        },
        "id": "KWfRWgx_hDIW",
        "outputId": "3437afc8-f0e9-44bd-f0a2-aede654759a5"
      }
    },
    {
      "cell_type": "markdown",
      "source": [
        "###  2.1 Counting word occurrences"
      ],
      "metadata": {
        "id": "PXUB40TOjxkn"
      }
    },
    {
      "cell_type": "code",
      "execution_count": 25,
      "source": [
        "# Counting occurrences of words in the raw text\r\n",
        "df['reviews.text'].value_counts()[:]"
      ],
      "outputs": [
        {
          "output_type": "execute_result",
          "data": {
            "text/plain": [
              "good                                                                                                                                               60\n",
              "great                                                                                                                                              49\n",
              "Good                                                                                                                                               42\n",
              "Great                                                                                                                                              38\n",
              "ok                                                                                                                                                 33\n",
              "                                                                                                                                                   ..\n",
              "Great price on a great product. Affordable!!                                                                                                        1\n",
              "Great value, no issues!                                                                                                                             1\n",
              "These batteries worked great! Just as good as any name brand battery but at a fraction of the cost and delivered for free!                          1\n",
              "excellent price for so many batteries. they don't discharge quickly. i'm pretty sure nothing has died yet that i put these amazon batteries in.     1\n",
              "its fast, it has good lighting. its got the 16gb space, best gift ive bought for a bookreader.                                                      1\n",
              "Name: reviews.text, Length: 18168, dtype: int64"
            ]
          },
          "metadata": {},
          "execution_count": 25
        }
      ],
      "metadata": {
        "colab": {
          "base_uri": "https://localhost:8080/"
        },
        "id": "q--SeRsygBzO",
        "outputId": "c56efc4d-1bdf-4223-a40c-a559d9a678de"
      }
    },
    {
      "cell_type": "code",
      "execution_count": 26,
      "source": [
        "# Counting fractional word occurrences (divide by total number of words)\r\n",
        "# Look at the first 50 words\r\n",
        "df['reviews.text'].value_counts(normalize=True)[:50]"
      ],
      "outputs": [
        {
          "output_type": "execute_result",
          "data": {
            "text/plain": [
              "good                0.002118\n",
              "great               0.001729\n",
              "Good                0.001482\n",
              "Great               0.001341\n",
              "ok                  0.001165\n",
              "Great price         0.001059\n",
              "great price         0.000988\n",
              "Excellent           0.000988\n",
              "Great value         0.000953\n",
              "good price          0.000812\n",
              "great value         0.000777\n",
              "Great price!        0.000635\n",
              "good value          0.000600\n",
              "good deal           0.000565\n",
              "Great value.        0.000565\n",
              "Good deal           0.000529\n",
              "Great product       0.000529\n",
              "Great deal          0.000529\n",
              "OK                  0.000529\n",
              "As expected         0.000529\n",
              "Good value          0.000494\n",
              "Good batteries      0.000494\n",
              "Great batteries.    0.000459\n",
              "So far so good      0.000459\n",
              "Good price          0.000459\n",
              "great deal          0.000459\n",
              "Great value!        0.000459\n",
              "Good buy            0.000424\n",
              "Work great          0.000424\n",
              "Good value.         0.000388\n",
              "good batteries      0.000388\n",
              "Great batteries     0.000388\n",
              "excellent           0.000388\n",
              "very good           0.000388\n",
              "Great deal!         0.000388\n",
              "Great buy           0.000388\n",
              "as expected         0.000388\n",
              "Great price.        0.000388\n",
              "As described        0.000388\n",
              "Great!              0.000388\n",
              "Work great.         0.000353\n",
              "Nice                0.000353\n",
              "Perfect!            0.000353\n",
              "great batteries     0.000353\n",
              "Ok                  0.000353\n",
              "good product        0.000353\n",
              "Long lasting        0.000318\n",
              "Good price.         0.000318\n",
              "Very good           0.000318\n",
              "Thanks              0.000318\n",
              "Name: reviews.text, dtype: float64"
            ]
          },
          "metadata": {},
          "execution_count": 26
        }
      ],
      "metadata": {
        "colab": {
          "base_uri": "https://localhost:8080/"
        },
        "id": "TTZEyAsMfzgC",
        "outputId": "f58dd188-4f11-42ef-af2f-0142cb922481"
      }
    },
    {
      "cell_type": "markdown",
      "source": [
        "### 2.2 Use your tokenizer to tokenize the reviews"
      ],
      "metadata": {
        "id": "NWwDOZZ8j_JW"
      }
    },
    {
      "cell_type": "code",
      "execution_count": 29,
      "source": [
        "### BEGIN SOLUTION\r\n",
        "\r\n",
        "# tokenize reviews.text \r\n",
        "df['tokens'] = df['reviews.text'].apply(tokenize)\r\n",
        "\r\n",
        "### END SOLUTION"
      ],
      "outputs": [],
      "metadata": {
        "id": "Lkl_l_3KGErH",
        "nbgrader": {
          "grade": false,
          "grade_id": "cell-afe39f461a4852ac",
          "locked": false,
          "schema_version": 3,
          "solution": true,
          "task": false
        }
      }
    },
    {
      "cell_type": "code",
      "execution_count": 34,
      "source": [
        "df['tokens']"
      ],
      "outputs": [
        {
          "output_type": "execute_result",
          "data": {
            "text/plain": [
              "0        [i, order, 3, of, them, and, one, of, the, ite...\n",
              "1        [bulk, is, always, the, less, expensive, way, ...\n",
              "2        [well, they, are, not, duracell, but, for, the...\n",
              "3        [seem, to, work, as, well, as, name, brand, ba...\n",
              "4        [these, batteries, are, very, long, lasting, t...\n",
              "                               ...                        \n",
              "28327    [i, got, 2, of, these, for, my, 8, yr, old, tw...\n",
              "28328    [i, bought, this, for, my, niece, for, a, chri...\n",
              "28329    [very, nice, for, light, internet, browsing, k...\n",
              "28330    [this, tablet, does, absolutely, everything, i...\n",
              "28331    [at, ninety, dollars, the, expectionations, ar...\n",
              "Name: tokens, Length: 28332, dtype: object"
            ]
          },
          "metadata": {},
          "execution_count": 34
        }
      ],
      "metadata": {}
    },
    {
      "cell_type": "code",
      "execution_count": null,
      "source": [
        "# Take a subset of the df where the only primaryCategories is Electronics\r\n",
        "#df = df[df['primaryCategories'] == 'Electronics'].copy()"
      ],
      "outputs": [],
      "metadata": {
        "id": "b9XyEJ-CPVpY"
      }
    },
    {
      "cell_type": "code",
      "execution_count": 35,
      "source": [
        "df.head(2)"
      ],
      "outputs": [
        {
          "output_type": "execute_result",
          "data": {
            "text/html": [
              "<div>\n",
              "<style scoped>\n",
              "    .dataframe tbody tr th:only-of-type {\n",
              "        vertical-align: middle;\n",
              "    }\n",
              "\n",
              "    .dataframe tbody tr th {\n",
              "        vertical-align: top;\n",
              "    }\n",
              "\n",
              "    .dataframe thead th {\n",
              "        text-align: right;\n",
              "    }\n",
              "</style>\n",
              "<table border=\"1\" class=\"dataframe\">\n",
              "  <thead>\n",
              "    <tr style=\"text-align: right;\">\n",
              "      <th></th>\n",
              "      <th>id</th>\n",
              "      <th>dateAdded</th>\n",
              "      <th>dateUpdated</th>\n",
              "      <th>name</th>\n",
              "      <th>asins</th>\n",
              "      <th>brand</th>\n",
              "      <th>categories</th>\n",
              "      <th>primaryCategories</th>\n",
              "      <th>imageURLs</th>\n",
              "      <th>keys</th>\n",
              "      <th>...</th>\n",
              "      <th>reviews.doRecommend</th>\n",
              "      <th>reviews.id</th>\n",
              "      <th>reviews.numHelpful</th>\n",
              "      <th>reviews.rating</th>\n",
              "      <th>reviews.sourceURLs</th>\n",
              "      <th>reviews.text</th>\n",
              "      <th>reviews.title</th>\n",
              "      <th>reviews.username</th>\n",
              "      <th>sourceURLs</th>\n",
              "      <th>tokens</th>\n",
              "    </tr>\n",
              "  </thead>\n",
              "  <tbody>\n",
              "    <tr>\n",
              "      <th>0</th>\n",
              "      <td>AVpgNzjwLJeJML43Kpxn</td>\n",
              "      <td>2015-10-30T08:59:32Z</td>\n",
              "      <td>2019-04-25T09:08:16Z</td>\n",
              "      <td>AmazonBasics AAA Performance Alkaline Batterie...</td>\n",
              "      <td>B00QWO9P0O,B00LH3DMUO</td>\n",
              "      <td>amazonbasics</td>\n",
              "      <td>AA,AAA,Health,Electronics,Health &amp; Household,C...</td>\n",
              "      <td>Health &amp; Beauty</td>\n",
              "      <td>https://images-na.ssl-images-amazon.com/images...</td>\n",
              "      <td>amazonbasics/hl002619,amazonbasicsaaaperforman...</td>\n",
              "      <td>...</td>\n",
              "      <td>NaN</td>\n",
              "      <td>NaN</td>\n",
              "      <td>NaN</td>\n",
              "      <td>3</td>\n",
              "      <td>https://www.amazon.com/product-reviews/B00QWO9...</td>\n",
              "      <td>I order 3 of them and one of the item is bad q...</td>\n",
              "      <td>... 3 of them and one of the item is bad quali...</td>\n",
              "      <td>Byger yang</td>\n",
              "      <td>https://www.barcodable.com/upc/841710106442,ht...</td>\n",
              "      <td>[i, order, 3, of, them, and, one, of, the, ite...</td>\n",
              "    </tr>\n",
              "    <tr>\n",
              "      <th>1</th>\n",
              "      <td>AVpgNzjwLJeJML43Kpxn</td>\n",
              "      <td>2015-10-30T08:59:32Z</td>\n",
              "      <td>2019-04-25T09:08:16Z</td>\n",
              "      <td>AmazonBasics AAA Performance Alkaline Batterie...</td>\n",
              "      <td>B00QWO9P0O,B00LH3DMUO</td>\n",
              "      <td>amazonbasics</td>\n",
              "      <td>AA,AAA,Health,Electronics,Health &amp; Household,C...</td>\n",
              "      <td>Health &amp; Beauty</td>\n",
              "      <td>https://images-na.ssl-images-amazon.com/images...</td>\n",
              "      <td>amazonbasics/hl002619,amazonbasicsaaaperforman...</td>\n",
              "      <td>...</td>\n",
              "      <td>NaN</td>\n",
              "      <td>NaN</td>\n",
              "      <td>NaN</td>\n",
              "      <td>4</td>\n",
              "      <td>https://www.amazon.com/product-reviews/B00QWO9...</td>\n",
              "      <td>Bulk is always the less expensive way to go fo...</td>\n",
              "      <td>... always the less expensive way to go for pr...</td>\n",
              "      <td>ByMG</td>\n",
              "      <td>https://www.barcodable.com/upc/841710106442,ht...</td>\n",
              "      <td>[bulk, is, always, the, less, expensive, way, ...</td>\n",
              "    </tr>\n",
              "  </tbody>\n",
              "</table>\n",
              "<p>2 rows × 25 columns</p>\n",
              "</div>"
            ],
            "text/plain": [
              "                     id             dateAdded           dateUpdated  \\\n",
              "0  AVpgNzjwLJeJML43Kpxn  2015-10-30T08:59:32Z  2019-04-25T09:08:16Z   \n",
              "1  AVpgNzjwLJeJML43Kpxn  2015-10-30T08:59:32Z  2019-04-25T09:08:16Z   \n",
              "\n",
              "                                                name                  asins  \\\n",
              "0  AmazonBasics AAA Performance Alkaline Batterie...  B00QWO9P0O,B00LH3DMUO   \n",
              "1  AmazonBasics AAA Performance Alkaline Batterie...  B00QWO9P0O,B00LH3DMUO   \n",
              "\n",
              "          brand                                         categories  \\\n",
              "0  amazonbasics  AA,AAA,Health,Electronics,Health & Household,C...   \n",
              "1  amazonbasics  AA,AAA,Health,Electronics,Health & Household,C...   \n",
              "\n",
              "  primaryCategories                                          imageURLs  \\\n",
              "0   Health & Beauty  https://images-na.ssl-images-amazon.com/images...   \n",
              "1   Health & Beauty  https://images-na.ssl-images-amazon.com/images...   \n",
              "\n",
              "                                                keys  ... reviews.doRecommend  \\\n",
              "0  amazonbasics/hl002619,amazonbasicsaaaperforman...  ...                 NaN   \n",
              "1  amazonbasics/hl002619,amazonbasicsaaaperforman...  ...                 NaN   \n",
              "\n",
              "  reviews.id reviews.numHelpful reviews.rating  \\\n",
              "0        NaN                NaN              3   \n",
              "1        NaN                NaN              4   \n",
              "\n",
              "                                  reviews.sourceURLs  \\\n",
              "0  https://www.amazon.com/product-reviews/B00QWO9...   \n",
              "1  https://www.amazon.com/product-reviews/B00QWO9...   \n",
              "\n",
              "                                        reviews.text  \\\n",
              "0  I order 3 of them and one of the item is bad q...   \n",
              "1  Bulk is always the less expensive way to go fo...   \n",
              "\n",
              "                                       reviews.title  reviews.username  \\\n",
              "0  ... 3 of them and one of the item is bad quali...        Byger yang   \n",
              "1  ... always the less expensive way to go for pr...              ByMG   \n",
              "\n",
              "                                          sourceURLs  \\\n",
              "0  https://www.barcodable.com/upc/841710106442,ht...   \n",
              "1  https://www.barcodable.com/upc/841710106442,ht...   \n",
              "\n",
              "                                              tokens  \n",
              "0  [i, order, 3, of, them, and, one, of, the, ite...  \n",
              "1  [bulk, is, always, the, less, expensive, way, ...  \n",
              "\n",
              "[2 rows x 25 columns]"
            ]
          },
          "metadata": {},
          "execution_count": 35
        }
      ],
      "metadata": {
        "id": "64GctLMxEGF4",
        "colab": {
          "base_uri": "https://localhost:8080/",
          "height": 271
        },
        "outputId": "57771c36-1af6-4991-c19d-dbb5503cd4fc"
      }
    },
    {
      "cell_type": "code",
      "execution_count": 36,
      "source": [
        "df['tokens'][100]"
      ],
      "outputs": [
        {
          "output_type": "execute_result",
          "data": {
            "text/plain": [
              "['as',\n",
              " 'a',\n",
              " 'teacher',\n",
              " 'i',\n",
              " 'need',\n",
              " 'tons',\n",
              " 'of',\n",
              " 'batteries',\n",
              " 'but',\n",
              " 'i',\n",
              " 'refused',\n",
              " 'to',\n",
              " 'spend',\n",
              " 'excessive',\n",
              " 'amounts',\n",
              " 'on',\n",
              " 'them',\n",
              " 'so',\n",
              " 'i',\n",
              " 'figured',\n",
              " 'this',\n",
              " 'was',\n",
              " 'the',\n",
              " 'best',\n",
              " 'option',\n",
              " 'they',\n",
              " 'are',\n",
              " 'longlasting',\n",
              " 'worth',\n",
              " 'the',\n",
              " 'money',\n",
              " 'cute',\n",
              " 'if',\n",
              " 'that',\n",
              " 'even',\n",
              " 'matters',\n",
              " 'lol',\n",
              " 'you',\n",
              " 'wont',\n",
              " 'find',\n",
              " 'a',\n",
              " 'deal',\n",
              " 'like',\n",
              " 'this',\n",
              " 'in',\n",
              " 'storesi',\n",
              " 'highly',\n",
              " 'recommend']"
            ]
          },
          "metadata": {},
          "execution_count": 36
        }
      ],
      "metadata": {
        "id": "w6g45K_tEO-i",
        "colab": {
          "base_uri": "https://localhost:8080/"
        },
        "outputId": "3567cdf9-6714-4351-f25d-10de247afa1a"
      }
    },
    {
      "cell_type": "markdown",
      "source": [
        "###2.3 Analyzing Tokens"
      ],
      "metadata": {
        "id": "8hOBAw2yGErU"
      }
    },
    {
      "cell_type": "code",
      "execution_count": 37,
      "source": [
        "# Object from Base Python\r\n",
        "from collections import Counter\r\n",
        "\r\n",
        "### BEGIN SOLUTION\r\n",
        "# The object `Counter` takes an iterable, but you can instantiate an empty one and update it. \r\n",
        "word_counts = Counter()\r\n",
        "\r\n",
        "# Update it based on a split of each of our documents\r\n",
        "df['tokens'].apply(lambda x: word_counts.update(x))\r\n",
        "\r\n",
        "# Print out the 10 most common words\r\n",
        "word_counts.most_common(10)\r\n",
        "\r\n",
        "### END SOLUTION"
      ],
      "outputs": [
        {
          "output_type": "execute_result",
          "data": {
            "text/plain": [
              "[('the', 28836),\n",
              " ('and', 22302),\n",
              " ('i', 20588),\n",
              " ('to', 19537),\n",
              " ('for', 17918),\n",
              " ('a', 17599),\n",
              " ('it', 16793),\n",
              " ('is', 11482),\n",
              " ('my', 11149),\n",
              " ('this', 10420)]"
            ]
          },
          "metadata": {},
          "execution_count": 37
        }
      ],
      "metadata": {
        "colab": {
          "base_uri": "https://localhost:8080/"
        },
        "id": "6jVvZAvJGErU",
        "nbgrader": {
          "grade": false,
          "grade_id": "cell-1df54ac52c426166",
          "locked": false,
          "schema_version": 3,
          "solution": true,
          "task": false
        },
        "outputId": "fb8787d6-7887-4715-8390-8858b06f5f16"
      }
    },
    {
      "cell_type": "markdown",
      "source": [
        "Let's create a fuction which takes a corpus of documents and returns a dataframe of word counts for us to analyze."
      ],
      "metadata": {
        "id": "TiVHbw6xGErW"
      }
    },
    {
      "cell_type": "code",
      "execution_count": 38,
      "source": [
        "def count(tokens):\r\n",
        "    \"\"\"\r\n",
        "    Calculates some basic statistics about tokens in our corpus (i.e. corpus means collections text data)\r\n",
        "    \"\"\"\r\n",
        "    # stores the count of each token\r\n",
        "    word_counts = Counter()\r\n",
        "    \r\n",
        "    # stores the number of docs that each token appears in \r\n",
        "    appears_in = Counter()\r\n",
        "\r\n",
        "    total_docs = len(tokens)\r\n",
        "\r\n",
        "    for token in tokens:\r\n",
        "        # stores count of every appearance of a token \r\n",
        "        word_counts.update(token)\r\n",
        "        # use set() in order to not count duplicates, thereby count the num of docs that each token appears in\r\n",
        "        appears_in.update(set(token))\r\n",
        "\r\n",
        "    # build word count dataframe\r\n",
        "    temp = zip(word_counts.keys(), word_counts.values())\r\n",
        "    wc = pd.DataFrame(temp, columns = ['word', 'count'])\r\n",
        "\r\n",
        "    # rank the the word counts\r\n",
        "    wc['rank'] = wc['count'].rank(method='first', ascending=False)\r\n",
        "    total = wc['count'].sum()\r\n",
        "\r\n",
        "    # calculate the percent total of each token\r\n",
        "    wc['pct_total'] = wc['count'].apply(lambda token_count: token_count / total)\r\n",
        "\r\n",
        "    # calculate the cumulative percent total of word counts \r\n",
        "    wc = wc.sort_values(by='rank')\r\n",
        "    wc['cul_pct_total'] = wc['pct_total'].cumsum()\r\n",
        "\r\n",
        "    # create dataframe for document stats\r\n",
        "    t2 = zip(appears_in.keys(), appears_in.values())\r\n",
        "    ac = pd.DataFrame(t2, columns=['word', 'appears_in'])\r\n",
        "    \r\n",
        "    # merge word count stats with doc stats\r\n",
        "    wc = ac.merge(wc, on='word')\r\n",
        "\r\n",
        "    wc['appears_in_pct'] = wc['appears_in'].apply(lambda x: x / total_docs)\r\n",
        "\r\n",
        "    return wc.sort_values(by='rank')"
      ],
      "outputs": [],
      "metadata": {
        "id": "ypyH-_x1GErX"
      }
    },
    {
      "cell_type": "code",
      "execution_count": 39,
      "source": [
        "# Use the Function\r\n",
        "wc  = count(df['tokens'])"
      ],
      "outputs": [],
      "metadata": {
        "id": "GqqwygrUGErZ"
      }
    },
    {
      "cell_type": "code",
      "execution_count": 40,
      "source": [
        "wc.head()"
      ],
      "outputs": [
        {
          "output_type": "execute_result",
          "data": {
            "text/html": [
              "<div>\n",
              "<style scoped>\n",
              "    .dataframe tbody tr th:only-of-type {\n",
              "        vertical-align: middle;\n",
              "    }\n",
              "\n",
              "    .dataframe tbody tr th {\n",
              "        vertical-align: top;\n",
              "    }\n",
              "\n",
              "    .dataframe thead th {\n",
              "        text-align: right;\n",
              "    }\n",
              "</style>\n",
              "<table border=\"1\" class=\"dataframe\">\n",
              "  <thead>\n",
              "    <tr style=\"text-align: right;\">\n",
              "      <th></th>\n",
              "      <th>word</th>\n",
              "      <th>appears_in</th>\n",
              "      <th>count</th>\n",
              "      <th>rank</th>\n",
              "      <th>pct_total</th>\n",
              "      <th>cul_pct_total</th>\n",
              "      <th>appears_in_pct</th>\n",
              "    </tr>\n",
              "  </thead>\n",
              "  <tbody>\n",
              "    <tr>\n",
              "      <th>2</th>\n",
              "      <td>the</td>\n",
              "      <td>13185</td>\n",
              "      <td>28836</td>\n",
              "      <td>1.0</td>\n",
              "      <td>0.039350</td>\n",
              "      <td>0.039350</td>\n",
              "      <td>0.465375</td>\n",
              "    </tr>\n",
              "    <tr>\n",
              "      <th>6</th>\n",
              "      <td>and</td>\n",
              "      <td>13731</td>\n",
              "      <td>22302</td>\n",
              "      <td>2.0</td>\n",
              "      <td>0.030434</td>\n",
              "      <td>0.069784</td>\n",
              "      <td>0.484646</td>\n",
              "    </tr>\n",
              "    <tr>\n",
              "      <th>23</th>\n",
              "      <td>i</td>\n",
              "      <td>10301</td>\n",
              "      <td>20588</td>\n",
              "      <td>3.0</td>\n",
              "      <td>0.028095</td>\n",
              "      <td>0.097879</td>\n",
              "      <td>0.363582</td>\n",
              "    </tr>\n",
              "    <tr>\n",
              "      <th>9</th>\n",
              "      <td>to</td>\n",
              "      <td>11312</td>\n",
              "      <td>19537</td>\n",
              "      <td>4.0</td>\n",
              "      <td>0.026661</td>\n",
              "      <td>0.124539</td>\n",
              "      <td>0.399266</td>\n",
              "    </tr>\n",
              "    <tr>\n",
              "      <th>32</th>\n",
              "      <td>for</td>\n",
              "      <td>12101</td>\n",
              "      <td>17918</td>\n",
              "      <td>5.0</td>\n",
              "      <td>0.024451</td>\n",
              "      <td>0.148990</td>\n",
              "      <td>0.427114</td>\n",
              "    </tr>\n",
              "  </tbody>\n",
              "</table>\n",
              "</div>"
            ],
            "text/plain": [
              "   word  appears_in  count  rank  pct_total  cul_pct_total  appears_in_pct\n",
              "2   the       13185  28836   1.0   0.039350       0.039350        0.465375\n",
              "6   and       13731  22302   2.0   0.030434       0.069784        0.484646\n",
              "23    i       10301  20588   3.0   0.028095       0.097879        0.363582\n",
              "9    to       11312  19537   4.0   0.026661       0.124539        0.399266\n",
              "32  for       12101  17918   5.0   0.024451       0.148990        0.427114"
            ]
          },
          "metadata": {},
          "execution_count": 40
        }
      ],
      "metadata": {
        "colab": {
          "base_uri": "https://localhost:8080/",
          "height": 206
        },
        "id": "_0EkCpReGEra",
        "outputId": "824a1264-f28e-4b58-9b13-080f63d22ac9"
      }
    },
    {
      "cell_type": "code",
      "execution_count": 41,
      "source": [
        "# Cumulative Distribution Plot\r\n",
        "sns.lineplot(x='rank', y='cul_pct_total', data=wc);\r\n",
        "plt.grid()"
      ],
      "outputs": [
        {
          "output_type": "display_data",
          "data": {
            "image/png": "[encoded data removed]",
            "text/plain": [
              "<Figure size 432x288 with 1 Axes>"
            ]
          },
          "metadata": {
            "needs_background": "light"
          }
        }
      ],
      "metadata": {
        "colab": {
          "base_uri": "https://localhost:8080/",
          "height": 279
        },
        "id": "u9kI5BjnGErc",
        "outputId": "cd7e85fa-3ed5-46d7-c40c-04527036b679"
      }
    },
    {
      "cell_type": "code",
      "execution_count": 42,
      "source": [
        "wc[wc['rank'] <= 100]['cul_pct_total'].max()"
      ],
      "outputs": [
        {
          "output_type": "execute_result",
          "data": {
            "text/plain": [
              "0.6012123263182888"
            ]
          },
          "metadata": {},
          "execution_count": 42
        }
      ],
      "metadata": {
        "colab": {
          "base_uri": "https://localhost:8080/"
        },
        "id": "GKpixh5DGEre",
        "outputId": "0ed2ccdc-a464-4835-d8ed-bf77d49d9d13"
      }
    },
    {
      "cell_type": "markdown",
      "source": [
        "### `squarify` shows the most frequent words"
      ],
      "metadata": {
        "id": "eemk9I8_QWs-"
      }
    },
    {
      "cell_type": "code",
      "execution_count": 48,
      "source": [
        "import squarify\r\n",
        "import matplotlib.pyplot as plt\r\n",
        "\r\n",
        "wc_top20 = wc[wc['rank'] <= 50]\r\n",
        "\r\n",
        "squarify.plot(sizes=wc_top20['pct_total'], label=wc_top20['word'], alpha=.7 )\r\n",
        "plt.axis('off')\r\n",
        "plt.show()"
      ],
      "outputs": [
        {
          "output_type": "display_data",
          "data": {
            "image/png": "[encoded data removed]",
            "text/plain": [
              "<Figure size 432x288 with 1 Axes>"
            ]
          },
          "metadata": {
            "needs_background": "light"
          }
        }
      ],
      "metadata": {
        "colab": {
          "base_uri": "https://localhost:8080/",
          "height": 248
        },
        "id": "-yuCq8nuGErg",
        "outputId": "0d5cd536-8168-47d7-ce11-ca17c979796f"
      }
    },
    {
      "cell_type": "markdown",
      "source": [
        "### 2.4 Processing Raw Text with Spacy\r\n",
        "\r\n",
        "Spacy's datamodel for documents is unique among NLP libraries. Instead of storing the documents components in various data structures, Spacy indexes components and simply stores the lookup information. \r\n",
        "\r\n",
        "This is often why Spacy is considered to be more production grade than library like NLTK."
      ],
      "metadata": {
        "id": "XIXSsYI_GEri"
      }
    },
    {
      "cell_type": "code",
      "execution_count": 49,
      "source": [
        "import spacy\r\n",
        "nlp = spacy.load('en_core_web_md')"
      ],
      "outputs": [],
      "metadata": {
        "id": "Y0l_8Q_-GEri"
      }
    },
    {
      "cell_type": "code",
      "execution_count": 50,
      "source": [
        "sample = \"\"\"\r\n",
        "Natural Language Processing Summary\r\n",
        "The field of study that focuses on the interactions between human language and computers is called Natural Language Processing, or NLP for short. It sits at the intersection of computer science, artificial intelligence, and computational linguistics (Wikipedia).\r\n",
        "\r\n",
        "“Nat­ur­al Lan­guage Pro­cessing is a field that cov­ers com­puter un­der­stand­ing and ma­nip­u­la­tion of hu­man lan­guage, and it’s ripe with pos­sib­il­it­ies for news­gath­er­ing,” Anthony Pesce said in Natural Language Processing in the kitchen. “You usu­ally hear about it in the con­text of ana­lyz­ing large pools of legis­la­tion or other doc­u­ment sets, at­tempt­ing to dis­cov­er pat­terns or root out cor­rup­tion.”\r\n",
        "\"\"\""
      ],
      "outputs": [],
      "metadata": {
        "id": "4qlRt5SIGErk"
      }
    },
    {
      "cell_type": "code",
      "execution_count": 52,
      "source": [
        "doc = nlp(sample)"
      ],
      "outputs": [],
      "metadata": {
        "id": "FjA1TF9vGErl"
      }
    },
    {
      "cell_type": "code",
      "execution_count": 54,
      "source": [
        "dir(doc)"
      ],
      "outputs": [
        {
          "output_type": "execute_result",
          "data": {
            "text/plain": [
              "['_',\n",
              " '__bytes__',\n",
              " '__class__',\n",
              " '__delattr__',\n",
              " '__dir__',\n",
              " '__doc__',\n",
              " '__eq__',\n",
              " '__format__',\n",
              " '__ge__',\n",
              " '__getattribute__',\n",
              " '__getitem__',\n",
              " '__gt__',\n",
              " '__hash__',\n",
              " '__init__',\n",
              " '__init_subclass__',\n",
              " '__iter__',\n",
              " '__le__',\n",
              " '__len__',\n",
              " '__lt__',\n",
              " '__ne__',\n",
              " '__new__',\n",
              " '__pyx_vtable__',\n",
              " '__reduce__',\n",
              " '__reduce_ex__',\n",
              " '__repr__',\n",
              " '__setattr__',\n",
              " '__setstate__',\n",
              " '__sizeof__',\n",
              " '__str__',\n",
              " '__subclasshook__',\n",
              " '__unicode__',\n",
              " '_bulk_merge',\n",
              " '_get_array_attrs',\n",
              " '_py_tokens',\n",
              " '_realloc',\n",
              " '_vector',\n",
              " '_vector_norm',\n",
              " 'cats',\n",
              " 'char_span',\n",
              " 'copy',\n",
              " 'count_by',\n",
              " 'doc',\n",
              " 'ents',\n",
              " 'extend_tensor',\n",
              " 'from_array',\n",
              " 'from_bytes',\n",
              " 'from_dict',\n",
              " 'from_disk',\n",
              " 'from_docs',\n",
              " 'get_extension',\n",
              " 'get_lca_matrix',\n",
              " 'has_annotation',\n",
              " 'has_extension',\n",
              " 'has_unknown_spaces',\n",
              " 'has_vector',\n",
              " 'is_nered',\n",
              " 'is_parsed',\n",
              " 'is_sentenced',\n",
              " 'is_tagged',\n",
              " 'lang',\n",
              " 'lang_',\n",
              " 'mem',\n",
              " 'noun_chunks',\n",
              " 'noun_chunks_iterator',\n",
              " 'remove_extension',\n",
              " 'retokenize',\n",
              " 'sentiment',\n",
              " 'sents',\n",
              " 'set_ents',\n",
              " 'set_extension',\n",
              " 'similarity',\n",
              " 'spans',\n",
              " 'tensor',\n",
              " 'text',\n",
              " 'text_with_ws',\n",
              " 'to_array',\n",
              " 'to_bytes',\n",
              " 'to_dict',\n",
              " 'to_disk',\n",
              " 'to_json',\n",
              " 'to_utf8_array',\n",
              " 'user_data',\n",
              " 'user_hooks',\n",
              " 'user_span_hooks',\n",
              " 'user_token_hooks',\n",
              " 'vector',\n",
              " 'vector_norm',\n",
              " 'vocab']"
            ]
          },
          "metadata": {},
          "execution_count": 54
        }
      ],
      "metadata": {
        "id": "sE_N8YmuGlPi",
        "colab": {
          "base_uri": "https://localhost:8080/"
        },
        "outputId": "d0ff42e9-5be2-4276-861b-00e21b6288be"
      }
    },
    {
      "cell_type": "code",
      "execution_count": 55,
      "source": [
        "# create a tokenizer using spacy\r\n",
        "\r\n",
        "### BEGIN SOLUTION\r\n",
        "\r\n",
        "tokens = []\r\n",
        "\r\n",
        "for doc in nlp.pipe(df['reviews.text']):\r\n",
        "    \r\n",
        "    doc_tokens = []\r\n",
        "    \r\n",
        "    for token in doc: \r\n",
        "        \r\n",
        "        doc_tokens.append(token.text)\r\n",
        "    \r\n",
        "    tokens.append(doc_tokens)\r\n",
        "    \r\n",
        "# save tokens to df\r\n",
        "df['tokens'] = tokens\r\n",
        "\r\n",
        "# pass df through count for stats\r\n",
        "wc = count(df['tokens'])\r\n",
        "\r\n",
        "# sort and keep top 20 tokens for plotting\r\n",
        "wc_top20 = wc[wc['rank'] <= 20]\r\n",
        "\r\n",
        "# plot stats\r\n",
        "squarify.plot(sizes=wc_top20['pct_total'], label=wc_top20['word'], alpha=.8 )\r\n",
        "plt.axis('off')\r\n",
        "plt.show()\r\n",
        "\r\n",
        "### END SOLUTION"
      ],
      "outputs": [
        {
          "output_type": "display_data",
          "data": {
            "image/png": "[encoded data removed]",
            "text/plain": [
              "<Figure size 432x288 with 1 Axes>"
            ]
          },
          "metadata": {
            "needs_background": "light"
          }
        }
      ],
      "metadata": {
        "id": "ZBa99HsYGErn",
        "nbgrader": {
          "grade": false,
          "grade_id": "cell-fc63dad59954bbff",
          "locked": false,
          "schema_version": 3,
          "solution": true,
          "task": false
        },
        "colab": {
          "base_uri": "https://localhost:8080/",
          "height": 248
        },
        "outputId": "aa46af8e-9778-493a-e475-00cdde6ad326"
      }
    },
    {
      "cell_type": "markdown",
      "source": [
        "## Challenge\n",
        "\n",
        "In the module project, you will apply tokenization to another set of review data and produce visualizations of those tokens!"
      ],
      "metadata": {
        "id": "FS-IuYRdGEr3",
        "toc-hr-collapsed": true
      }
    },
    {
      "cell_type": "markdown",
      "source": [
        "# 3. Stop Words (Learn)\n",
        "<a id=\"p2\"></a>"
      ],
      "metadata": {
        "id": "qy-JQ3VUGEr6",
        "toc-hr-collapsed": true
      }
    },
    {
      "cell_type": "markdown",
      "source": [
        "## Overview\r\n",
        "Section Agenda\r\n",
        "- What are they?\r\n",
        "- How do we get rid of them using Spacy?\r\n",
        "- Visualization\r\n",
        "- Libraries of Stop Words\r\n",
        "- Extending Stop Words\r\n",
        "- Statistical trimming\r\n",
        "\r\n",
        "If the visualizations above, you began to notice a pattern. Most of the words don't really add much to our understanding of product reviews. Words such as \"I\", \"and\", \"of\", etc. have almost no semantic meaning to us. We call these useless words \"stop words,\" because we should 'stop' ourselves from including them in the analysis. \r\n",
        "\r\n",
        "Most NLP libraries have built in lists of stop words that common english words: conjunctions, articles, adverbs, pronouns, and common verbs. The best practice, however, is to extend/customize these standard english stopwords for your problem's domain. If I am studying political science, I may want to exclude the word \"politics\" from my analysis; it's so common it does not add to my understanding. "
      ],
      "metadata": {
        "id": "APfLF769GEr6"
      }
    },
    {
      "cell_type": "markdown",
      "source": [
        "## Follow Along \r\n",
        "\r\n",
        "### Default Stop Words\r\n",
        "Let's take a look at the standard stop words that came with our Spacy model:"
      ],
      "metadata": {
        "id": "7b5yWU9hGEr7",
        "toc-hr-collapsed": true
      }
    },
    {
      "cell_type": "code",
      "execution_count": 56,
      "source": [
        "# Spacy's Default Stop Words\r\n",
        "nlp.Defaults.stop_words"
      ],
      "outputs": [
        {
          "output_type": "execute_result",
          "data": {
            "text/plain": [
              "{\"'d\",\n",
              " \"'ll\",\n",
              " \"'m\",\n",
              " \"'re\",\n",
              " \"'s\",\n",
              " \"'ve\",\n",
              " 'a',\n",
              " 'about',\n",
              " 'above',\n",
              " 'across',\n",
              " 'after',\n",
              " 'afterwards',\n",
              " 'again',\n",
              " 'against',\n",
              " 'all',\n",
              " 'almost',\n",
              " 'alone',\n",
              " 'along',\n",
              " 'already',\n",
              " 'also',\n",
              " 'although',\n",
              " 'always',\n",
              " 'am',\n",
              " 'among',\n",
              " 'amongst',\n",
              " 'amount',\n",
              " 'an',\n",
              " 'and',\n",
              " 'another',\n",
              " 'any',\n",
              " 'anyhow',\n",
              " 'anyone',\n",
              " 'anything',\n",
              " 'anyway',\n",
              " 'anywhere',\n",
              " 'are',\n",
              " 'around',\n",
              " 'as',\n",
              " 'at',\n",
              " 'back',\n",
              " 'be',\n",
              " 'became',\n",
              " 'because',\n",
              " 'become',\n",
              " 'becomes',\n",
              " 'becoming',\n",
              " 'been',\n",
              " 'before',\n",
              " 'beforehand',\n",
              " 'behind',\n",
              " 'being',\n",
              " 'below',\n",
              " 'beside',\n",
              " 'besides',\n",
              " 'between',\n",
              " 'beyond',\n",
              " 'both',\n",
              " 'bottom',\n",
              " 'but',\n",
              " 'by',\n",
              " 'ca',\n",
              " 'call',\n",
              " 'can',\n",
              " 'cannot',\n",
              " 'could',\n",
              " 'did',\n",
              " 'do',\n",
              " 'does',\n",
              " 'doing',\n",
              " 'done',\n",
              " 'down',\n",
              " 'due',\n",
              " 'during',\n",
              " 'each',\n",
              " 'eight',\n",
              " 'either',\n",
              " 'eleven',\n",
              " 'else',\n",
              " 'elsewhere',\n",
              " 'empty',\n",
              " 'enough',\n",
              " 'even',\n",
              " 'ever',\n",
              " 'every',\n",
              " 'everyone',\n",
              " 'everything',\n",
              " 'everywhere',\n",
              " 'except',\n",
              " 'few',\n",
              " 'fifteen',\n",
              " 'fifty',\n",
              " 'first',\n",
              " 'five',\n",
              " 'for',\n",
              " 'former',\n",
              " 'formerly',\n",
              " 'forty',\n",
              " 'four',\n",
              " 'from',\n",
              " 'front',\n",
              " 'full',\n",
              " 'further',\n",
              " 'get',\n",
              " 'give',\n",
              " 'go',\n",
              " 'had',\n",
              " 'has',\n",
              " 'have',\n",
              " 'he',\n",
              " 'hence',\n",
              " 'her',\n",
              " 'here',\n",
              " 'hereafter',\n",
              " 'hereby',\n",
              " 'herein',\n",
              " 'hereupon',\n",
              " 'hers',\n",
              " 'herself',\n",
              " 'him',\n",
              " 'himself',\n",
              " 'his',\n",
              " 'how',\n",
              " 'however',\n",
              " 'hundred',\n",
              " 'i',\n",
              " 'if',\n",
              " 'in',\n",
              " 'indeed',\n",
              " 'into',\n",
              " 'is',\n",
              " 'it',\n",
              " 'its',\n",
              " 'itself',\n",
              " 'just',\n",
              " 'keep',\n",
              " 'last',\n",
              " 'latter',\n",
              " 'latterly',\n",
              " 'least',\n",
              " 'less',\n",
              " 'made',\n",
              " 'make',\n",
              " 'many',\n",
              " 'may',\n",
              " 'me',\n",
              " 'meanwhile',\n",
              " 'might',\n",
              " 'mine',\n",
              " 'more',\n",
              " 'moreover',\n",
              " 'most',\n",
              " 'mostly',\n",
              " 'move',\n",
              " 'much',\n",
              " 'must',\n",
              " 'my',\n",
              " 'myself',\n",
              " \"n't\",\n",
              " 'name',\n",
              " 'namely',\n",
              " 'neither',\n",
              " 'never',\n",
              " 'nevertheless',\n",
              " 'next',\n",
              " 'nine',\n",
              " 'no',\n",
              " 'nobody',\n",
              " 'none',\n",
              " 'noone',\n",
              " 'nor',\n",
              " 'not',\n",
              " 'nothing',\n",
              " 'now',\n",
              " 'nowhere',\n",
              " 'n‘t',\n",
              " 'n’t',\n",
              " 'of',\n",
              " 'off',\n",
              " 'often',\n",
              " 'on',\n",
              " 'once',\n",
              " 'one',\n",
              " 'only',\n",
              " 'onto',\n",
              " 'or',\n",
              " 'other',\n",
              " 'others',\n",
              " 'otherwise',\n",
              " 'our',\n",
              " 'ours',\n",
              " 'ourselves',\n",
              " 'out',\n",
              " 'over',\n",
              " 'own',\n",
              " 'part',\n",
              " 'per',\n",
              " 'perhaps',\n",
              " 'please',\n",
              " 'put',\n",
              " 'quite',\n",
              " 'rather',\n",
              " 're',\n",
              " 'really',\n",
              " 'regarding',\n",
              " 'same',\n",
              " 'say',\n",
              " 'see',\n",
              " 'seem',\n",
              " 'seemed',\n",
              " 'seeming',\n",
              " 'seems',\n",
              " 'serious',\n",
              " 'several',\n",
              " 'she',\n",
              " 'should',\n",
              " 'show',\n",
              " 'side',\n",
              " 'since',\n",
              " 'six',\n",
              " 'sixty',\n",
              " 'so',\n",
              " 'some',\n",
              " 'somehow',\n",
              " 'someone',\n",
              " 'something',\n",
              " 'sometime',\n",
              " 'sometimes',\n",
              " 'somewhere',\n",
              " 'still',\n",
              " 'such',\n",
              " 'take',\n",
              " 'ten',\n",
              " 'than',\n",
              " 'that',\n",
              " 'the',\n",
              " 'their',\n",
              " 'them',\n",
              " 'themselves',\n",
              " 'then',\n",
              " 'thence',\n",
              " 'there',\n",
              " 'thereafter',\n",
              " 'thereby',\n",
              " 'therefore',\n",
              " 'therein',\n",
              " 'thereupon',\n",
              " 'these',\n",
              " 'they',\n",
              " 'third',\n",
              " 'this',\n",
              " 'those',\n",
              " 'though',\n",
              " 'three',\n",
              " 'through',\n",
              " 'throughout',\n",
              " 'thru',\n",
              " 'thus',\n",
              " 'to',\n",
              " 'together',\n",
              " 'too',\n",
              " 'top',\n",
              " 'toward',\n",
              " 'towards',\n",
              " 'twelve',\n",
              " 'twenty',\n",
              " 'two',\n",
              " 'under',\n",
              " 'unless',\n",
              " 'until',\n",
              " 'up',\n",
              " 'upon',\n",
              " 'us',\n",
              " 'used',\n",
              " 'using',\n",
              " 'various',\n",
              " 'very',\n",
              " 'via',\n",
              " 'was',\n",
              " 'we',\n",
              " 'well',\n",
              " 'were',\n",
              " 'what',\n",
              " 'whatever',\n",
              " 'when',\n",
              " 'whence',\n",
              " 'whenever',\n",
              " 'where',\n",
              " 'whereafter',\n",
              " 'whereas',\n",
              " 'whereby',\n",
              " 'wherein',\n",
              " 'whereupon',\n",
              " 'wherever',\n",
              " 'whether',\n",
              " 'which',\n",
              " 'while',\n",
              " 'whither',\n",
              " 'who',\n",
              " 'whoever',\n",
              " 'whole',\n",
              " 'whom',\n",
              " 'whose',\n",
              " 'why',\n",
              " 'will',\n",
              " 'with',\n",
              " 'within',\n",
              " 'without',\n",
              " 'would',\n",
              " 'yet',\n",
              " 'you',\n",
              " 'your',\n",
              " 'yours',\n",
              " 'yourself',\n",
              " 'yourselves',\n",
              " '‘d',\n",
              " '‘ll',\n",
              " '‘m',\n",
              " '‘re',\n",
              " '‘s',\n",
              " '‘ve',\n",
              " '’d',\n",
              " '’ll',\n",
              " '’m',\n",
              " '’re',\n",
              " '’s',\n",
              " '’ve'}"
            ]
          },
          "metadata": {},
          "execution_count": 56
        }
      ],
      "metadata": {
        "colab": {
          "base_uri": "https://localhost:8080/"
        },
        "collapsed": true,
        "id": "zeOqLNAhGEr7",
        "jupyter": {
          "outputs_hidden": true
        },
        "outputId": "62e50a91-d8de-4c55-93c7-ee9ed4238c4d"
      }
    },
    {
      "cell_type": "code",
      "execution_count": 58,
      "source": [
        "%%time\r\n",
        "# Use spacy to create a tokenizer that removes stop words\r\n",
        "\r\n",
        "### BEGIN SOLUTION\r\n",
        "tokens = []\r\n",
        "\r\n",
        "\"\"\" Update those tokens w/o stopwords\"\"\"\r\n",
        "for doc in nlp.pipe(df['reviews.text'], batch_size=500):\r\n",
        "    \r\n",
        "    doc_tokens = []\r\n",
        "    \r\n",
        "    for token in doc:\r\n",
        "        if (token.is_stop=='False') & (token.is_punct=='False'):\r\n",
        "            doc_tokens.append(token.text.lower())\r\n",
        "\r\n",
        "    tokens.append(doc_tokens)\r\n",
        "\r\n",
        "df['tokens'] = tokens\r\n",
        "\r\n",
        "# pass tokens through count function\r\n",
        "wc = count(df['tokens'])\r\n",
        "\r\n",
        "# sort and keep the top 20 words\r\n",
        "wc_top20 = wc[wc['rank'] <= 20]\r\n",
        "\r\n",
        "# plot the stats\r\n",
        "squarify.plot(sizes=wc_top20['pct_total'], label=wc_top20['word'], alpha=.8 )\r\n",
        "plt.axis('off')\r\n",
        "plt.show()\r\n",
        "\r\n",
        "### END SOLUTION"
      ],
      "outputs": [
        {
          "output_type": "display_data",
          "data": {
            "image/png": "[encoded data removed]",
            "text/plain": [
              "<Figure size 432x288 with 1 Axes>"
            ]
          },
          "metadata": {
            "needs_background": "light"
          }
        },
        {
          "output_type": "stream",
          "name": "stdout",
          "text": [
            "Wall time: 1min 7s\n"
          ]
        }
      ],
      "metadata": {
        "id": "gYnQfN9TGEr9",
        "nbgrader": {
          "grade": false,
          "grade_id": "cell-6786f165c68a0aa6",
          "locked": false,
          "schema_version": 3,
          "solution": true,
          "task": false
        },
        "colab": {
          "base_uri": "https://localhost:8080/",
          "height": 284
        },
        "outputId": "b4508039-a0e6-4c45-c53d-06c1c0736659"
      }
    },
    {
      "cell_type": "markdown",
      "source": [
        "### Extending Stop Words"
      ],
      "metadata": {
        "id": "wW7qoSu_GEsD"
      }
    },
    {
      "cell_type": "code",
      "execution_count": 59,
      "source": [
        "print(type(nlp.Defaults.stop_words))"
      ],
      "outputs": [
        {
          "output_type": "stream",
          "name": "stdout",
          "text": [
            "<class 'set'>\n"
          ]
        }
      ],
      "metadata": {
        "colab": {
          "base_uri": "https://localhost:8080/"
        },
        "id": "MxLUxpRvGEsD",
        "outputId": "effa57da-7fa6-4c30-c5d9-f61f98a3d8e1"
      }
    },
    {
      "cell_type": "code",
      "execution_count": 60,
      "source": [
        "STOP_WORDS = nlp.Defaults.stop_words.union(['batteries','I', 'amazon', 'i', 'Amazon', 'it', \"it's\", 'it.', 'the', 'this',])"
      ],
      "outputs": [],
      "metadata": {
        "id": "7D6R_35SGEsF"
      }
    },
    {
      "cell_type": "code",
      "execution_count": 61,
      "source": [
        "# use spacy to create a tokenizer that removes stopwords using STOP_WORDS\r\n",
        "\r\n",
        "### BEGIN SOLUTION\r\n",
        "tokens = []\r\n",
        "\r\n",
        "for doc in nlp.pipe(df['reviews.text'], batch_size=500):\r\n",
        "    \r\n",
        "    doc_tokens = []\r\n",
        "    \r\n",
        "    for token in doc: \r\n",
        "        if (token.is_punct == False) & (token.text.lower() not in STOP_WORDS):\r\n",
        "            doc_tokens.append(token.text.lower())\r\n",
        "   \r\n",
        "    tokens.append(doc_tokens)\r\n",
        "    \r\n",
        "df['tokens'] = tokens\r\n",
        "\r\n",
        "wc = count(df['tokens'])\r\n",
        "\r\n",
        "wc_top20 = wc[wc['rank'] <= 20]\r\n",
        "\r\n",
        "squarify.plot(sizes=wc_top20['pct_total'], label=wc_top20['word'], alpha=.8 )\r\n",
        "plt.axis('off')\r\n",
        "plt.show()\r\n",
        "\r\n",
        "### END SOLUTION"
      ],
      "outputs": [
        {
          "output_type": "display_data",
          "data": {
            "image/png": "[encoded data removed]",
            "text/plain": [
              "<Figure size 432x288 with 1 Axes>"
            ]
          },
          "metadata": {
            "needs_background": "light"
          }
        }
      ],
      "metadata": {
        "id": "0JOoLRyUGEsJ",
        "nbgrader": {
          "grade": false,
          "grade_id": "cell-37cd0e460b63ff43",
          "locked": false,
          "schema_version": 3,
          "solution": true,
          "task": false
        },
        "colab": {
          "base_uri": "https://localhost:8080/",
          "height": 379
        },
        "outputId": "07dc0cb7-f240-46cf-c621-3d1d2fdd909d"
      }
    },
    {
      "cell_type": "markdown",
      "source": [
        "### Statistical Trimming\n",
        "\n",
        "So far, we have talked about stop word in relation to either broad english words or domain specific stop words. Another common approach to stop word removal is via statistical trimming. The basic idea: preserve the words that give the most about of variation in your data. \n",
        "\n",
        "Do you remember this graph?"
      ],
      "metadata": {
        "id": "55BKEXW6GEsQ"
      }
    },
    {
      "cell_type": "code",
      "execution_count": 62,
      "source": [
        "sns.lineplot(x='rank', y='cul_pct_total', data=wc);\r\n",
        "plt.grid()"
      ],
      "outputs": [
        {
          "output_type": "display_data",
          "data": {
            "image/png": "[encoded data removed]",
            "text/plain": [
              "<Figure size 432x288 with 1 Axes>"
            ]
          },
          "metadata": {
            "needs_background": "light"
          }
        }
      ],
      "metadata": {
        "colab": {
          "base_uri": "https://localhost:8080/",
          "height": 279
        },
        "id": "m7M5bXwUGEsQ",
        "outputId": "cadbcd98-d595-4b4d-ee1d-2f7b484bea10"
      }
    },
    {
      "cell_type": "markdown",
      "source": [
        "This graph tells us that only a *handful* of words represented 80% of words in the overall corpus. We can interpret this in two ways: \n",
        "1. The words that appear most frequently may not provide any insight into the mean on the documents since they are so prevalent. \n",
        "2. Words that appear infrequency (at the end of the graph) also probably do not add much value, because the are mentioned so rarely. \n",
        "\n",
        "Let's take a look at the words at the bottom and the top and make a decision for ourselves:"
      ],
      "metadata": {
        "id": "NSY5DHLKGEsS"
      }
    },
    {
      "cell_type": "code",
      "execution_count": 63,
      "source": [
        "# Frequency of appears in documents\r\n",
        "sns.distplot(wc['appears_in_pct']);"
      ],
      "outputs": [
        {
          "output_type": "stream",
          "name": "stderr",
          "text": [
            "C:\\Users\\nigel\\AppData\\Local\\Programs\\Python\\Python39\\lib\\site-packages\\seaborn\\distributions.py:2557: FutureWarning: `distplot` is a deprecated function and will be removed in a future version. Please adapt your code to use either `displot` (a figure-level function with similar flexibility) or `histplot` (an axes-level function for histograms).\n",
            "  warnings.warn(msg, FutureWarning)\n"
          ]
        },
        {
          "output_type": "display_data",
          "data": {
            "image/png": "[encoded data removed]",
            "text/plain": [
              "<Figure size 432x288 with 1 Axes>"
            ]
          },
          "metadata": {
            "needs_background": "light"
          }
        }
      ],
      "metadata": {
        "id": "fksCTrc_T89-"
      }
    },
    {
      "cell_type": "code",
      "execution_count": 64,
      "source": [
        "# Tree-Map w/ Words that appear in at least 2.5% of documents. \r\n",
        "wc = wc[wc['appears_in_pct'] >= 0.025]\r\n",
        "sns.distplot(wc['appears_in_pct']);"
      ],
      "outputs": [
        {
          "output_type": "stream",
          "name": "stderr",
          "text": [
            "C:\\Users\\nigel\\AppData\\Local\\Programs\\Python\\Python39\\lib\\site-packages\\seaborn\\distributions.py:2557: FutureWarning: `distplot` is a deprecated function and will be removed in a future version. Please adapt your code to use either `displot` (a figure-level function with similar flexibility) or `histplot` (an axes-level function for histograms).\n",
            "  warnings.warn(msg, FutureWarning)\n"
          ]
        },
        {
          "output_type": "display_data",
          "data": {
            "image/png": "[encoded data removed]",
            "text/plain": [
              "<Figure size 432x288 with 1 Axes>"
            ]
          },
          "metadata": {
            "needs_background": "light"
          }
        }
      ],
      "metadata": {
        "colab": {
          "base_uri": "https://localhost:8080/",
          "height": 280
        },
        "id": "dJkyvXn0GEsX",
        "outputId": "228dee13-95f9-421c-f9af-3b2ae88af13c"
      }
    },
    {
      "cell_type": "code",
      "execution_count": null,
      "source": [
        "len(wc)"
      ],
      "outputs": [],
      "metadata": {
        "colab": {
          "base_uri": "https://localhost:8080/"
        },
        "id": "m8Ggo2tGX06g",
        "outputId": "d1843846-52d8-4edb-ebbc-0f3805043bff"
      }
    },
    {
      "cell_type": "markdown",
      "source": [
        "## Challenge\n",
        "\n",
        "In the module project, you will apply stop word removal to a new corpus. You will focus on applying dictionary based stop word removal, but as a stretch goal, you should consider applying statistical stopword trimming. "
      ],
      "metadata": {
        "id": "riFOSWTuGEsa"
      }
    },
    {
      "cell_type": "markdown",
      "source": [
        "# 4. Stemming & Lemmatization (Learn)\n",
        "<a id=\"p3\"></a>"
      ],
      "metadata": {
        "id": "xh6NpgGhGEsa",
        "toc-hr-collapsed": true
      }
    },
    {
      "cell_type": "markdown",
      "source": [
        "## Overview\r\n",
        "\r\n",
        "You can see from our example above there is still some normalization to do to get a clean analysis. You notice that there many words (*i.e.* 'batteries', 'battery') which share the same root word. We can use either the process of stemming or lemmatization to trim our words down to the 'root' word. \r\n",
        "\r\n",
        "__Section Agenda__:\r\n",
        "\r\n",
        "- Which is which\r\n",
        "- why use one v. other\r\n",
        "- show side by side visualizations \r\n",
        "- how to do it in spacy & nltk\r\n",
        "- introduce PoS in here as well"
      ],
      "metadata": {
        "id": "82BICah4GEsa",
        "toc-hr-collapsed": false
      }
    },
    {
      "cell_type": "markdown",
      "source": [
        "## Follow Along"
      ],
      "metadata": {
        "id": "Unc5QrF4GEsb",
        "toc-hr-collapsed": true
      }
    },
    {
      "cell_type": "markdown",
      "source": [
        "### 4.1 Stemming\r\n",
        "\r\n",
        "> *a process for removing the commoner morphological and inflexional endings from words in English. Its main use is as part of a term normalisation process that is usually done when setting up Information Retrieval systems.* - [Martin Porter](https://tartarus.org/martin/PorterStemmer/)\r\n",
        "\r\n",
        "Some examples include:\r\n",
        "- 'ing'\r\n",
        "- 'ed'\r\n",
        "- 's'\r\n",
        "\r\n",
        "These rules are by no means comprehensive, but they are somewhere to start. Most stemming is done by well documented algorithms such as Porter, Snowball, and Dawson. Porter and its newer version Snowball are the most popular stemming algorithms today. For more information on various stemming algorithms check out [*\"A Comparative Study of Stemming Algorithms\"*](https://pdfs.semanticscholar.org/1c0c/0fa35d4ff8a2f925eb955e48d655494bd167.pdf) \r\n",
        "\r\n",
        "\r\n",
        "Spacy does not do stemming out of the box, but instead uses a different technique called *lemmatization* which we will discuss in the next section. Let's turn to an antique python package `nltk` for stemming. "
      ],
      "metadata": {
        "id": "-2qObh4HGEsb",
        "toc-hr-collapsed": true
      }
    },
    {
      "cell_type": "code",
      "execution_count": 65,
      "source": [
        "from nltk.stem import PorterStemmer\r\n",
        "\r\n",
        "ps = PorterStemmer()\r\n",
        "\r\n",
        "words = [\"is\", \"was\", \"be\", \"are\"]\r\n",
        "\r\n",
        "for word in words:\r\n",
        "    print(ps.stem(word))"
      ],
      "outputs": [
        {
          "output_type": "stream",
          "name": "stdout",
          "text": [
            "is\n",
            "wa\n",
            "be\n",
            "are\n"
          ]
        }
      ],
      "metadata": {
        "colab": {
          "base_uri": "https://localhost:8080/"
        },
        "id": "o7z49DWNGEsb",
        "outputId": "eb9890c4-434c-4af9-b1b2-1ffcaf6efbb6"
      }
    },
    {
      "cell_type": "markdown",
      "source": [
        "### 4.1.1 Five Minute Challenge\n",
        "\n",
        "Apply the Porter stemming algorithm to the tokens in the `df` dataframe. Visualize the results in the tree graph we have been using for this session."
      ],
      "metadata": {
        "id": "xkPTDh-dGEsd"
      }
    },
    {
      "cell_type": "code",
      "execution_count": 74,
      "source": [
        "### BEGIN SOLUTION\r\n",
        "\r\n",
        "\r\n",
        "# Put in a new column `stems`\r\n",
        "def get_stems(text):\r\n",
        "    # Alternative way to do it without list comprehention\r\n",
        "    # stemmed_words=[]\r\n",
        "    # words=text.split()\r\n",
        "    # for word in words:\r\n",
        "    #     if word not in STOP_WORDS:\r\n",
        "    #         stemmed_words.append(ps.stem(word))\r\n",
        "\r\n",
        "    # return stemmed_words\r\n",
        "\r\n",
        "    return [ps.stem(word) for word in text.split() if word not in STOP_WORDS]\r\n",
        "\r\n",
        "df['stems'] = df['reviews.text'].apply(get_stems)\r\n",
        "\r\n",
        "wc = count(df['stems'])\r\n",
        "\r\n",
        "wc_top20 = wc[wc['rank'] <= 20]\r\n",
        "\r\n",
        "squarify.plot(sizes=wc_top20['pct_total'], label=wc_top20['word'], alpha=.8 )\r\n",
        "plt.axis('off')\r\n",
        "plt.show()\r\n",
        "\r\n",
        "### END SOLUTION"
      ],
      "outputs": [
        {
          "output_type": "display_data",
          "data": {
            "image/png": "[encoded data removed]",
            "text/plain": [
              "<Figure size 432x288 with 1 Axes>"
            ]
          },
          "metadata": {
            "needs_background": "light"
          }
        }
      ],
      "metadata": {
        "id": "sCrtEa_uGEsd",
        "nbgrader": {
          "grade": false,
          "grade_id": "cell-5944a38ffd47803f",
          "locked": false,
          "schema_version": 3,
          "solution": true,
          "task": false
        }
      }
    },
    {
      "cell_type": "markdown",
      "source": [
        "### 4.2 Lemmatization\r\n",
        "\r\n",
        "You notice immediately that results are kinda funky - words just oddly chopped off. The Porter algorithm did exactly what it knows to do: chop off endings. Stemming works well in applications where humans don't have to worry about reading the results. Search engines and more broadly information retrieval algorithms use stemming. Why? Because it's fast. \r\n",
        "\r\n",
        "Lemmatization on the other hand is more methodical. The goal is to transform a word into its base form called a lemma. Plural nouns with funky spellings get transformed to singular tense. Verbs are all transformed to the transitive. Nice tidy data for a visualization. :) However, this tidy data can come at computational cost. Spacy does a pretty freaking good job of it though. Let's take a look:"
      ],
      "metadata": {
        "id": "HU96W_PnGEsg",
        "toc-hr-collapsed": false
      }
    },
    {
      "cell_type": "code",
      "execution_count": 67,
      "source": [
        "sent = \"men man women woman wolf wolves run runs running go going went gone\"\r\n",
        "doc = nlp(sent)\r\n",
        "\r\n",
        "# Lemma Attributes\r\n",
        "for token in doc:\r\n",
        "    print(token.text, \"  \", token.lemma_)"
      ],
      "outputs": [
        {
          "output_type": "stream",
          "name": "stdout",
          "text": [
            "men    man\n",
            "man    man\n",
            "women    woman\n",
            "woman    woman\n",
            "wolf    wolf\n",
            "wolves    wolf\n",
            "run    run\n",
            "runs    run\n",
            "running    run\n",
            "go    go\n",
            "going    go\n",
            "went    go\n",
            "gone    go\n"
          ]
        }
      ],
      "metadata": {
        "colab": {
          "base_uri": "https://localhost:8080/"
        },
        "id": "c1uvFqG9GEsg",
        "outputId": "3bf7ec43-c7b0-45cd-cfc5-a9005aeff050"
      }
    },
    {
      "cell_type": "code",
      "execution_count": 68,
      "source": [
        "# spacy document object\r\n",
        "type(doc)"
      ],
      "outputs": [
        {
          "output_type": "execute_result",
          "data": {
            "text/plain": [
              "spacy.tokens.doc.Doc"
            ]
          },
          "metadata": {},
          "execution_count": 68
        }
      ],
      "metadata": {
        "colab": {
          "base_uri": "https://localhost:8080/"
        },
        "id": "HWHbmVl_ZW-F",
        "outputId": "a0800d23-892a-4c20-bac4-39098466efc4"
      }
    },
    {
      "cell_type": "code",
      "execution_count": 75,
      "source": [
        "# spacy token object\r\n",
        "type(doc[0])"
      ],
      "outputs": [
        {
          "output_type": "execute_result",
          "data": {
            "text/plain": [
              "spacy.tokens.token.Token"
            ]
          },
          "metadata": {},
          "execution_count": 75
        }
      ],
      "metadata": {
        "colab": {
          "base_uri": "https://localhost:8080/"
        },
        "id": "w3-Y4bFRaL-J",
        "outputId": "eed276c7-1a97-4eaf-f72b-c37fc84c5e51"
      }
    },
    {
      "cell_type": "code",
      "execution_count": 76,
      "source": [
        "dir(doc[0])"
      ],
      "outputs": [
        {
          "output_type": "execute_result",
          "data": {
            "text/plain": [
              "['_',\n",
              " '__bytes__',\n",
              " '__class__',\n",
              " '__delattr__',\n",
              " '__dir__',\n",
              " '__doc__',\n",
              " '__eq__',\n",
              " '__format__',\n",
              " '__ge__',\n",
              " '__getattribute__',\n",
              " '__gt__',\n",
              " '__hash__',\n",
              " '__init__',\n",
              " '__init_subclass__',\n",
              " '__le__',\n",
              " '__len__',\n",
              " '__lt__',\n",
              " '__ne__',\n",
              " '__new__',\n",
              " '__pyx_vtable__',\n",
              " '__reduce__',\n",
              " '__reduce_ex__',\n",
              " '__repr__',\n",
              " '__setattr__',\n",
              " '__sizeof__',\n",
              " '__str__',\n",
              " '__subclasshook__',\n",
              " '__unicode__',\n",
              " 'ancestors',\n",
              " 'check_flag',\n",
              " 'children',\n",
              " 'cluster',\n",
              " 'conjuncts',\n",
              " 'dep',\n",
              " 'dep_',\n",
              " 'doc',\n",
              " 'ent_id',\n",
              " 'ent_id_',\n",
              " 'ent_iob',\n",
              " 'ent_iob_',\n",
              " 'ent_kb_id',\n",
              " 'ent_kb_id_',\n",
              " 'ent_type',\n",
              " 'ent_type_',\n",
              " 'get_extension',\n",
              " 'has_dep',\n",
              " 'has_extension',\n",
              " 'has_head',\n",
              " 'has_morph',\n",
              " 'has_vector',\n",
              " 'head',\n",
              " 'i',\n",
              " 'idx',\n",
              " 'iob_strings',\n",
              " 'is_alpha',\n",
              " 'is_ancestor',\n",
              " 'is_ascii',\n",
              " 'is_bracket',\n",
              " 'is_currency',\n",
              " 'is_digit',\n",
              " 'is_left_punct',\n",
              " 'is_lower',\n",
              " 'is_oov',\n",
              " 'is_punct',\n",
              " 'is_quote',\n",
              " 'is_right_punct',\n",
              " 'is_sent_end',\n",
              " 'is_sent_start',\n",
              " 'is_space',\n",
              " 'is_stop',\n",
              " 'is_title',\n",
              " 'is_upper',\n",
              " 'lang',\n",
              " 'lang_',\n",
              " 'left_edge',\n",
              " 'lefts',\n",
              " 'lemma',\n",
              " 'lemma_',\n",
              " 'lex',\n",
              " 'lex_id',\n",
              " 'like_email',\n",
              " 'like_num',\n",
              " 'like_url',\n",
              " 'lower',\n",
              " 'lower_',\n",
              " 'morph',\n",
              " 'n_lefts',\n",
              " 'n_rights',\n",
              " 'nbor',\n",
              " 'norm',\n",
              " 'norm_',\n",
              " 'orth',\n",
              " 'orth_',\n",
              " 'pos',\n",
              " 'pos_',\n",
              " 'prefix',\n",
              " 'prefix_',\n",
              " 'prob',\n",
              " 'rank',\n",
              " 'remove_extension',\n",
              " 'right_edge',\n",
              " 'rights',\n",
              " 'sent',\n",
              " 'sent_start',\n",
              " 'sentiment',\n",
              " 'set_extension',\n",
              " 'set_morph',\n",
              " 'shape',\n",
              " 'shape_',\n",
              " 'similarity',\n",
              " 'subtree',\n",
              " 'suffix',\n",
              " 'suffix_',\n",
              " 'tag',\n",
              " 'tag_',\n",
              " 'tensor',\n",
              " 'text',\n",
              " 'text_with_ws',\n",
              " 'vector',\n",
              " 'vector_norm',\n",
              " 'vocab',\n",
              " 'whitespace_']"
            ]
          },
          "metadata": {},
          "execution_count": 76
        }
      ],
      "metadata": {
        "colab": {
          "base_uri": "https://localhost:8080/"
        },
        "id": "t4MTk6PtaR7r",
        "outputId": "781748ce-a8fe-42c8-977d-800a42dde5a1"
      }
    },
    {
      "cell_type": "code",
      "execution_count": 77,
      "source": [
        "# Wrap it all in a function\r\n",
        "def get_lemmas(text):\r\n",
        "\r\n",
        "    lemmas = []\r\n",
        "    \r\n",
        "    doc = nlp(text)\r\n",
        "    \r\n",
        "    ### BEGIN SOLUTION\r\n",
        "    for token in doc: \r\n",
        "        if ((token.is_stop == False) and (token.is_punct == False) and\r\n",
        "            (token.pos_ != 'PRON')):\r\n",
        "            lemmas.append(token.lemma_)\r\n",
        "    ### END SOLUTION\r\n",
        "    \r\n",
        "    return lemmas"
      ],
      "outputs": [],
      "metadata": {
        "id": "sjt7J4RsGEsh",
        "nbgrader": {
          "grade": false,
          "grade_id": "cell-792ac177c78518bc",
          "locked": false,
          "schema_version": 3,
          "solution": true,
          "task": false
        }
      }
    },
    {
      "cell_type": "code",
      "execution_count": 78,
      "source": [
        "%%time\r\n",
        "df['lemmas'] = df['reviews.text'].apply(get_lemmas)  # Might take a few minutes!"
      ],
      "outputs": [
        {
          "output_type": "stream",
          "name": "stdout",
          "text": [
            "Wall time: 2min 40s\n"
          ]
        }
      ],
      "metadata": {
        "id": "P0RL6T5OGEsi",
        "colab": {
          "base_uri": "https://localhost:8080/"
        },
        "outputId": "1c8d62b4-a82b-4806-ceb5-2309b54d3617"
      }
    },
    {
      "cell_type": "code",
      "execution_count": 79,
      "source": [
        "cols = ['lemmas', 'reviews.text']\r\n",
        "df[cols].head()"
      ],
      "outputs": [
        {
          "output_type": "execute_result",
          "data": {
            "text/html": [
              "<div>\n",
              "<style scoped>\n",
              "    .dataframe tbody tr th:only-of-type {\n",
              "        vertical-align: middle;\n",
              "    }\n",
              "\n",
              "    .dataframe tbody tr th {\n",
              "        vertical-align: top;\n",
              "    }\n",
              "\n",
              "    .dataframe thead th {\n",
              "        text-align: right;\n",
              "    }\n",
              "</style>\n",
              "<table border=\"1\" class=\"dataframe\">\n",
              "  <thead>\n",
              "    <tr style=\"text-align: right;\">\n",
              "      <th></th>\n",
              "      <th>lemmas</th>\n",
              "      <th>reviews.text</th>\n",
              "    </tr>\n",
              "  </thead>\n",
              "  <tbody>\n",
              "    <tr>\n",
              "      <th>0</th>\n",
              "      <td>[order, 3, item, bad, quality, miss, backup, s...</td>\n",
              "      <td>I order 3 of them and one of the item is bad q...</td>\n",
              "    </tr>\n",
              "    <tr>\n",
              "      <th>1</th>\n",
              "      <td>[bulk, expensive, way, product, like]</td>\n",
              "      <td>Bulk is always the less expensive way to go fo...</td>\n",
              "    </tr>\n",
              "    <tr>\n",
              "      <th>2</th>\n",
              "      <td>[Duracell, price, happy]</td>\n",
              "      <td>Well they are not Duracell but for the price i...</td>\n",
              "    </tr>\n",
              "    <tr>\n",
              "      <th>3</th>\n",
              "      <td>[work, brand, battery, well, price]</td>\n",
              "      <td>Seem to work as well as name brand batteries a...</td>\n",
              "    </tr>\n",
              "    <tr>\n",
              "      <th>4</th>\n",
              "      <td>[battery, long, last, price, great]</td>\n",
              "      <td>These batteries are very long lasting the pric...</td>\n",
              "    </tr>\n",
              "  </tbody>\n",
              "</table>\n",
              "</div>"
            ],
            "text/plain": [
              "                                              lemmas  \\\n",
              "0  [order, 3, item, bad, quality, miss, backup, s...   \n",
              "1              [bulk, expensive, way, product, like]   \n",
              "2                           [Duracell, price, happy]   \n",
              "3                [work, brand, battery, well, price]   \n",
              "4                [battery, long, last, price, great]   \n",
              "\n",
              "                                        reviews.text  \n",
              "0  I order 3 of them and one of the item is bad q...  \n",
              "1  Bulk is always the less expensive way to go fo...  \n",
              "2  Well they are not Duracell but for the price i...  \n",
              "3  Seem to work as well as name brand batteries a...  \n",
              "4  These batteries are very long lasting the pric...  "
            ]
          },
          "metadata": {},
          "execution_count": 79
        }
      ],
      "metadata": {
        "colab": {
          "base_uri": "https://localhost:8080/",
          "height": 206
        },
        "id": "V50IDI9_GEsj",
        "outputId": "2fa03335-8280-4566-fa63-b59b84ca1754"
      }
    },
    {
      "cell_type": "code",
      "execution_count": 80,
      "source": [
        "wc = count(df['lemmas'])\r\n",
        "wc_top20 = wc[wc['rank'] <= 20]\r\n",
        "\r\n",
        "squarify.plot(sizes=wc_top20['pct_total'], label=wc_top20['word'], alpha=.8 )\r\n",
        "plt.axis('off')\r\n",
        "plt.show()"
      ],
      "outputs": [
        {
          "output_type": "display_data",
          "data": {
            "image/png": "[encoded data removed]",
            "text/plain": [
              "<Figure size 432x288 with 1 Axes>"
            ]
          },
          "metadata": {
            "needs_background": "light"
          }
        }
      ],
      "metadata": {
        "colab": {
          "base_uri": "https://localhost:8080/",
          "height": 248
        },
        "id": "D4FNmpcNGEsl",
        "outputId": "447bd5db-6e95-4ed6-bde8-0a85d314d46f"
      }
    },
    {
      "cell_type": "markdown",
      "source": [
        "## Challenge\r\n",
        "\r\n",
        "You should know how to apply lemmatization with Spacy to a corpus of text. "
      ],
      "metadata": {
        "id": "G_0hfUbGGEsn"
      }
    },
    {
      "cell_type": "markdown",
      "source": [
        "# Review\r\n",
        "\r\n",
        "In this module project, you've seen us apply Natural Language Processing techniques (tokenization, stopword removal, and lemmatization) to a corpus of Amazon text reviews. We analyzed those reviews using these techniques and discovered that Amazon customers are generally satisfied with the battery life of Amazon products and generally appear satisfied. \r\n",
        "\r\n",
        "You will apply similar techniques to today's [module project assignment](https://colab.research.google.com/drive/1tAShxk2KAL0iMp5kC7JGk7UujOEuIuSI?usp=sharing) to analyze coffee shop reviews from yelp. Remember that the techniques of processing the text are just the beginning. There are many ways to slice and dice the data. "
      ],
      "metadata": {
        "id": "TV0MV3qqGEso"
      }
    },
    {
      "cell_type": "markdown",
      "source": [
        "# Sources\n",
        "\n",
        "* Spacy 101 - https://course.spacy.io\n",
        "* NLTK Book - https://www.nltk.org/book/\n",
        "* An Introduction to Information Retrieval - https://nlp.stanford.edu/IR-book/pdf/irbookonlinereading.pdf"
      ],
      "metadata": {
        "id": "sf2wyGutGEso"
      }
    },
    {
      "cell_type": "markdown",
      "source": [
        "## Advanced Resources & Techniques\n",
        "- Named Entity Recognition (NER)\n",
        "- Dependcy Trees \n",
        "- Generators\n",
        "- the major libraries (NLTK, Spacy, Gensim)"
      ],
      "metadata": {
        "id": "TIXFuZCEGEso",
        "toc-hr-collapsed": true
      }
    }
  ]
}