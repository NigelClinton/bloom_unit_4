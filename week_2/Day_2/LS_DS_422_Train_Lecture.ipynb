{
  "nbformat": 4,
  "nbformat_minor": 0,
  "metadata": {
    "accelerator": "GPU",
    "celltoolbar": "Create Assignment",
    "colab": {
      "name": "LS_DS_422_Train_Lecture.ipynb",
      "provenance": [],
      "collapsed_sections": []
    },
    "kernelspec": {
      "display_name": "Python 3",
      "language": "python",
      "name": "python3"
    },
    "language_info": {
      "codemirror_mode": {
        "name": "ipython",
        "version": 3
      },
      "file_extension": ".py",
      "mimetype": "text/x-python",
      "name": "python",
      "nbconvert_exporter": "python",
      "pygments_lexer": "ipython3",
      "version": "3.8.5"
    }
  },
  "cells": [
    {
      "cell_type": "markdown",
      "metadata": {
        "id": "aS4GZ37Wgcjr"
      },
      "source": [
        "Lambda School Data Science\n",
        "\n",
        "*Unit 4, Sprint 2, Module 2*\n",
        "\n",
        "---"
      ]
    },
    {
      "cell_type": "markdown",
      "metadata": {
        "id": "etFf1WLWgcjt",
        "toc-hr-collapsed": false
      },
      "source": [
        "# Train (Prepare)\n",
        "__*Neural Network Foundations*__"
      ]
    },
    {
      "cell_type": "markdown",
      "metadata": {
        "id": "hXB80QOhgcju"
      },
      "source": [
        "## Learning Objectives\n",
        "* <a href=\"#p1\">Part 1</a>: Student should be able to explain the intuition behind backpropagation and gradient descent\n",
        "* <a href=\"#p2\">Part 2</a>: Student should be able to discuss the importance of batch size\n",
        "* <a href=\"#p3\">Part 3</a>: Student should be able to discuss the importance of learning rate"
      ]
    },
    {
      "cell_type": "markdown",
      "metadata": {
        "id": "8YuQu2lfgcju"
      },
      "source": [
        "## Summary of Module 1\n",
        "\n",
        "In Module 1, we learned about Neural Networks and related concepts: Neurons, Weights, Activation Functions, and Layers (input, output, & hidden). Today, we will reinforce our understanding, and learn how a neural network is trained. **Feed-forward neural networks**, such as multi-layer perceptrons (MLPs), are almost always trained using some variation of **gradient descent** where gradients has been calculated by **back-propagation**.\n",
        "\n",
        "  <center><img src=\"https://raw.githubusercontent.com/LambdaSchool/DS-Unit-4-Sprint-2-Neural-Networks/main/module1-Architect/IMG_0167.jpeg\" width=400></center>\n",
        "\n",
        "- There are three kinds of layers: **input**, **hidden**, and **output**\n",
        "- Each layer is made up of **n** individual neurons (aka activation units) which have a corresponding weight and bias.\n",
        "- Information is passed from layer to layer through a network by:\n",
        " - Taking in inputs from the training data (or previous layer)\n",
        " - Multiplying each input by its corresponding weight (represented by arrows) and adding these products to form a weighted sum\n",
        " - Adding a bias (also represented by arrows)\n",
        " - Activating this weighted sum plus the bias term by \"squishifying\" it with a sigmoid or some other activation function <br>\n",
        " For a `perceptron` with three inputs and a sigmoid activation function, the output is calculated as follows: <br><br>\n",
        "\\begin{align}\n",
        " y = sigmoid \\left(\\sum(weight_{1}\\times input_{1} + weight_{2} \\times input_{2} + weight_{3} \\times input_{3} + bias)\\right)\n",
        "\\end{align} <br><br>\n",
        " - This \"activated\" neuron output $y$ is the signal that gets passed into the next layer of the network.\n",
        " "
      ]
    },
    {
      "cell_type": "markdown",
      "metadata": {
        "id": "bpi4R03rgcjv"
      },
      "source": [
        "## Training a Neural Network: *Formal Summary*\n",
        "\n",
        "1. Pick a network architecture\n",
        "   - Number of input units = Number of features\n",
        "   - Number of output units = Number of Classes (or categories of expected targets)\n",
        "   - Select the number of hidden layers and the number of neurons within each hidden layer\n",
        "2. Randomly initialize all the weights and biases\n",
        "3. Forward propagate the weights and biases through the network to compute the output predictions $\\hat y$\n",
        "4. Given the output predictions  $\\hat y$ and the true targets  $y$, compute the cost function $J(\\theta)$, where $\\theta$ is the set of values of all the weights and biases in the network.\n",
        "5. Perform **back-propagation**, which means computing partial derivatives (gradients) of the cost function with respect to the each of the weights and biases $\\frac{\\partial}{\\partial\\theta}{J(\\theta)}$\n",
        "6. Using the method of **gradient descent** (or other advanced optimizer), adjust the weights and biases so as to decrease the cost function $J(\\theta)$.\n",
        "7. Repeat steps 3 - 6 until the cost function is 'minimized' or some other stopping criteria is met. One pass over steps 3 - 6 is called an iteration.\n",
        "\n",
        "### Highly recommended: Check out this [Neural Networks mini-course from 3Blue1Brown](https://www.3blue1brown.com/topics/neural-networks)<br>\n",
        " \n",
        "\n"
      ]
    },
    {
      "cell_type": "markdown",
      "metadata": {
        "id": "aM4CK1IarId4",
        "toc-hr-collapsed": false
      },
      "source": [
        "------\n",
        "# 1. Backpropagation & Gradient Descent (Learn)\n",
        "<a id=\"p1\"></a>"
      ]
    },
    {
      "cell_type": "markdown",
      "metadata": {
        "id": "Ktm8Fmoagcjy",
        "toc-hr-collapsed": true
      },
      "source": [
        "## Overview\n",
        "\n",
        "Backpropagation is short for [\"Backwards Propagation of errors\"](https://en.wikipedia.org/wiki/Backpropagation) and refers to a specific algorithm using calculus to update the weights and biases in a neural network in reverse order, at the end of each training epoch. Our purpose today is to demonstrate the backpropagation algorithm on a simple Feedforward Neural Network and in so doing help you get a grasp on the main process. If you want to understand all of the underlying calculus of how the gradients are calculated then you'll need to dive into it yourself, watch [Backpropagation calculus ](https://www.youtube.com/watch?v=tIeHLnjs5U8) from 3Blue1Brown. Also highly recommended is this Welch Labs series [Neural Networks Demystified](https://www.youtube.com/watch?v=bxe2T-V8XRs) if you want a rapid yet orderly walk through of the main intuition and math behind the backpropagation algorithm. "
      ]
    },
    {
      "cell_type": "markdown",
      "metadata": {
        "id": "NXI2tEO9gcjy"
      },
      "source": [
        "## 1.1 What is a Gradient?\n",
        "\n",
        "> In vector calculus, the gradient is a multi-variable generalization of the derivative. \n",
        "\n",
        "The gradients that we will deal with today will be vector representations of the derivative of the activation function. "
      ]
    },
    {
      "cell_type": "markdown",
      "metadata": {
        "id": "n7SvE-6H9G4y"
      },
      "source": [
        "### 1.1.1 Review: Slope of a line \n",
        "\n",
        "![](https://www.mathwarehouse.com/algebra/linear_equation/images/slope-of-a-line/slope-formula-all_no_highlight.png)"
      ]
    },
    {
      "cell_type": "markdown",
      "metadata": {
        "id": "AGYuD9yI9G4z"
      },
      "source": [
        "### 1.1.2 Review: A basic derivative \n",
        "\n",
        "![](https://ginsyblog.files.wordpress.com/2017/02/derivativelimitdef.gif)"
      ]
    },
    {
      "cell_type": "markdown",
      "metadata": {
        "id": "gFs3TG5O9G4z"
      },
      "source": [
        "### 1.1.3 Gradients: Multi-dimensional derivatives\n",
        "\n",
        "![](data:image/png;base64,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)\n",
        "\n",
        "\n",
        "\n",
        "Because a derivative can have a component in multiple dimensions, we define a gradient as a multi-dimensional derivative that takes on the form of a vector. Why a vector? Because gradients have both direction and magnitude. \n",
        "\n",
        "**In short, gradients point in the direction of greatest change.**\n",
        "![](https://i.stack.imgur.com/OI6Gy.gif)"
      ]
    },
    {
      "cell_type": "markdown",
      "metadata": {
        "id": "fVN-8elU9G40"
      },
      "source": [
        "##1.2. Gradient Descent Formula for updating neural network parameters\n",
        "\n",
        "Given the values of the current parameters (weights and biases), this formula prescribes how to update them in order to drive down the cost function, given their current values:\n",
        "\n",
        "$$ \\huge{\\theta_j = \\theta_j - \\alpha \\frac{\\partial J(\\theta)}{\\partial \\theta_j}}$$\n",
        "\n",
        "\n",
        "In this formula, \n",
        "- $\\huge{\\theta_j}$ refers to the vector of weights and biases for the $jth$ data point<br><br>\n",
        "- $\\huge{\\theta}$ refers to the combined set of weights and biases of all the data points<br><br>\n",
        "- $\\huge{J(\\theta)}$ represents the cost function, which is a measure of the error between our predicted target values and the true target values<br><br>\n",
        "- $\\huge{\\alpha}$ is the *learning rate*, a positive scalar hyper-parameter<br><br>\n",
        "- $\\huge{\\frac{\\partial J(\\theta)}{\\partial \\theta_j}}$ are the partial derivatives of the cost function, which measure its sensitivity to changes in the parameters $\\huge{\\theta_j}$<br><br>\n",
        "\n",
        "\n",
        "More sophisticated versions of gradient descent are discussed in the excellent article [**An overview of gradient descent optimization algorithms**](https://ruder.io/optimizing-gradient-descent/) by Sebastian Ruder.\n",
        "\n",
        "\n",
        "These versions all build on the Gradient Descent Formula presented above, so it's best to understand this before moving on to more sophisticated versions. <br>\n"
      ]
    },
    {
      "cell_type": "markdown",
      "metadata": {
        "id": "yQc8iy_u9G40"
      },
      "source": [
        "### 1.2.1 Geometry of Gradient Descent \n",
        "\n",
        "![](https://i.stack.imgur.com/yk1mk.png)"
      ]
    },
    {
      "cell_type": "markdown",
      "metadata": {
        "id": "QlPoxfuS9G41"
      },
      "source": [
        "### 1.2.2 Convex vs. Non-Convex Loss Functions\n",
        "\n",
        "Loss curves won't always have a single minimum point for gradient descent to converge towards. Sometimes there are multiple minimums. \n",
        "\n",
        "**Global Minimum:** The absolute minimum location of a curve (or surface). \n",
        "\n",
        "**Local Minimum:** The local minimum location of a curve (or surface). \n",
        "\n",
        "\n",
        "### In 3-Dimensions \n",
        "In Calculus, those ambiguous points that take on the form of both local minima and local maxima are known as [**saddle points**](https://en.wikipedia.org/wiki/Saddle_point). It's not necessary to dive into the mathematics, the key take away is that non-convex error curves (and surfaces) have this global/local minimum issue. \n",
        "\n",
        "![](https://www.oreilly.com/radar/wp-content/uploads/sites/3/2019/06/convex-non-convex-9c8cb9320d4b0392c5f67004e8832e85.jpg)\n",
        "\n",
        "\n",
        "**Take Away:** Sometimes the gradient descent algorithm converges but is actually trapped in a local minimum. \n",
        "\n",
        "There are at least 2 possible solutions to this problem: \n",
        "\n",
        "1) Try different approaches to randomly initalizing the model weights\n",
        "For this check out [Keras's docs on Weight Initializers](https://keras.io/api/layers/initializers/). Treat these weight initializers as just another hyper-parameter to include in your gridsearch. It's a good idea to get into the practice of including weight initializers in your gridsearches! \n",
        "\n",
        "\n",
        "2) Try non-gradient descent optimizers such as [Particle Swarm](https://en.wikipedia.org/wiki/Particle_swarm_optimization) or [Genetic Algorithms](https://en.wikipedia.org/wiki/Genetic_algorithm). Feel free to read up on these appraoches but know that **you are not expected to know these appraoches** and they are outside the scope of this course. "
      ]
    },
    {
      "cell_type": "markdown",
      "metadata": {
        "id": "UZY66kiUgcjz",
        "toc-hr-collapsed": true
      },
      "source": [
        "------\n",
        "## 1.3 Let's see how to implement Gradient Descent in Keras for a simple toy problem! (Follow Along)\n",
        "\n",
        "In this section, we will again build a simple neural network using base TensorFlow. <br>\n",
        "We'll train a __Feed Forward Neural Network__ to predict targets,<br> using the method of __Gradient Descent__ to adjust the neural network parameters.<br><br> This is the process of __Back-propagation__!"
      ]
    },
    {
      "cell_type": "markdown",
      "metadata": {
        "id": "4d4tzpwO6B47"
      },
      "source": [
        "### 1.3.1 Generate synthetic (fake) data for a simple linear regression problem involving a single neuron signal <br>\n",
        "$y = \\textbf{w} \\cdot \\textbf{x} + b + \\text{noise}$"
      ]
    },
    {
      "cell_type": "code",
      "metadata": {
        "id": "ERyVgeO_IWyV"
      },
      "source": [
        "# plotting \n",
        "import matplotlib.pyplot as plt\n",
        "\n",
        "# dataset import\n",
        "from tensorflow.keras.datasets import mnist\n",
        "\n",
        "# tensorflow imports for building \n",
        "import tensorflow as tf\n",
        "from tensorflow.keras import Sequential\n",
        "from tensorflow.keras.layers import Dense\n",
        "from tensorflow.keras.optimizers import SGD\n",
        "%matplotlib inline"
      ],
      "execution_count": null,
      "outputs": []
    },
    {
      "cell_type": "code",
      "metadata": {
        "nbgrader": {
          "grade": false,
          "grade_id": "cell-13ede96854baf6e5",
          "locked": false,
          "schema_version": 3,
          "solution": true,
          "task": false
        },
        "id": "_C6O65Q09G43"
      },
      "source": [
        "# Generate samples of a Linear Regression data model\n",
        "# y     =      w  *  x    +  b     + noise\n",
        "\n",
        "### BEGIN SOLUTION\n",
        "# Specify the model parameters: slope(weight) and intercept (bias)\n",
        "w_true = 3.5\n",
        "b_true = 50.0\n",
        "# Specify how many examples we want to generate\n",
        "n_examples = 1000\n",
        "\n",
        "# linear regression assumes normally distributed data, \n",
        "#    so we'll draw our input values (x) and noise values from Gaussian distributions \n",
        "x = tf.random.normal(shape=[n_examples])\n",
        "noise = tf.random.normal(shape=[n_examples])\n",
        "\n",
        "# Generate samples from the Linear Regression data model\n",
        "# y     =      w  *  x    +  b     + noise\n",
        "y_true = w_true * x + b_true + noise\n",
        "### END SOLUTION"
      ],
      "execution_count": null,
      "outputs": []
    },
    {
      "cell_type": "markdown",
      "metadata": {
        "id": "bCJesGEUgcj4"
      },
      "source": [
        "### 1.3.2 Loss Function\n",
        "The Mean Squared Error (MSE), is an appropriate loss function for a regression problem. We are trying to predict a continuous target.\n",
        "\n",
        "$$\\huge{\\text{MSE} = \\frac{1}{N}\\sum_{i=1}^{N} (y_i-\\hat{y}_i)^2}$$"
      ]
    },
    {
      "cell_type": "code",
      "metadata": {
        "id": "kyITYhMS9G44"
      },
      "source": [
        "def loss(target_y, predicted_y, model, reg_strength=0.0):\n",
        "    \"\"\"\n",
        "    Implements Mean Square Error (MSE) as the loss function\n",
        "    \"\"\"\n",
        "    return tf.reduce_mean(tf.square(target_y - predicted_y))"
      ],
      "execution_count": null,
      "outputs": []
    },
    {
      "cell_type": "markdown",
      "metadata": {
        "id": "bgTf6vTS69Sw"
      },
      "source": [
        "### 1.3.3 Neural Network Architecture\n",
        "Lets create a Neural Network class called `Model` to feed forward the input to a neural network composed of a single linear layer, with no activation function. Note: This is essentially a linear regression model whose coefficients are trained by gradient descent. In practice, gradient descent works on much more complex functions like the multi-layer networks we constructed in Module 1."
      ]
    },
    {
      "cell_type": "code",
      "metadata": {
        "id": "RUI8VSR5zyBv"
      },
      "source": [
        "class Model(object):\n",
        "\n",
        "    def __init__(self):\n",
        "        self.w = tf.Variable(8.0)\n",
        "        self.b = tf.Variable(40.0)\n",
        "\n",
        "    def __call__(self, x):\n",
        "        # returns w*x + b \n",
        "        return self.w * x + self.b\n",
        "\n",
        "# Instantiate the Model() class\n",
        "model = Model()\n",
        "\n",
        "# test the Model() class\n",
        "#    with parameters w = 8 and b = 40, our model is  y(x) = w*x + b = 8\n",
        "#    with input of x = 3, we expect y = 8*3 + 40 = 64\n",
        "\n",
        "assert model(3.0).numpy() == 64.0"
      ],
      "execution_count": null,
      "outputs": []
    },
    {
      "cell_type": "markdown",
      "metadata": {
        "id": "gbyT_FJ88IlK"
      },
      "source": [
        "### 1.3.4 Prediction with Initial Weights\n",
        "The weights in our model were initialized randomly, so of course our neural network's initial predictions are way off!"
      ]
    },
    {
      "cell_type": "code",
      "metadata": {
        "colab": {
          "base_uri": "https://localhost:8080/",
          "height": 301
        },
        "id": "IreIDe6P8H0H",
        "outputId": "64dab783-a4e2-4192-fa78-e929c0ea5e41"
      },
      "source": [
        "inputs = x\n",
        "outputs = y_true\n",
        "predictions = model(inputs)\n",
        "plt.scatter(inputs, outputs, c='b', label = \"data\")\n",
        "plt.plot(inputs, predictions, c='r', label = \"model predictions\")\n",
        "plt.xlabel('x',FontSize=14)\n",
        "plt.ylabel('y',FontSize=14)\n",
        "plt.legend()\n",
        "plt.grid();\n",
        "\n",
        "print('Current loss: %1.6f' % loss(predictions, outputs, model).numpy())"
      ],
      "execution_count": null,
      "outputs": [
        {
          "output_type": "stream",
          "name": "stdout",
          "text": [
            "Current loss: 114.990242\n"
          ]
        },
        {
          "output_type": "display_data",
          "data": {
            "image/png": "[encoded data removed]",
            "text/plain": [
              "<Figure size 432x288 with 1 Axes>"
            ]
          },
          "metadata": {
            "needs_background": "light"
          }
        }
      ]
    },
    {
      "cell_type": "markdown",
      "metadata": {
        "id": "16Ujj6vNYQyX",
        "toc-hr-collapsed": true
      },
      "source": [
        "### 1.3.5 Back-propagation\n",
        "Means iteratively updating the weights and bias based on the gradients of the loss function.<br>\n",
        "We'll write a helper function to train a model using Keras!\n"
      ]
    },
    {
      "cell_type": "code",
      "metadata": {
        "id": "ZgaGD6YlHoid",
        "nbgrader": {
          "grade": false,
          "grade_id": "cell-100d1b1df12abe63",
          "locked": false,
          "schema_version": 3,
          "solution": true,
          "task": false
        }
      },
      "source": [
        " # this train function updates w and b using partial derivative of the loss function w.r.t. w and b\n",
        " def train(model, inputs, outputs, learning_rate):\n",
        "    with tf.GradientTape() as tape: \n",
        "        \n",
        "      # calculate the loss function value from our model's predictions\n",
        "          \n",
        "      # calculate the gradient of the loss function with respect to W and wrt B \n",
        "      \n",
        "      # update the value of W using the learning rate * the rate of change of the loss function wrt W \n",
        "      \n",
        "      # update the value of b using the learning rate * the rate of change of the loss function wrt b        \n",
        "          \n",
        "          \n",
        "      ### BEGIN SOLUTION\n",
        "      # calculate the loss function value from our model's predictions\n",
        "      current_loss = loss(outputs, model(inputs), model)\n",
        "          \n",
        "      # calculate the gradient of the loss function wrt to W and wrt B \n",
        "      dw, db = tape.gradient(current_loss, [model.w, model.b]) \n",
        "      \n",
        "      # update the value of W by subtracting (learning rate) * (gradient of the loss function wrt W) from its current value\n",
        "      model.w.assign_sub(learning_rate * dw)\n",
        "      \n",
        "      # update the value of b by subtracting (learning rate) * (gradient of the loss function wrt b) from its current value\n",
        "      model.b.assign_sub(learning_rate * db)\n",
        "      ### END SOLUTION"
      ],
      "execution_count": null,
      "outputs": []
    },
    {
      "cell_type": "markdown",
      "metadata": {
        "id": "7iziWWURgck8"
      },
      "source": [
        "### 1.3.6 Train the Network\n",
        "At each epoch, we'll print the values of the updated parameters and the loss function"
      ]
    },
    {
      "cell_type": "code",
      "metadata": {
        "colab": {
          "base_uri": "https://localhost:8080/"
        },
        "id": "4zn_HgFuHhTr",
        "outputId": "16e69b34-afbf-4344-d8b6-ddb600d83bc8"
      },
      "source": [
        "model = Model()\n",
        "\n",
        "# Store parameter history\n",
        "ws, bs = [], []\n",
        "current_loss = []\n",
        "epochs = range(50)\n",
        "\n",
        "for epoch in epochs:\n",
        "\n",
        "    # forward propagate the current parameters through the network to predict targets\n",
        "    y_hat =  model(inputs)\n",
        "\n",
        "    # compute the loss function by comparing target predictions to the true targets\n",
        "    current_loss.append(loss(outputs, y_hat, model))\n",
        "\n",
        "    # update the parameters based on gradient descent, and \n",
        "    train(model, inputs, outputs, learning_rate=0.1)\n",
        "\n",
        "    # store the updated values of weight and bias\n",
        "    ws.append(model.w.numpy())\n",
        "    bs.append(model.b.numpy())\n",
        "\n",
        "    print('Epoch %2d: w=%1.2f b=%1.2f loss=%2.5f' % (epoch, ws[-1], bs[-1], current_loss[-1]))\n",
        "\n"
      ],
      "execution_count": null,
      "outputs": [
        {
          "output_type": "stream",
          "name": "stdout",
          "text": [
            "Epoch  0: w=7.21 b=41.93 loss=114.99024\n",
            "Epoch  1: w=6.56 b=43.49 loss=75.66479\n",
            "Epoch  2: w=6.02 b=44.74 loss=49.92739\n",
            "Epoch  3: w=5.57 b=45.75 loss=33.07709\n",
            "Epoch  4: w=5.20 b=46.56 loss=22.04160\n",
            "Epoch  5: w=4.90 b=47.22 loss=14.81210\n",
            "Epoch  6: w=4.65 b=47.75 loss=10.07459\n",
            "Epoch  7: w=4.44 b=48.18 loss=6.96924\n",
            "Epoch  8: w=4.27 b=48.52 loss=4.93323\n",
            "Epoch  9: w=4.13 b=48.80 loss=3.59802\n",
            "Epoch 10: w=4.02 b=49.02 loss=2.72220\n",
            "Epoch 11: w=3.93 b=49.21 loss=2.14759\n",
            "Epoch 12: w=3.85 b=49.35 loss=1.77052\n",
            "Epoch 13: w=3.79 b=49.47 loss=1.52304\n",
            "Epoch 14: w=3.73 b=49.57 loss=1.36059\n",
            "Epoch 15: w=3.69 b=49.64 loss=1.25393\n",
            "Epoch 16: w=3.66 b=49.71 loss=1.18390\n",
            "Epoch 17: w=3.63 b=49.76 loss=1.13790\n",
            "Epoch 18: w=3.61 b=49.80 loss=1.10770\n",
            "Epoch 19: w=3.59 b=49.83 loss=1.08785\n",
            "Epoch 20: w=3.57 b=49.86 loss=1.07481\n",
            "Epoch 21: w=3.56 b=49.88 loss=1.06625\n",
            "Epoch 22: w=3.55 b=49.89 loss=1.06062\n",
            "Epoch 23: w=3.54 b=49.91 loss=1.05692\n",
            "Epoch 24: w=3.53 b=49.92 loss=1.05449\n",
            "Epoch 25: w=3.53 b=49.93 loss=1.05289\n",
            "Epoch 26: w=3.52 b=49.94 loss=1.05184\n",
            "Epoch 27: w=3.52 b=49.94 loss=1.05115\n",
            "Epoch 28: w=3.51 b=49.95 loss=1.05070\n",
            "Epoch 29: w=3.51 b=49.95 loss=1.05040\n",
            "Epoch 30: w=3.51 b=49.95 loss=1.05020\n",
            "Epoch 31: w=3.51 b=49.96 loss=1.05008\n",
            "Epoch 32: w=3.51 b=49.96 loss=1.04999\n",
            "Epoch 33: w=3.51 b=49.96 loss=1.04993\n",
            "Epoch 34: w=3.51 b=49.96 loss=1.04990\n",
            "Epoch 35: w=3.50 b=49.96 loss=1.04987\n",
            "Epoch 36: w=3.50 b=49.96 loss=1.04986\n",
            "Epoch 37: w=3.50 b=49.96 loss=1.04985\n",
            "Epoch 38: w=3.50 b=49.96 loss=1.04984\n",
            "Epoch 39: w=3.50 b=49.97 loss=1.04984\n",
            "Epoch 40: w=3.50 b=49.97 loss=1.04983\n",
            "Epoch 41: w=3.50 b=49.97 loss=1.04983\n",
            "Epoch 42: w=3.50 b=49.97 loss=1.04983\n",
            "Epoch 43: w=3.50 b=49.97 loss=1.04983\n",
            "Epoch 44: w=3.50 b=49.97 loss=1.04983\n",
            "Epoch 45: w=3.50 b=49.97 loss=1.04983\n",
            "Epoch 46: w=3.50 b=49.97 loss=1.04983\n",
            "Epoch 47: w=3.50 b=49.97 loss=1.04983\n",
            "Epoch 48: w=3.50 b=49.97 loss=1.04983\n",
            "Epoch 49: w=3.50 b=49.97 loss=1.04983\n"
          ]
        }
      ]
    },
    {
      "cell_type": "code",
      "metadata": {
        "colab": {
          "base_uri": "https://localhost:8080/",
          "height": 283
        },
        "id": "FSEt07wdHvi2",
        "outputId": "ac412fb2-6ce0-4acd-90eb-a55ad9700a57"
      },
      "source": [
        "plt.plot(epochs, ws, 'r', epochs, bs, 'b')\n",
        "plt.plot([w_true] * len(epochs), 'r--',\n",
        "         [b_true] * len(epochs), 'b--')\n",
        "plt.xlabel('Epoch number',FontSize=14)\n",
        "plt.ylabel('Parameter value',FontSize=14)\n",
        "plt.legend(['w', 'b', 'True w', 'True b'])\n",
        "plt.grid()"
      ],
      "execution_count": null,
      "outputs": [
        {
          "output_type": "display_data",
          "data": {
            "image/png": "[encoded data removed]",
            "text/plain": [
              "<Figure size 432x288 with 1 Axes>"
            ]
          },
          "metadata": {
            "needs_background": "light"
          }
        }
      ]
    },
    {
      "cell_type": "code",
      "metadata": {
        "colab": {
          "base_uri": "https://localhost:8080/",
          "height": 301
        },
        "id": "6pKDfpplbUxN",
        "outputId": "fd7bd8e7-197e-42f5-8d85-c96c9951ed06"
      },
      "source": [
        "plt.scatter(inputs, outputs, c='b', label = \"data\")\n",
        "plt.plot(inputs, model(inputs),c='r',label = \"model predictions\")\n",
        "plt.legend()\n",
        "plt.xlabel('x',FontSize=14)\n",
        "plt.ylabel('y',FontSize=14)\n",
        "plt.grid()\n",
        "\n",
        "print('Current loss: %1.6f'% current_loss[-1])"
      ],
      "execution_count": null,
      "outputs": [
        {
          "output_type": "stream",
          "name": "stdout",
          "text": [
            "Current loss: 1.049828\n"
          ]
        },
        {
          "output_type": "display_data",
          "data": {
            "image/png": "[encoded data removed]",
            "text/plain": [
              "<Figure size 432x288 with 1 Axes>"
            ]
          },
          "metadata": {
            "needs_background": "light"
          }
        }
      ]
    },
    {
      "cell_type": "markdown",
      "metadata": {
        "id": "5N4lWxfS6YIQ"
      },
      "source": [
        "### Nice job! Our model closely fits the data. \n",
        "### Congratulations! <br>\n",
        "You've just learned how to train a neural network using gradient descent and back-propagation with Keras!"
      ]
    },
    {
      "cell_type": "markdown",
      "metadata": {
        "id": "iKUVGoRxgck_"
      },
      "source": [
        "## Challenge\n",
        "\n",
        "In the module project, you will be asked to explain the logic of back-propagation and gradient descent."
      ]
    },
    {
      "cell_type": "markdown",
      "metadata": {
        "id": "jFGB1EXNwxM-"
      },
      "source": [
        "# For parts 2 and 3, we'll return to modeling the MNIST handwritten digit data set"
      ]
    },
    {
      "cell_type": "markdown",
      "metadata": {
        "id": "vTqZg-6igclA",
        "toc-hr-collapsed": true
      },
      "source": [
        "# 2. Effect of the Batch Size Hyperparameter on Training a Neural Network (Learn)"
      ]
    },
    {
      "cell_type": "markdown",
      "metadata": {
        "id": "0nrm-racgclA"
      },
      "source": [
        "## 2.1 Overview\n",
        "\n",
        "### 2.1.1 Stochastic Gradient Descent\n",
        "\n",
        "Stochastic Gradient Descent (SGD) calculates an approximation of the gradient over the entire dataset from the predictions of a **single** randomly chosen sample. \n",
        "\n",
        "Why use a single sample instead of all of the samples (a batch), or a random subset of the samples (a minibatch)?\n",
        "\n",
        "Because calculating the gradient over the entire dataset (or a subset) is extremely expensive computationally compared to using a single sample.\n",
        "\n",
        "So SGD is super-fast. What's the tradeoff? Can't get something for nothing!<br>\n",
        "The tradeoff is that SGD produces a noisy parameter update, because we are only using a small amount of information (a single sample) to compute the update!\n",
        "\n",
        "**Takeaway**: SGD computes *rapid* but *noisy* parameter updates!\n",
        "\n",
        "### 2.1.2 Batches (sometimes called Minibatches)\n",
        "Batch size is the number of observations our model uses to update the weights and predict target values. A batch is a randomly selected subset of an epoch. All observations are eventually used when processing an epoch.\n",
        "\n",
        "* Smaller Batch = Slower Run Time (but maybe more accurate results)\n",
        "* Default Batch = Balance between speed and accuracy\n",
        "* Large Batch = Very fast, but not nearly as accurate."
      ]
    },
    {
      "cell_type": "markdown",
      "metadata": {
        "id": "oNQ2ZCi7I4i6"
      },
      "source": [
        "## 2.2 Baseline Model wioth MNIST data"
      ]
    },
    {
      "cell_type": "code",
      "metadata": {
        "colab": {
          "base_uri": "https://localhost:8080/"
        },
        "id": "mZjW2lYVI9Q2",
        "nbgrader": {
          "grade": false,
          "grade_id": "cell-1c90a81f1eece31b",
          "locked": false,
          "schema_version": 3,
          "solution": true,
          "task": false
        },
        "outputId": "a55f8e44-6d6f-4a1a-f1f2-d75ee04fea40"
      },
      "source": [
        "# load data\n",
        "\n",
        "# normalize data\n",
        "\n",
        "### BEGIN SOLUTION\n",
        "(X_train, y_train), (X_test, y_test) = mnist.load_data()\n",
        "\n",
        "# normalize data \n",
        "max_pixel_value = 255\n",
        "X_train = X_train / max_pixel_value\n",
        "X_test = X_test / max_pixel_value\n",
        "\n",
        "X_train = X_train.reshape((60000, 784))\n",
        "X_test = X_test.reshape((10000, 784))\n",
        "### END SOLUTION"
      ],
      "execution_count": null,
      "outputs": [
        {
          "output_type": "stream",
          "name": "stdout",
          "text": [
            "Downloading data from https://storage.googleapis.com/tensorflow/tf-keras-datasets/mnist.npz\n",
            "11493376/11490434 [==============================] - 0s 0us/step\n",
            "11501568/11490434 [==============================] - 0s 0us/step\n"
          ]
        }
      ]
    },
    {
      "cell_type": "markdown",
      "metadata": {
        "id": "Kkvukt_X9G48"
      },
      "source": [
        "### 2.2.1 Normalizing the data can help your model learn faster\n",
        "\n",
        "If your dataset has values ranging across multiple orders of magnitude (i.e. $10^1,~~10^2,~~10^3,~~10^4$), then gradient descent will update the weights and biases in grossly uneven proportions.<br> \n",
        "\n",
        "**Normalizing** the data, i.e shifting and scaling the values to lie within the unit interval $[0,1]$ ensures that all weight and bias updates are on the same scale, which can lead to quicker convergence. \n",
        "\n",
        "![](https://quicktomaster.com/wp-content/uploads/2020/08/contour_plot.png)\n",
        "\n",
        "There's more to be said about Normalization and Gradient Descent <br>\n",
        "If you are interested in going deeper, we highly recommend this well written article [Normalizing your data](https://www.jeremyjordan.me/batch-normalization/) in which Jeremy Jordan explores the impact of normalization on Gradient Descent in greater detail."
      ]
    },
    {
      "cell_type": "markdown",
      "metadata": {
        "id": "GPDPo4LG1gxY"
      },
      "source": [
        "### 2.2.2 Helper function to build our neural network model\n",
        "Since this is a classification problem with 10 classes and the target values are integers the [appropriate loss function](https://stats.stackexchange.com/questions/326065/cross-entropy-vs-sparse-cross-entropy-when-to-use-one-over-the-other) to use in our model is `sparse_categorical_crossentropy`."
      ]
    },
    {
      "cell_type": "code",
      "metadata": {
        "id": "o7x17kDKJSy5",
        "nbgrader": {
          "grade": false,
          "grade_id": "cell-38ed3365b403af52",
          "locked": false,
          "schema_version": 3,
          "solution": true,
          "task": false
        }
      },
      "source": [
        "# write a function called create_model that accepts a learning rate alpha for SGD as an input parameter \n",
        "# it should return a complied, 2 hidden layer neural net that uses SGD as the optimizer \n",
        "# Import SGD as discussed here: https://keras.io/api/optimizers/sgd/\n",
        "\n",
        "\n",
        "\n",
        "# create create_model\n",
        "def create_model(lr=.01):\n",
        "    \"\"\"\n",
        "    Parameters\n",
        "    ----------\n",
        "    lr: float\n",
        "        Learing rate parameter used for Stocastic Gradient Descent \n",
        "        \n",
        "    Returns\n",
        "    -------\n",
        "    model: keras object \n",
        "        A complied keras model \n",
        "    \"\"\"\n",
        "### BEGIN SOLUTION\n",
        "    opt = SGD(learning_rate=lr)\n",
        "\n",
        "    # build a model by passing a list of layers to Sequential()\n",
        "    model = Sequential([\n",
        "          # hidden layer 1 \n",
        "          Dense(1, activation='relu', input_dim=784),\n",
        "          # hidden layer 2 \n",
        "          Dense(32, activation='relu'),\n",
        "          # output layer \n",
        "          Dense(10, activation='softmax')\n",
        "\n",
        "    ])\n",
        "\n",
        "    model.compile(optimizer=opt, \n",
        "                  loss='sparse_categorical_crossentropy',\n",
        "                  metrics=['accuracy'])\n",
        "    return model\n",
        "### END SOLUTION "
      ],
      "execution_count": null,
      "outputs": []
    },
    {
      "cell_type": "code",
      "metadata": {
        "colab": {
          "base_uri": "https://localhost:8080/"
        },
        "id": "W-HsAQ-9jgUM",
        "outputId": "80a7192b-756d-435f-f4c5-6789d589ad09"
      },
      "source": [
        "create_model().summary()"
      ],
      "execution_count": null,
      "outputs": [
        {
          "output_type": "stream",
          "name": "stdout",
          "text": [
            "Model: \"sequential\"\n",
            "_________________________________________________________________\n",
            "Layer (type)                 Output Shape              Param #   \n",
            "=================================================================\n",
            "dense (Dense)                (None, 1)                 785       \n",
            "_________________________________________________________________\n",
            "dense_1 (Dense)              (None, 32)                64        \n",
            "_________________________________________________________________\n",
            "dense_2 (Dense)              (None, 10)                330       \n",
            "=================================================================\n",
            "Total params: 1,179\n",
            "Trainable params: 1,179\n",
            "Non-trainable params: 0\n",
            "_________________________________________________________________\n"
          ]
        }
      ]
    },
    {
      "cell_type": "markdown",
      "metadata": {
        "id": "ZF7UE-KluPsX"
      },
      "source": [
        "## 2.3 Experiments to gauge the effect of batch size (Follow Along)\n",
        "Let's run a series of experiments for a default, small, and large batch size."
      ]
    },
    {
      "cell_type": "markdown",
      "metadata": {
        "id": "VhpDaVFRJl3U"
      },
      "source": [
        "### 2.3.1 Default Batch Size\n",
        "Batch Size is 32"
      ]
    },
    {
      "cell_type": "code",
      "metadata": {
        "id": "P-ChVGikgclD",
        "scrolled": true,
        "colab": {
          "base_uri": "https://localhost:8080/"
        },
        "outputId": "e4ad097c-a1eb-42cc-ffbc-35b244f80e8a"
      },
      "source": [
        "%%time\n",
        "# instantiate a model and fit it with batch size of 32\n",
        "model = create_model()\n",
        "bt_default = model.fit(X_train, y_train, batch_size=32, validation_data=(X_test, y_test), epochs=5)"
      ],
      "execution_count": null,
      "outputs": [
        {
          "output_type": "stream",
          "name": "stdout",
          "text": [
            "Epoch 1/5\n",
            "1875/1875 [==============================] - 7s 3ms/step - loss: 2.0783 - accuracy: 0.1952 - val_loss: 1.9333 - val_accuracy: 0.2343\n",
            "Epoch 2/5\n",
            "1875/1875 [==============================] - 5s 3ms/step - loss: 1.8723 - accuracy: 0.2579 - val_loss: 1.8173 - val_accuracy: 0.2831\n",
            "Epoch 3/5\n",
            "1875/1875 [==============================] - 5s 3ms/step - loss: 1.7880 - accuracy: 0.3002 - val_loss: 1.7505 - val_accuracy: 0.3208\n",
            "Epoch 4/5\n",
            "1875/1875 [==============================] - 5s 3ms/step - loss: 1.7330 - accuracy: 0.3274 - val_loss: 1.6986 - val_accuracy: 0.3409\n",
            "Epoch 5/5\n",
            "1875/1875 [==============================] - 5s 3ms/step - loss: 1.6874 - accuracy: 0.3456 - val_loss: 1.6516 - val_accuracy: 0.3574\n",
            "CPU times: user 27.3 s, sys: 3.53 s, total: 30.9 s\n",
            "Wall time: 41.8 s\n"
          ]
        }
      ]
    },
    {
      "cell_type": "markdown",
      "metadata": {
        "id": "krYQ1XHvnpk_"
      },
      "source": [
        "What's that number 1875? It's the number of batches in the full data set"
      ]
    },
    {
      "cell_type": "code",
      "metadata": {
        "colab": {
          "base_uri": "https://localhost:8080/"
        },
        "id": "knaV6-vBjwNQ",
        "outputId": "45ab8f70-4b73-432c-f355-69a103ae8273"
      },
      "source": [
        "print(X_train.shape)\n",
        "print(X_train.shape[0]/32)"
      ],
      "execution_count": null,
      "outputs": [
        {
          "output_type": "stream",
          "name": "stdout",
          "text": [
            "(60000, 784)\n",
            "1875.0\n"
          ]
        }
      ]
    },
    {
      "cell_type": "code",
      "metadata": {
        "colab": {
          "base_uri": "https://localhost:8080/"
        },
        "id": "A0hxaeqyj4ye",
        "outputId": "3a9daa49-48c1-4cf3-9a53-69583773acdc"
      },
      "source": [
        "60000/32"
      ],
      "execution_count": null,
      "outputs": [
        {
          "output_type": "execute_result",
          "data": {
            "text/plain": [
              "1875.0"
            ]
          },
          "metadata": {},
          "execution_count": 15
        }
      ]
    },
    {
      "cell_type": "markdown",
      "metadata": {
        "id": "KvsbOFnDJuG0"
      },
      "source": [
        "### 2.3.2 Small Batch Size\n",
        "Batch Size is 8"
      ]
    },
    {
      "cell_type": "code",
      "metadata": {
        "id": "diDzvb-UJ1je",
        "scrolled": true,
        "colab": {
          "base_uri": "https://localhost:8080/"
        },
        "outputId": "e9d98bd4-166d-4a44-aedf-fd328be0ea0b"
      },
      "source": [
        "%%time\n",
        "# instantiate a model and fit it with batch size of 8\n",
        "#YOUR CODE HERE\n",
        "bt_small = model.fit(X_train, y_train, batch_size=8, validation_data=(X_test, y_test), epochs=5)"
      ],
      "execution_count": null,
      "outputs": [
        {
          "output_type": "stream",
          "name": "stdout",
          "text": [
            "Epoch 1/5\n",
            "7500/7500 [==============================] - 23s 3ms/step - loss: 1.6459 - accuracy: 0.3537 - val_loss: 1.6085 - val_accuracy: 0.3485\n",
            "Epoch 2/5\n",
            "7500/7500 [==============================] - 22s 3ms/step - loss: 1.6194 - accuracy: 0.3587 - val_loss: 1.6120 - val_accuracy: 0.3520\n",
            "Epoch 3/5\n",
            "7500/7500 [==============================] - 23s 3ms/step - loss: 1.6085 - accuracy: 0.3655 - val_loss: 1.6077 - val_accuracy: 0.3514\n",
            "Epoch 4/5\n",
            "7500/7500 [==============================] - 23s 3ms/step - loss: 1.5996 - accuracy: 0.3699 - val_loss: 1.5637 - val_accuracy: 0.3807\n",
            "Epoch 5/5\n",
            "7500/7500 [==============================] - 23s 3ms/step - loss: 1.5901 - accuracy: 0.3822 - val_loss: 1.5805 - val_accuracy: 0.3781\n",
            "CPU times: user 1min 58s, sys: 14.1 s, total: 2min 13s\n",
            "Wall time: 1min 54s\n"
          ]
        }
      ]
    },
    {
      "cell_type": "markdown",
      "metadata": {
        "id": "_iPvvvt5J2Xl"
      },
      "source": [
        "### 2.3.3 Large Batch Size\n",
        "Batch Size is 512"
      ]
    },
    {
      "cell_type": "code",
      "metadata": {
        "id": "7h8Z5293KABT",
        "colab": {
          "base_uri": "https://localhost:8080/"
        },
        "outputId": "39e6023a-aa14-46e8-e1fd-4e7a85670aa6"
      },
      "source": [
        "# instantiate a model and fit it with batch size of 512\n",
        "#YOUR CODE HERE\n",
        "bt_large = model.fit(X_train, y_train, batch_size=512, validation_data=(X_test, y_test), epochs=5)"
      ],
      "execution_count": null,
      "outputs": [
        {
          "output_type": "stream",
          "name": "stdout",
          "text": [
            "Epoch 1/5\n",
            "118/118 [==============================] - 1s 5ms/step - loss: 1.5651 - accuracy: 0.3891 - val_loss: 1.5476 - val_accuracy: 0.3952\n",
            "Epoch 2/5\n",
            "118/118 [==============================] - 1s 5ms/step - loss: 1.5605 - accuracy: 0.3953 - val_loss: 1.5458 - val_accuracy: 0.3959\n",
            "Epoch 3/5\n",
            "118/118 [==============================] - 1s 5ms/step - loss: 1.5595 - accuracy: 0.3968 - val_loss: 1.5449 - val_accuracy: 0.3968\n",
            "Epoch 4/5\n",
            "118/118 [==============================] - 1s 4ms/step - loss: 1.5590 - accuracy: 0.3975 - val_loss: 1.5473 - val_accuracy: 0.3982\n",
            "Epoch 5/5\n",
            "118/118 [==============================] - 1s 5ms/step - loss: 1.5584 - accuracy: 0.3983 - val_loss: 1.5455 - val_accuracy: 0.3984\n"
          ]
        }
      ]
    },
    {
      "cell_type": "code",
      "metadata": {
        "colab": {
          "base_uri": "https://localhost:8080/"
        },
        "id": "vE2Awnk3aXPv",
        "outputId": "f3d108bb-bbf4-489e-ec79-8e0deb8a3e3f"
      },
      "source": [
        "bt_default.history"
      ],
      "execution_count": null,
      "outputs": [
        {
          "output_type": "execute_result",
          "data": {
            "text/plain": [
              "{'accuracy': [0.19518333673477173,\n",
              "  0.257916659116745,\n",
              "  0.3001999855041504,\n",
              "  0.32739999890327454,\n",
              "  0.34564998745918274],\n",
              " 'loss': [2.078307628631592,\n",
              "  1.8723042011260986,\n",
              "  1.7879880666732788,\n",
              "  1.7330381870269775,\n",
              "  1.687403678894043],\n",
              " 'val_accuracy': [0.23430000245571136,\n",
              "  0.2831000089645386,\n",
              "  0.3208000063896179,\n",
              "  0.3409000039100647,\n",
              "  0.35740000009536743],\n",
              " 'val_loss': [1.9333040714263916,\n",
              "  1.8172943592071533,\n",
              "  1.7505301237106323,\n",
              "  1.6986221075057983,\n",
              "  1.6516152620315552]}"
            ]
          },
          "metadata": {},
          "execution_count": 18
        }
      ]
    },
    {
      "cell_type": "code",
      "metadata": {
        "id": "YQFCYnUSakDU"
      },
      "source": [
        "import pandas as pd\n",
        "dd = pd.DataFrame.from_dict(bt_default.history)"
      ],
      "execution_count": null,
      "outputs": []
    },
    {
      "cell_type": "code",
      "metadata": {
        "colab": {
          "base_uri": "https://localhost:8080/",
          "height": 206
        },
        "id": "lZaxTfmNauCw",
        "outputId": "b790b826-6073-4b87-e0be-d18cfd4c0ed5"
      },
      "source": [
        "dd"
      ],
      "execution_count": null,
      "outputs": [
        {
          "output_type": "execute_result",
          "data": {
            "text/html": [
              "<div>\n",
              "<style scoped>\n",
              "    .dataframe tbody tr th:only-of-type {\n",
              "        vertical-align: middle;\n",
              "    }\n",
              "\n",
              "    .dataframe tbody tr th {\n",
              "        vertical-align: top;\n",
              "    }\n",
              "\n",
              "    .dataframe thead th {\n",
              "        text-align: right;\n",
              "    }\n",
              "</style>\n",
              "<table border=\"1\" class=\"dataframe\">\n",
              "  <thead>\n",
              "    <tr style=\"text-align: right;\">\n",
              "      <th></th>\n",
              "      <th>loss</th>\n",
              "      <th>accuracy</th>\n",
              "      <th>val_loss</th>\n",
              "      <th>val_accuracy</th>\n",
              "    </tr>\n",
              "  </thead>\n",
              "  <tbody>\n",
              "    <tr>\n",
              "      <th>0</th>\n",
              "      <td>2.078308</td>\n",
              "      <td>0.195183</td>\n",
              "      <td>1.933304</td>\n",
              "      <td>0.2343</td>\n",
              "    </tr>\n",
              "    <tr>\n",
              "      <th>1</th>\n",
              "      <td>1.872304</td>\n",
              "      <td>0.257917</td>\n",
              "      <td>1.817294</td>\n",
              "      <td>0.2831</td>\n",
              "    </tr>\n",
              "    <tr>\n",
              "      <th>2</th>\n",
              "      <td>1.787988</td>\n",
              "      <td>0.300200</td>\n",
              "      <td>1.750530</td>\n",
              "      <td>0.3208</td>\n",
              "    </tr>\n",
              "    <tr>\n",
              "      <th>3</th>\n",
              "      <td>1.733038</td>\n",
              "      <td>0.327400</td>\n",
              "      <td>1.698622</td>\n",
              "      <td>0.3409</td>\n",
              "    </tr>\n",
              "    <tr>\n",
              "      <th>4</th>\n",
              "      <td>1.687404</td>\n",
              "      <td>0.345650</td>\n",
              "      <td>1.651615</td>\n",
              "      <td>0.3574</td>\n",
              "    </tr>\n",
              "  </tbody>\n",
              "</table>\n",
              "</div>"
            ],
            "text/plain": [
              "       loss  accuracy  val_loss  val_accuracy\n",
              "0  2.078308  0.195183  1.933304        0.2343\n",
              "1  1.872304  0.257917  1.817294        0.2831\n",
              "2  1.787988  0.300200  1.750530        0.3208\n",
              "3  1.733038  0.327400  1.698622        0.3409\n",
              "4  1.687404  0.345650  1.651615        0.3574"
            ]
          },
          "metadata": {},
          "execution_count": 20
        }
      ]
    },
    {
      "cell_type": "markdown",
      "metadata": {
        "id": "B0ujUz6BKUGz"
      },
      "source": [
        "### 2.3.4 Visualize Results"
      ]
    },
    {
      "cell_type": "code",
      "metadata": {
        "id": "o-5DOZNMKYt-",
        "colab": {
          "base_uri": "https://localhost:8080/",
          "height": 520
        },
        "outputId": "af3406d9-a48b-4c57-dc89-72bcf3513504"
      },
      "source": [
        "import seaborn as sns\n",
        "import pandas as pd\n",
        "\n",
        "experiment_dfs = []\n",
        "\n",
        "for experiment, label in zip([bt_default, bt_small, bt_large], [\"32_\", \"8_\", \"512_\"]):\n",
        "\n",
        "    df = pd.DataFrame.from_dict(experiment.history)\n",
        "    df['epoch'] = df.index.values\n",
        "    df['Batch Size'] = label\n",
        "\n",
        "    # append to list of experiment data frames\n",
        "    experiment_dfs.append(df)\n",
        "\n",
        "df = pd.concat(experiment_dfs,ignore_index=True)\n",
        "df['Batch Size'] = df['Batch Size'].astype('str')\n",
        "df"
      ],
      "execution_count": null,
      "outputs": [
        {
          "output_type": "execute_result",
          "data": {
            "text/html": [
              "<div>\n",
              "<style scoped>\n",
              "    .dataframe tbody tr th:only-of-type {\n",
              "        vertical-align: middle;\n",
              "    }\n",
              "\n",
              "    .dataframe tbody tr th {\n",
              "        vertical-align: top;\n",
              "    }\n",
              "\n",
              "    .dataframe thead th {\n",
              "        text-align: right;\n",
              "    }\n",
              "</style>\n",
              "<table border=\"1\" class=\"dataframe\">\n",
              "  <thead>\n",
              "    <tr style=\"text-align: right;\">\n",
              "      <th></th>\n",
              "      <th>loss</th>\n",
              "      <th>accuracy</th>\n",
              "      <th>val_loss</th>\n",
              "      <th>val_accuracy</th>\n",
              "      <th>epoch</th>\n",
              "      <th>Batch Size</th>\n",
              "    </tr>\n",
              "  </thead>\n",
              "  <tbody>\n",
              "    <tr>\n",
              "      <th>0</th>\n",
              "      <td>2.078308</td>\n",
              "      <td>0.195183</td>\n",
              "      <td>1.933304</td>\n",
              "      <td>0.2343</td>\n",
              "      <td>0</td>\n",
              "      <td>32_</td>\n",
              "    </tr>\n",
              "    <tr>\n",
              "      <th>1</th>\n",
              "      <td>1.872304</td>\n",
              "      <td>0.257917</td>\n",
              "      <td>1.817294</td>\n",
              "      <td>0.2831</td>\n",
              "      <td>1</td>\n",
              "      <td>32_</td>\n",
              "    </tr>\n",
              "    <tr>\n",
              "      <th>2</th>\n",
              "      <td>1.787988</td>\n",
              "      <td>0.300200</td>\n",
              "      <td>1.750530</td>\n",
              "      <td>0.3208</td>\n",
              "      <td>2</td>\n",
              "      <td>32_</td>\n",
              "    </tr>\n",
              "    <tr>\n",
              "      <th>3</th>\n",
              "      <td>1.733038</td>\n",
              "      <td>0.327400</td>\n",
              "      <td>1.698622</td>\n",
              "      <td>0.3409</td>\n",
              "      <td>3</td>\n",
              "      <td>32_</td>\n",
              "    </tr>\n",
              "    <tr>\n",
              "      <th>4</th>\n",
              "      <td>1.687404</td>\n",
              "      <td>0.345650</td>\n",
              "      <td>1.651615</td>\n",
              "      <td>0.3574</td>\n",
              "      <td>4</td>\n",
              "      <td>32_</td>\n",
              "    </tr>\n",
              "    <tr>\n",
              "      <th>5</th>\n",
              "      <td>1.645910</td>\n",
              "      <td>0.353733</td>\n",
              "      <td>1.608484</td>\n",
              "      <td>0.3485</td>\n",
              "      <td>0</td>\n",
              "      <td>8_</td>\n",
              "    </tr>\n",
              "    <tr>\n",
              "      <th>6</th>\n",
              "      <td>1.619360</td>\n",
              "      <td>0.358683</td>\n",
              "      <td>1.612038</td>\n",
              "      <td>0.3520</td>\n",
              "      <td>1</td>\n",
              "      <td>8_</td>\n",
              "    </tr>\n",
              "    <tr>\n",
              "      <th>7</th>\n",
              "      <td>1.608505</td>\n",
              "      <td>0.365467</td>\n",
              "      <td>1.607674</td>\n",
              "      <td>0.3514</td>\n",
              "      <td>2</td>\n",
              "      <td>8_</td>\n",
              "    </tr>\n",
              "    <tr>\n",
              "      <th>8</th>\n",
              "      <td>1.599580</td>\n",
              "      <td>0.369933</td>\n",
              "      <td>1.563729</td>\n",
              "      <td>0.3807</td>\n",
              "      <td>3</td>\n",
              "      <td>8_</td>\n",
              "    </tr>\n",
              "    <tr>\n",
              "      <th>9</th>\n",
              "      <td>1.590113</td>\n",
              "      <td>0.382200</td>\n",
              "      <td>1.580480</td>\n",
              "      <td>0.3781</td>\n",
              "      <td>4</td>\n",
              "      <td>8_</td>\n",
              "    </tr>\n",
              "    <tr>\n",
              "      <th>10</th>\n",
              "      <td>1.565124</td>\n",
              "      <td>0.389133</td>\n",
              "      <td>1.547566</td>\n",
              "      <td>0.3952</td>\n",
              "      <td>0</td>\n",
              "      <td>512_</td>\n",
              "    </tr>\n",
              "    <tr>\n",
              "      <th>11</th>\n",
              "      <td>1.560461</td>\n",
              "      <td>0.395300</td>\n",
              "      <td>1.545792</td>\n",
              "      <td>0.3959</td>\n",
              "      <td>1</td>\n",
              "      <td>512_</td>\n",
              "    </tr>\n",
              "    <tr>\n",
              "      <th>12</th>\n",
              "      <td>1.559486</td>\n",
              "      <td>0.396783</td>\n",
              "      <td>1.544866</td>\n",
              "      <td>0.3968</td>\n",
              "      <td>2</td>\n",
              "      <td>512_</td>\n",
              "    </tr>\n",
              "    <tr>\n",
              "      <th>13</th>\n",
              "      <td>1.558954</td>\n",
              "      <td>0.397450</td>\n",
              "      <td>1.547258</td>\n",
              "      <td>0.3982</td>\n",
              "      <td>3</td>\n",
              "      <td>512_</td>\n",
              "    </tr>\n",
              "    <tr>\n",
              "      <th>14</th>\n",
              "      <td>1.558440</td>\n",
              "      <td>0.398250</td>\n",
              "      <td>1.545466</td>\n",
              "      <td>0.3984</td>\n",
              "      <td>4</td>\n",
              "      <td>512_</td>\n",
              "    </tr>\n",
              "  </tbody>\n",
              "</table>\n",
              "</div>"
            ],
            "text/plain": [
              "        loss  accuracy  val_loss  val_accuracy  epoch Batch Size\n",
              "0   2.078308  0.195183  1.933304        0.2343      0        32_\n",
              "1   1.872304  0.257917  1.817294        0.2831      1        32_\n",
              "2   1.787988  0.300200  1.750530        0.3208      2        32_\n",
              "3   1.733038  0.327400  1.698622        0.3409      3        32_\n",
              "4   1.687404  0.345650  1.651615        0.3574      4        32_\n",
              "5   1.645910  0.353733  1.608484        0.3485      0         8_\n",
              "6   1.619360  0.358683  1.612038        0.3520      1         8_\n",
              "7   1.608505  0.365467  1.607674        0.3514      2         8_\n",
              "8   1.599580  0.369933  1.563729        0.3807      3         8_\n",
              "9   1.590113  0.382200  1.580480        0.3781      4         8_\n",
              "10  1.565124  0.389133  1.547566        0.3952      0       512_\n",
              "11  1.560461  0.395300  1.545792        0.3959      1       512_\n",
              "12  1.559486  0.396783  1.544866        0.3968      2       512_\n",
              "13  1.558954  0.397450  1.547258        0.3982      3       512_\n",
              "14  1.558440  0.398250  1.545466        0.3984      4       512_"
            ]
          },
          "metadata": {},
          "execution_count": 21
        }
      ]
    },
    {
      "cell_type": "code",
      "metadata": {
        "id": "Dlg9uSEEmIJB",
        "colab": {
          "base_uri": "https://localhost:8080/",
          "height": 279
        },
        "outputId": "1dda0f16-7c8c-4625-a07f-046bbcbe0979"
      },
      "source": [
        "sns.lineplot(x='epoch', y='val_accuracy', hue='Batch Size', data=df);\n",
        "plt.grid()"
      ],
      "execution_count": null,
      "outputs": [
        {
          "output_type": "display_data",
          "data": {
            "image/png": "[encoded data removed]",
            "text/plain": [
              "<Figure size 432x288 with 1 Axes>"
            ]
          },
          "metadata": {
            "needs_background": "light"
          }
        }
      ]
    },
    {
      "cell_type": "code",
      "metadata": {
        "id": "94bJYgz3nkp0",
        "colab": {
          "base_uri": "https://localhost:8080/",
          "height": 282
        },
        "outputId": "b5d7738a-06e8-45e7-ec9f-78d033904ac4"
      },
      "source": [
        "sns.lineplot(x='epoch', y='val_loss', hue='Batch Size', data=df);\n",
        "plt.grid()"
      ],
      "execution_count": null,
      "outputs": [
        {
          "output_type": "display_data",
          "data": {
            "image/png": "[encoded data removed]",
            "text/plain": [
              "<Figure size 432x288 with 1 Axes>"
            ]
          },
          "metadata": {
            "needs_background": "light"
          }
        }
      ]
    },
    {
      "cell_type": "markdown",
      "metadata": {
        "id": "4kZ2vUYYgclS"
      },
      "source": [
        "## Challenge\n",
        "\n",
        "You will be expected to experiment with batch size on today's assignment."
      ]
    },
    {
      "cell_type": "markdown",
      "metadata": {
        "id": "46cP9Pm_gclS"
      },
      "source": [
        "# 3. The Effect of the Learning Rate Hyperparameter on Neural Network Training (Learn)"
      ]
    },
    {
      "cell_type": "markdown",
      "metadata": {
        "id": "SXBoghYG9G5A"
      },
      "source": [
        "![](https://www.jeremyjordan.me/content/images/2018/02/Screen-Shot-2018-02-24-at-11.47.09-AM.png)"
      ]
    },
    {
      "cell_type": "markdown",
      "metadata": {
        "id": "Bna67ADZgclT",
        "toc-hr-collapsed": true
      },
      "source": [
        "## 3.1 Overview\n",
        "\n",
        "Learning Rate controls the size of the update to our weights that the optimization algorithm makes. VERY IMPORTANT hyperparameter.\n",
        "\n",
        "* If the learning rate is too high, the model will not find the minimum\n",
        "* If the learning rate is too low, the model will underfit or take too long to converge\n",
        "* Goldilocks learning rate is \"just right\", the model converges rapidly\n",
        "* Scale of 0-1"
      ]
    },
    {
      "cell_type": "markdown",
      "metadata": {
        "id": "gsVYOn7bgcle",
        "toc-hr-collapsed": true
      },
      "source": [
        "## 3.2 Experiments to gauge the effect of learning rate (Follow Along)\n",
        "\n",
        "Try experiments with same Batch Size = 32 but different Learning Rates:\n",
        "* High Learning Rate = .75\n",
        "* Default Learning Rate = .01\n",
        "* Low Learning Rate = .0001"
      ]
    },
    {
      "cell_type": "markdown",
      "metadata": {
        "id": "CI_H8Em1NOii"
      },
      "source": [
        "### 3.2.1 Default Learning Rate"
      ]
    },
    {
      "cell_type": "code",
      "metadata": {
        "id": "Se8cb_ZUNVtL",
        "colab": {
          "base_uri": "https://localhost:8080/"
        },
        "outputId": "66870c7e-e84e-45e7-afaa-3f13dc70d3a7"
      },
      "source": [
        "# instantiate a model and fit it with a learning rate value of 0.01\n",
        "model = create_model(lr=.01)\n",
        "lr_default = model.fit(X_train, y_train, batch_size=32, validation_data=(X_test, y_test), epochs=5)"
      ],
      "execution_count": null,
      "outputs": [
        {
          "output_type": "stream",
          "name": "stdout",
          "text": [
            "Epoch 1/5\n",
            "1875/1875 [==============================] - 4s 2ms/step - loss: 2.0559 - accuracy: 0.1804 - val_loss: 1.8963 - val_accuracy: 0.1861\n",
            "Epoch 2/5\n",
            "1875/1875 [==============================] - 4s 2ms/step - loss: 1.8411 - accuracy: 0.2314 - val_loss: 1.7934 - val_accuracy: 0.2419\n",
            "Epoch 3/5\n",
            "1875/1875 [==============================] - 4s 2ms/step - loss: 1.7667 - accuracy: 0.2768 - val_loss: 1.7381 - val_accuracy: 0.2939\n",
            "Epoch 4/5\n",
            "1875/1875 [==============================] - 4s 2ms/step - loss: 1.7146 - accuracy: 0.3215 - val_loss: 1.6850 - val_accuracy: 0.3504\n",
            "Epoch 5/5\n",
            "1875/1875 [==============================] - 4s 2ms/step - loss: 1.6700 - accuracy: 0.3424 - val_loss: 1.6529 - val_accuracy: 0.3525\n"
          ]
        }
      ]
    },
    {
      "cell_type": "markdown",
      "metadata": {
        "id": "IQZ4SZdKNMRO"
      },
      "source": [
        "### 3.2.2 High Learning Rate"
      ]
    },
    {
      "cell_type": "code",
      "metadata": {
        "id": "Ny72mU_dNWMR",
        "colab": {
          "base_uri": "https://localhost:8080/"
        },
        "outputId": "0b1db394-9d7b-4500-db63-7ad9584325de"
      },
      "source": [
        "# instantiate a model and fit it with a learning rate value of 0.75\n",
        "model = create_model(lr=0.75)\n",
        "lr_high = model.fit(X_train, y_train, batch_size=32, validation_data=(X_test, y_test), epochs=5)"
      ],
      "execution_count": null,
      "outputs": [
        {
          "output_type": "stream",
          "name": "stdout",
          "text": [
            "Epoch 1/5\n",
            "1875/1875 [==============================] - 4s 2ms/step - loss: 2.2908 - accuracy: 0.1120 - val_loss: 2.3055 - val_accuracy: 0.1028\n",
            "Epoch 2/5\n",
            "1875/1875 [==============================] - 4s 2ms/step - loss: 2.3069 - accuracy: 0.1046 - val_loss: 2.3098 - val_accuracy: 0.1135\n",
            "Epoch 3/5\n",
            "1875/1875 [==============================] - 4s 2ms/step - loss: 2.3063 - accuracy: 0.1051 - val_loss: 2.3104 - val_accuracy: 0.0974\n",
            "Epoch 4/5\n",
            "1875/1875 [==============================] - 3s 2ms/step - loss: 2.3066 - accuracy: 0.1045 - val_loss: 2.3052 - val_accuracy: 0.1135\n",
            "Epoch 5/5\n",
            "1875/1875 [==============================] - 4s 2ms/step - loss: 2.3066 - accuracy: 0.1047 - val_loss: 2.3100 - val_accuracy: 0.1135\n"
          ]
        }
      ]
    },
    {
      "cell_type": "markdown",
      "metadata": {
        "id": "kAqDmTVBNSMR"
      },
      "source": [
        "### 3.2.3 Low Learning Rate"
      ]
    },
    {
      "cell_type": "code",
      "metadata": {
        "id": "Ech1ER64NXBn",
        "jupyter": {
          "outputs_hidden": true
        },
        "colab": {
          "base_uri": "https://localhost:8080/"
        },
        "outputId": "da9e563e-7dc7-4b11-aed6-f556721e9b35"
      },
      "source": [
        "# instantiate a model and fit it with a learning rate value of 0.0001\n",
        "model = create_model(lr=0.0001)\n",
        "lr_low = model.fit(X_train, y_train, batch_size=32, validation_data=(X_test, y_test), epochs=5)"
      ],
      "execution_count": null,
      "outputs": [
        {
          "output_type": "stream",
          "name": "stdout",
          "text": [
            "Epoch 1/5\n",
            "1875/1875 [==============================] - 4s 2ms/step - loss: 2.3043 - accuracy: 0.0928 - val_loss: 2.3036 - val_accuracy: 0.0955\n",
            "Epoch 2/5\n",
            "1875/1875 [==============================] - 4s 2ms/step - loss: 2.3036 - accuracy: 0.0962 - val_loss: 2.3031 - val_accuracy: 0.0996\n",
            "Epoch 3/5\n",
            "1875/1875 [==============================] - 3s 2ms/step - loss: 2.3031 - accuracy: 0.0996 - val_loss: 2.3028 - val_accuracy: 0.1014\n",
            "Epoch 4/5\n",
            "1875/1875 [==============================] - 4s 2ms/step - loss: 2.3028 - accuracy: 0.1016 - val_loss: 2.3025 - val_accuracy: 0.1026\n",
            "Epoch 5/5\n",
            "1875/1875 [==============================] - 4s 2ms/step - loss: 2.3025 - accuracy: 0.1032 - val_loss: 2.3022 - val_accuracy: 0.1039\n"
          ]
        }
      ]
    },
    {
      "cell_type": "markdown",
      "metadata": {
        "id": "sZe6DyhANXdU"
      },
      "source": [
        "### 3.2.4 Visualize Results"
      ]
    },
    {
      "cell_type": "code",
      "metadata": {
        "id": "Bn-BdFdMNph-",
        "colab": {
          "base_uri": "https://localhost:8080/",
          "height": 520
        },
        "outputId": "792fed9b-cf69-4327-ab57-dcccb4537360"
      },
      "source": [
        "import seaborn as sns\n",
        "import pandas as pd\n",
        "\n",
        "experiments = []\n",
        "\n",
        "for experiment, label in zip([lr_default, lr_low, lr_high], [\".01_\", \".0001_\", \".75_\"]):\n",
        "\n",
        "    df = pd.DataFrame.from_dict(experiment.history)\n",
        "    df['epoch'] = df.index.values\n",
        "    df['Learning Rate'] = label\n",
        "\n",
        "    experiments.append(df)\n",
        "\n",
        "df = pd.concat(experiments,ignore_index=True)\n",
        "df['Learning Rate'] = df['Learning Rate'].astype('str')\n",
        "df"
      ],
      "execution_count": null,
      "outputs": [
        {
          "output_type": "execute_result",
          "data": {
            "text/html": [
              "<div>\n",
              "<style scoped>\n",
              "    .dataframe tbody tr th:only-of-type {\n",
              "        vertical-align: middle;\n",
              "    }\n",
              "\n",
              "    .dataframe tbody tr th {\n",
              "        vertical-align: top;\n",
              "    }\n",
              "\n",
              "    .dataframe thead th {\n",
              "        text-align: right;\n",
              "    }\n",
              "</style>\n",
              "<table border=\"1\" class=\"dataframe\">\n",
              "  <thead>\n",
              "    <tr style=\"text-align: right;\">\n",
              "      <th></th>\n",
              "      <th>loss</th>\n",
              "      <th>accuracy</th>\n",
              "      <th>val_loss</th>\n",
              "      <th>val_accuracy</th>\n",
              "      <th>epoch</th>\n",
              "      <th>Learning Rate</th>\n",
              "    </tr>\n",
              "  </thead>\n",
              "  <tbody>\n",
              "    <tr>\n",
              "      <th>0</th>\n",
              "      <td>2.055924</td>\n",
              "      <td>0.180417</td>\n",
              "      <td>1.896290</td>\n",
              "      <td>0.1861</td>\n",
              "      <td>0</td>\n",
              "      <td>.01_</td>\n",
              "    </tr>\n",
              "    <tr>\n",
              "      <th>1</th>\n",
              "      <td>1.841086</td>\n",
              "      <td>0.231400</td>\n",
              "      <td>1.793439</td>\n",
              "      <td>0.2419</td>\n",
              "      <td>1</td>\n",
              "      <td>.01_</td>\n",
              "    </tr>\n",
              "    <tr>\n",
              "      <th>2</th>\n",
              "      <td>1.766737</td>\n",
              "      <td>0.276783</td>\n",
              "      <td>1.738140</td>\n",
              "      <td>0.2939</td>\n",
              "      <td>2</td>\n",
              "      <td>.01_</td>\n",
              "    </tr>\n",
              "    <tr>\n",
              "      <th>3</th>\n",
              "      <td>1.714597</td>\n",
              "      <td>0.321467</td>\n",
              "      <td>1.685037</td>\n",
              "      <td>0.3504</td>\n",
              "      <td>3</td>\n",
              "      <td>.01_</td>\n",
              "    </tr>\n",
              "    <tr>\n",
              "      <th>4</th>\n",
              "      <td>1.669958</td>\n",
              "      <td>0.342367</td>\n",
              "      <td>1.652934</td>\n",
              "      <td>0.3525</td>\n",
              "      <td>4</td>\n",
              "      <td>.01_</td>\n",
              "    </tr>\n",
              "    <tr>\n",
              "      <th>5</th>\n",
              "      <td>2.304282</td>\n",
              "      <td>0.092817</td>\n",
              "      <td>2.303642</td>\n",
              "      <td>0.0955</td>\n",
              "      <td>0</td>\n",
              "      <td>.0001_</td>\n",
              "    </tr>\n",
              "    <tr>\n",
              "      <th>6</th>\n",
              "      <td>2.303604</td>\n",
              "      <td>0.096233</td>\n",
              "      <td>2.303133</td>\n",
              "      <td>0.0996</td>\n",
              "      <td>1</td>\n",
              "      <td>.0001_</td>\n",
              "    </tr>\n",
              "    <tr>\n",
              "      <th>7</th>\n",
              "      <td>2.303136</td>\n",
              "      <td>0.099567</td>\n",
              "      <td>2.302767</td>\n",
              "      <td>0.1014</td>\n",
              "      <td>2</td>\n",
              "      <td>.0001_</td>\n",
              "    </tr>\n",
              "    <tr>\n",
              "      <th>8</th>\n",
              "      <td>2.302791</td>\n",
              "      <td>0.101650</td>\n",
              "      <td>2.302478</td>\n",
              "      <td>0.1026</td>\n",
              "      <td>3</td>\n",
              "      <td>.0001_</td>\n",
              "    </tr>\n",
              "    <tr>\n",
              "      <th>9</th>\n",
              "      <td>2.302506</td>\n",
              "      <td>0.103167</td>\n",
              "      <td>2.302238</td>\n",
              "      <td>0.1039</td>\n",
              "      <td>4</td>\n",
              "      <td>.0001_</td>\n",
              "    </tr>\n",
              "    <tr>\n",
              "      <th>10</th>\n",
              "      <td>2.290769</td>\n",
              "      <td>0.112000</td>\n",
              "      <td>2.305527</td>\n",
              "      <td>0.1028</td>\n",
              "      <td>0</td>\n",
              "      <td>.75_</td>\n",
              "    </tr>\n",
              "    <tr>\n",
              "      <th>11</th>\n",
              "      <td>2.306877</td>\n",
              "      <td>0.104600</td>\n",
              "      <td>2.309823</td>\n",
              "      <td>0.1135</td>\n",
              "      <td>1</td>\n",
              "      <td>.75_</td>\n",
              "    </tr>\n",
              "    <tr>\n",
              "      <th>12</th>\n",
              "      <td>2.306294</td>\n",
              "      <td>0.105150</td>\n",
              "      <td>2.310364</td>\n",
              "      <td>0.0974</td>\n",
              "      <td>2</td>\n",
              "      <td>.75_</td>\n",
              "    </tr>\n",
              "    <tr>\n",
              "      <th>13</th>\n",
              "      <td>2.306600</td>\n",
              "      <td>0.104550</td>\n",
              "      <td>2.305182</td>\n",
              "      <td>0.1135</td>\n",
              "      <td>3</td>\n",
              "      <td>.75_</td>\n",
              "    </tr>\n",
              "    <tr>\n",
              "      <th>14</th>\n",
              "      <td>2.306622</td>\n",
              "      <td>0.104733</td>\n",
              "      <td>2.309963</td>\n",
              "      <td>0.1135</td>\n",
              "      <td>4</td>\n",
              "      <td>.75_</td>\n",
              "    </tr>\n",
              "  </tbody>\n",
              "</table>\n",
              "</div>"
            ],
            "text/plain": [
              "        loss  accuracy  val_loss  val_accuracy  epoch Learning Rate\n",
              "0   2.055924  0.180417  1.896290        0.1861      0          .01_\n",
              "1   1.841086  0.231400  1.793439        0.2419      1          .01_\n",
              "2   1.766737  0.276783  1.738140        0.2939      2          .01_\n",
              "3   1.714597  0.321467  1.685037        0.3504      3          .01_\n",
              "4   1.669958  0.342367  1.652934        0.3525      4          .01_\n",
              "5   2.304282  0.092817  2.303642        0.0955      0        .0001_\n",
              "6   2.303604  0.096233  2.303133        0.0996      1        .0001_\n",
              "7   2.303136  0.099567  2.302767        0.1014      2        .0001_\n",
              "8   2.302791  0.101650  2.302478        0.1026      3        .0001_\n",
              "9   2.302506  0.103167  2.302238        0.1039      4        .0001_\n",
              "10  2.290769  0.112000  2.305527        0.1028      0          .75_\n",
              "11  2.306877  0.104600  2.309823        0.1135      1          .75_\n",
              "12  2.306294  0.105150  2.310364        0.0974      2          .75_\n",
              "13  2.306600  0.104550  2.305182        0.1135      3          .75_\n",
              "14  2.306622  0.104733  2.309963        0.1135      4          .75_"
            ]
          },
          "metadata": {},
          "execution_count": 29
        }
      ]
    },
    {
      "cell_type": "code",
      "metadata": {
        "id": "QgDX7htLpTlQ",
        "colab": {
          "base_uri": "https://localhost:8080/",
          "height": 279
        },
        "outputId": "b5e74b5d-c8ae-4b54-e84e-44f07d830e7a"
      },
      "source": [
        "sns.lineplot(x='epoch', y='val_loss', hue='Learning Rate', data=df);\n",
        "plt.grid()"
      ],
      "execution_count": null,
      "outputs": [
        {
          "output_type": "display_data",
          "data": {
            "image/png": "[encoded data removed]",
            "text/plain": [
              "<Figure size 432x288 with 1 Axes>"
            ]
          },
          "metadata": {
            "needs_background": "light"
          }
        }
      ]
    },
    {
      "cell_type": "code",
      "metadata": {
        "id": "D8GPXqf_qGs9",
        "colab": {
          "base_uri": "https://localhost:8080/",
          "height": 279
        },
        "outputId": "8eedbe28-ec55-4778-e203-0be0d1601784"
      },
      "source": [
        "sns.lineplot(x='epoch', y='val_accuracy', hue='Learning Rate', data=df);\n",
        "plt.grid()"
      ],
      "execution_count": null,
      "outputs": [
        {
          "output_type": "display_data",
          "data": {
            "image/png": "[encoded data removed]",
            "text/plain": [
              "<Figure size 432x288 with 1 Axes>"
            ]
          },
          "metadata": {
            "needs_background": "light"
          }
        }
      ]
    },
    {
      "cell_type": "markdown",
      "metadata": {
        "id": "Kb2aiw_Sgcl7"
      },
      "source": [
        "## Challenge\n",
        "\n",
        "You will be expected to experiment with different learning rates today.\n",
        "\n",
        "---"
      ]
    },
    {
      "cell_type": "markdown",
      "metadata": {
        "id": "GszSNVwUrmXy"
      },
      "source": [
        "# 4. Stretch: How do I know if my neural net is overfitting ?\n",
        "\n",
        "Compare train losses vs. test losses (or use a metric such as accuracy instead of loss) and look for the gap between the curves. \n",
        "\n",
        "\n",
        "See [How to use Learning Curves to Diagnose Machine Learning Model Performance](https://machinelearningmastery.com/learning-curves-for-diagnosing-machine-learning-model-performance/) for further details "
      ]
    },
    {
      "cell_type": "code",
      "metadata": {
        "id": "eP5u3_ZWr3Mn"
      },
      "source": [
        "sns.lineplot(x='epoch', y='val_loss', data=df[df['Learning Rate']=='.01_'], label=\"test_loss\")\n",
        "sns.lineplot(x='epoch', y='loss', data=df[df['Learning Rate']=='.01_'], label=\"train_loss\");"
      ],
      "execution_count": null,
      "outputs": []
    },
    {
      "cell_type": "code",
      "metadata": {
        "id": "aBt1q68UsHoq"
      },
      "source": [
        "sns.lineplot(x='epoch', y='val_accuracy', data=df[df['Learning Rate']=='.01_'])\n",
        "sns.lineplot(x='epoch', y='accuracy', data=df[df['Learning Rate']=='.01_']);"
      ],
      "execution_count": null,
      "outputs": []
    }
  ]
}